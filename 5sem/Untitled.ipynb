{
 "cells": [
  {
   "cell_type": "code",
   "execution_count": 1,
   "id": "205e596f-a08d-42b1-911a-5b2ef133dc8f",
   "metadata": {},
   "outputs": [
    {
     "name": "stderr",
     "output_type": "stream",
     "text": [
      "C:\\Users\\TueHellstern\\AppData\\Local\\Programs\\Python\\Python310\\python.exe: No module named pip\n"
     ]
    }
   ],
   "source": [
    "!python -m pip install mitosheet"
   ]
  },
  {
   "cell_type": "code",
   "execution_count": null,
   "id": "0b2d983f-8a65-488f-9416-84e85a4c60de",
   "metadata": {},
   "outputs": [],
   "source": []
  }
 ],
 "metadata": {
  "kernelspec": {
   "display_name": "Python 3 (ipykernel)",
   "language": "python",
   "name": "python3"
  },
  "language_info": {
   "codemirror_mode": {
    "name": "ipython",
    "version": 3
   },
   "file_extension": ".py",
   "mimetype": "text/x-python",
   "name": "python",
   "nbconvert_exporter": "python",
   "pygments_lexer": "ipython3",
   "version": "3.10.6"
  }
 },
 "nbformat": 4,
 "nbformat_minor": 5
}
