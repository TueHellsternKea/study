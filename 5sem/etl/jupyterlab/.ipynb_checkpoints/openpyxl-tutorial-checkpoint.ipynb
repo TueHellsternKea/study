{
 "cells": [
  {
   "cell_type": "markdown",
   "id": "a164168c",
   "metadata": {},
   "source": [
    "# Openpyxl Tutorial Notebook \n",
    "-----------------------------------------------"
   ]
  },
  {
   "cell_type": "markdown",
   "id": "a2694c12",
   "metadata": {},
   "source": [
    "## Workbooks\n"
   ]
  },
  {
   "cell_type": "code",
   "execution_count": null,
   "id": "fade220b",
   "metadata": {},
   "outputs": [],
   "source": [
    "# load existing excel file\n",
    "from openpyxl import load_workbook\n",
    "wb = load_workbook('sales_data.xlsx')"
   ]
  },
  {
   "cell_type": "code",
   "execution_count": 33,
   "id": "5fdb5e3f",
   "metadata": {},
   "outputs": [],
   "source": [
    "# create new filw\n",
    "from openpyxl import Workbook\n",
    "wb = Workbook()"
   ]
  },
  {
   "cell_type": "code",
   "execution_count": null,
   "id": "ebbf507e",
   "metadata": {},
   "outputs": [],
   "source": [
    "# save the workbook \n",
    "wb.save('NewFile.xlsx')"
   ]
  },
  {
   "cell_type": "markdown",
   "id": "b8e78a13",
   "metadata": {},
   "source": [
    "## Worksheets\n"
   ]
  },
  {
   "cell_type": "code",
   "execution_count": 35,
   "id": "04b7881d",
   "metadata": {},
   "outputs": [],
   "source": [
    "# get active sheet\n",
    "ws = wb.active"
   ]
  },
  {
   "cell_type": "code",
   "execution_count": 40,
   "id": "06e16799",
   "metadata": {},
   "outputs": [],
   "source": [
    "# get sheet by name \n",
    "ws = wb['Sheet1']"
   ]
  },
  {
   "cell_type": "code",
   "execution_count": 41,
   "id": "bfd77070",
   "metadata": {},
   "outputs": [
    {
     "data": {
      "text/plain": [
       "['Sheet1']"
      ]
     },
     "execution_count": 41,
     "metadata": {},
     "output_type": "execute_result"
    }
   ],
   "source": [
    "# get all sheets names \n",
    "wb.sheetnames"
   ]
  },
  {
   "cell_type": "code",
   "execution_count": 42,
   "id": "3277e562",
   "metadata": {},
   "outputs": [
    {
     "name": "stdout",
     "output_type": "stream",
     "text": [
      "['Sheet1', 'NewSheet']\n"
     ]
    }
   ],
   "source": [
    "# create new sheet \n",
    "wb.create_sheet('NewSheet')\n",
    "wb.sheetnames"
   ]
  },
  {
   "cell_type": "code",
   "execution_count": 43,
   "id": "9cd1f516",
   "metadata": {},
   "outputs": [
    {
     "data": {
      "text/plain": [
       "'Sheet1'"
      ]
     },
     "execution_count": 43,
     "metadata": {},
     "output_type": "execute_result"
    }
   ],
   "source": [
    "# get sheet title \n",
    "ws.title"
   ]
  },
  {
   "cell_type": "code",
   "execution_count": 44,
   "id": "5cf16a31",
   "metadata": {},
   "outputs": [
    {
     "data": {
      "text/plain": [
       "'Sheet2'"
      ]
     },
     "execution_count": 44,
     "metadata": {},
     "output_type": "execute_result"
    }
   ],
   "source": [
    "# set sheet title \n",
    "ws.title = 'Sheet2'\n",
    "ws.title"
   ]
  },
  {
   "cell_type": "markdown",
   "id": "2b3cdf31",
   "metadata": {},
   "source": [
    "## Cells, Rows, Columns, and Ranges "
   ]
  },
  {
   "cell_type": "code",
   "execution_count": 45,
   "id": "428df34d",
   "metadata": {},
   "outputs": [
    {
     "data": {
      "text/plain": [
       "'Watch'"
      ]
     },
     "execution_count": 45,
     "metadata": {},
     "output_type": "execute_result"
    }
   ],
   "source": [
    "# get cell value \n",
    "ws['B4'].value"
   ]
  },
  {
   "cell_type": "code",
   "execution_count": 46,
   "id": "8134947a",
   "metadata": {},
   "outputs": [
    {
     "data": {
      "text/plain": [
       "'Cup'"
      ]
     },
     "execution_count": 46,
     "metadata": {},
     "output_type": "execute_result"
    }
   ],
   "source": [
    "# set cell value \n",
    "ws['B4'] = 'Cup'\n",
    "ws['B4'].value"
   ]
  },
  {
   "cell_type": "code",
   "execution_count": 47,
   "id": "42734678",
   "metadata": {},
   "outputs": [],
   "source": [
    "# append entire row\n",
    "ws.append(['test1', 'test2', 'test3', 'test4'])"
   ]
  },
  {
   "cell_type": "code",
   "execution_count": 48,
   "id": "3a07d963",
   "metadata": {},
   "outputs": [],
   "source": [
    "# EXAMPLE: Append multiple rows \n",
    "from openpyxl import Workbook\n",
    "wb = Workbook()\n",
    "\n",
    "ws = wb.active\n",
    "\n",
    "ws.append(['test1', 'test2', 'test3', 'test4'])\n",
    "ws.append(['test5', 'test6', 'test3', ])\n",
    "ws.append(['', 'test7', 'test8'])\n",
    "ws.append(['test9', '', '', 'test10'])\n",
    "ws.append(['test11', 'test12', '', 'test13'])\n",
    "\n",
    "wb.save('test-file.xlsx')"
   ]
  },
  {
   "cell_type": "code",
   "execution_count": 49,
   "id": "dad394ba",
   "metadata": {},
   "outputs": [],
   "source": [
    "# merge cells \n",
    "ws.merge_cells('A1:D3')"
   ]
  },
  {
   "cell_type": "code",
   "execution_count": 50,
   "id": "1a7771c4",
   "metadata": {},
   "outputs": [],
   "source": [
    "# unmerge cells \n",
    "ws.unmerge_cells('A1:D3')"
   ]
  },
  {
   "cell_type": "code",
   "execution_count": 51,
   "id": "f85d75e7",
   "metadata": {},
   "outputs": [],
   "source": [
    "# insert an empty row \n",
    "ws.insert_rows(3)"
   ]
  },
  {
   "cell_type": "code",
   "execution_count": 52,
   "id": "32872f2a",
   "metadata": {},
   "outputs": [],
   "source": [
    "# delete a row\n",
    "ws.delete_rows(3)"
   ]
  },
  {
   "cell_type": "code",
   "execution_count": null,
   "id": "a33d4a17",
   "metadata": {},
   "outputs": [],
   "source": [
    "# insert an empty column\n",
    "ws.insert_cols(2)"
   ]
  },
  {
   "cell_type": "code",
   "execution_count": 53,
   "id": "a5e853cd",
   "metadata": {},
   "outputs": [],
   "source": [
    "# delete a column \n",
    "ws.delete_cols(2)"
   ]
  },
  {
   "cell_type": "code",
   "execution_count": 55,
   "id": "654dbb4a",
   "metadata": {},
   "outputs": [],
   "source": [
    "# EXAMPLE: append multiple filled rows, then an enpty row and and empty column \n",
    "from openpyxl import Workbook\n",
    "wb = Workbook()\n",
    "\n",
    "ws = wb.active\n",
    "\n",
    "ws.append([1, 2, 3, 4])\n",
    "ws.append([5, 6, 7, 8])\n",
    "ws.append([9, 10, 11, 12])\n",
    "ws.append([13, 14, 15, 16])\n",
    "ws.append([17, 18, 19, 20])\n",
    "\n",
    "ws.insert_rows(3)\n",
    "ws.insert_cols(2)\n",
    "\n",
    "wb.save('test-file2.xlsx')"
   ]
  },
  {
   "cell_type": "code",
   "execution_count": 57,
   "id": "356a268a",
   "metadata": {},
   "outputs": [],
   "source": [
    "# EXAMPLE: append multiple rows, then the entire range \n",
    "from openpyxl import Workbook\n",
    "wb = Workbook()\n",
    "\n",
    "ws = wb.active\n",
    "\n",
    "ws.append([1, 2, 3, 4])\n",
    "ws.append([5, 6, 7, 8])\n",
    "ws.append([9, 10, 11, 12])\n",
    "ws.append([13, 14, 15, 16])\n",
    "ws.append([17, 18, 19, 20])\n",
    "\n",
    "ws.move_range('A1:D5', rows=3, cols=3)\n",
    "\n",
    "wb.save('test-file3.xlsx')"
   ]
  },
  {
   "cell_type": "markdown",
   "id": "476659d4",
   "metadata": {},
   "source": [
    "## Formulas "
   ]
  },
  {
   "cell_type": "code",
   "execution_count": null,
   "id": "9774e5f8",
   "metadata": {},
   "outputs": [],
   "source": [
    "# EXAMPLE: using SUM formula \n",
    "from openpyxl import Workbook\n",
    "\n",
    "wb = Workbook()\n",
    "ws = wb.active\n",
    "\n",
    "rows = [\n",
    "    ['Id', 'Quantity', 'Price', 'Solde'],\n",
    "    ['id-001', 27, 129.99, 24],\n",
    "    ['id-002', 144, 24.99, 30],\n",
    "    ['id-003', 57, 35.99, 45],\n",
    "    ['id-004', 67, 15.99, 40],\n",
    "    ['id-005', 44, 30.99, 30],\n",
    "    ['id-006', 17, 25.99, 35],\n",
    "]\n",
    "\n",
    "for row in rows:\n",
    "    ws.append(row)\n",
    "    \n",
    "ws['C9'] = '=SUM(C2:C7)' \n",
    "\n",
    "wb.save('SUM-formula-file.xlsx')"
   ]
  },
  {
   "cell_type": "markdown",
   "id": "9ce118cf",
   "metadata": {},
   "source": [
    "## Lookups"
   ]
  },
  {
   "cell_type": "code",
   "execution_count": 75,
   "id": "ada40b8f",
   "metadata": {},
   "outputs": [],
   "source": [
    "# EXAMPLE: try look up using both pure python as well as using a formula\n",
    "from openpyxl import Workbook\n",
    "\n",
    "wb = Workbook()\n",
    "ws = wb.active\n",
    "\n",
    "rows = [\n",
    "    ['Id', 'Quantity', 'Price', 'Solde'],\n",
    "    ['id-001', 27, 129.99, 24],\n",
    "    ['id-002', 144, 24.99, 30],\n",
    "    ['id-003', 57, 35.99, 45],\n",
    "    ['id-004', 67, 15.99, 40],\n",
    "    ['id-005', 44, 30.99, 30],\n",
    "    ['id-006', 17, 25.99, 35],\n",
    "]\n",
    "\n",
    "for row in rows:\n",
    "    ws.append(row)\n",
    "    \n",
    "ws['F1'].value = 'Id'\n",
    "ws['G1'].value = 'Price'\n",
    "\n",
    "ws['F2'].value = 'id-004'\n",
    "\n",
    "for row in ws.rows:\n",
    "    if row[0].value == ws['F2'].value:\n",
    "        ws['G2'] = row[2].value\n",
    "        \n",
    "ws['G4'] = '=LOOKUP(F2, A1:A7,C1:C7)'   \n",
    "\n",
    "wb.save('lookup-file.xlsx') "
   ]
  }
 ],
 "metadata": {
  "kernelspec": {
   "display_name": "Python 3 (ipykernel)",
   "language": "python",
   "name": "python3"
  },
  "language_info": {
   "codemirror_mode": {
    "name": "ipython",
    "version": 3
   },
   "file_extension": ".py",
   "mimetype": "text/x-python",
   "name": "python",
   "nbconvert_exporter": "python",
   "pygments_lexer": "ipython3",
   "version": "3.9.12"
  }
 },
 "nbformat": 4,
 "nbformat_minor": 5
}
