{
 "cells": [
  {
   "cell_type": "code",
   "execution_count": null,
   "id": "9a6c38a9-ec27-499c-8d11-b556211ab211",
   "metadata": {},
   "outputs": [],
   "source": [
    "df = pd.read_excel('sales_data.xlsx')"
   ]
  },
  {
   "cell_type": "code",
   "execution_count": null,
   "id": "8896c5c5-804d-4ab6-ba0c-e2aafb688b4e",
   "metadata": {},
   "outputs": [],
   "source": [
    "list(df.columns)"
   ]
  },
  {
   "cell_type": "code",
   "execution_count": null,
   "id": "68902a23-337e-4452-86fc-9511094a2371",
   "metadata": {},
   "outputs": [],
   "source": [
    "df.shape"
   ]
  },
  {
   "cell_type": "code",
   "execution_count": null,
   "id": "ea8907d0-12e2-4068-898a-5c36131e74be",
   "metadata": {},
   "outputs": [],
   "source": [
    "column = df['Client Name']\n",
    "print(column)"
   ]
  },
  {
   "cell_type": "code",
   "execution_count": null,
   "id": "76ccf180-535a-4d20-b212-83b59ff9b577",
   "metadata": {},
   "outputs": [],
   "source": [
    "df2 = df[['Client Name' ,'Item']]\n",
    "print(df2)"
   ]
  },
  {
   "cell_type": "code",
   "execution_count": null,
   "id": "3149855e-6b02-4717-9e5b-a1b9b0455222",
   "metadata": {},
   "outputs": [],
   "source": [
    "df.drop('Location', axis=1, inplace=True)\n",
    "print(df)"
   ]
  },
  {
   "cell_type": "code",
   "execution_count": null,
   "id": "88df5f73-9798-4fbc-97dc-2a074f9fe212",
   "metadata": {},
   "outputs": [],
   "source": [
    "df.loc[0]"
   ]
  },
  {
   "cell_type": "code",
   "execution_count": null,
   "id": "d0efdd50-3702-41c9-99bd-6664473ab4fe",
   "metadata": {},
   "outputs": [],
   "source": [
    "df.drop(7, axis=0, inplace=True)\n",
    "print(df)"
   ]
  },
  {
   "cell_type": "code",
   "execution_count": null,
   "id": "f81a5892-2c98-49de-9654-0260b92c5990",
   "metadata": {},
   "outputs": [],
   "source": [
    "df.drop([2,3,6], axis=0, inplace=True)\n",
    "print(df)"
   ]
  },
  {
   "cell_type": "code",
   "execution_count": null,
   "id": "69184de1-af41-4252-9ed9-ec3d05c651a8",
   "metadata": {},
   "outputs": [],
   "source": [
    "results = df['Full Price', 'Discount'].aggregate('sum')\n",
    "print(results)"
   ]
  },
  {
   "cell_type": "code",
   "execution_count": null,
   "id": "4de53cf9-1e56-45a8-b53b-d5cb5428f263",
   "metadata": {},
   "outputs": [],
   "source": []
  }
 ],
 "metadata": {
  "kernelspec": {
   "display_name": "Python 3 (ipykernel)",
   "language": "python",
   "name": "python3"
  },
  "language_info": {
   "codemirror_mode": {
    "name": "ipython",
    "version": 3
   },
   "file_extension": ".py",
   "mimetype": "text/x-python",
   "name": "python",
   "nbconvert_exporter": "python",
   "pygments_lexer": "ipython3",
   "version": "3.10.2"
  }
 },
 "nbformat": 4,
 "nbformat_minor": 5
}
