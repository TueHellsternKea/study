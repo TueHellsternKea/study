{
 "cells": [
  {
   "cell_type": "code",
   "execution_count": 15,
   "id": "9a6c38a9-ec27-499c-8d11-b556211ab211",
   "metadata": {},
   "outputs": [],
   "source": [
    "df = pd.read_excel('sales_data.xlsx')"
   ]
  },
  {
   "cell_type": "code",
   "execution_count": 16,
   "id": "8896c5c5-804d-4ab6-ba0c-e2aafb688b4e",
   "metadata": {},
   "outputs": [
    {
     "data": {
      "text/plain": [
       "['Client Name', 'Item', 'Location', 'Full Price', 'Discount']"
      ]
     },
     "execution_count": 16,
     "metadata": {},
     "output_type": "execute_result"
    }
   ],
   "source": [
    "list(df.columns)"
   ]
  },
  {
   "cell_type": "code",
   "execution_count": 17,
   "id": "68902a23-337e-4452-86fc-9511094a2371",
   "metadata": {},
   "outputs": [
    {
     "data": {
      "text/plain": [
       "(11, 5)"
      ]
     },
     "execution_count": 17,
     "metadata": {},
     "output_type": "execute_result"
    }
   ],
   "source": [
    "# Size - Rows/Columns\n",
    "df.shape"
   ]
  },
  {
   "cell_type": "code",
   "execution_count": 26,
   "id": "8bea4b50-c9d7-45be-8bf2-1e1efaddb539",
   "metadata": {},
   "outputs": [
    {
     "data": {
      "text/plain": [
       "Client Name    object\n",
       "Item           object\n",
       "Full Price      int64\n",
       "Discount        int64\n",
       "dtype: object"
      ]
     },
     "execution_count": 26,
     "metadata": {},
     "output_type": "execute_result"
    }
   ],
   "source": [
    "# Datatypes\n",
    "df.dtypes"
   ]
  },
  {
   "cell_type": "code",
   "execution_count": 18,
   "id": "ea8907d0-12e2-4068-898a-5c36131e74be",
   "metadata": {},
   "outputs": [
    {
     "name": "stdout",
     "output_type": "stream",
     "text": [
      "0        John\n",
      "1        Sara\n",
      "2       Kevin\n",
      "3        John\n",
      "4     Natasha\n",
      "5     Natasha\n",
      "6       Amine\n",
      "7        Sara\n",
      "8        John\n",
      "9      Angela\n",
      "10      Kevin\n",
      "Name: Client Name, dtype: object\n"
     ]
    }
   ],
   "source": [
    "column = df['Client Name']\n",
    "print(column)"
   ]
  },
  {
   "cell_type": "code",
   "execution_count": 19,
   "id": "76ccf180-535a-4d20-b212-83b59ff9b577",
   "metadata": {},
   "outputs": [
    {
     "name": "stdout",
     "output_type": "stream",
     "text": [
      "   Client Name        Item\n",
      "0         John      Laptop\n",
      "1         Sara       Phone\n",
      "2        Kevin       Watch\n",
      "3         John       Phone\n",
      "4      Natasha     Console\n",
      "5      Natasha      Laptop\n",
      "6        Amine  Microphone\n",
      "7         Sara       Watch\n",
      "8         John    Keyboard\n",
      "9       Angela       Phone\n",
      "10       Kevin       Mouse\n"
     ]
    }
   ],
   "source": [
    "df2 = df[['Client Name' ,'Item']]\n",
    "print(df2)"
   ]
  },
  {
   "cell_type": "code",
   "execution_count": 20,
   "id": "3149855e-6b02-4717-9e5b-a1b9b0455222",
   "metadata": {},
   "outputs": [
    {
     "name": "stdout",
     "output_type": "stream",
     "text": [
      "   Client Name        Item  Full Price  Discount\n",
      "0         John      Laptop        1500       150\n",
      "1         Sara       Phone         650         0\n",
      "2        Kevin       Watch         220         0\n",
      "3         John       Phone         800        20\n",
      "4      Natasha     Console         300         0\n",
      "5      Natasha      Laptop        2000       120\n",
      "6        Amine  Microphone          80         0\n",
      "7         Sara       Watch         300        15\n",
      "8         John    Keyboard          60         5\n",
      "9       Angela       Phone        1000         0\n",
      "10       Kevin       Mouse          40         5\n"
     ]
    }
   ],
   "source": [
    "df.drop('Location', axis=1, inplace=True)\n",
    "print(df)"
   ]
  },
  {
   "cell_type": "code",
   "execution_count": 21,
   "id": "88df5f73-9798-4fbc-97dc-2a074f9fe212",
   "metadata": {},
   "outputs": [
    {
     "data": {
      "text/plain": [
       "Client Name      John\n",
       "Item           Laptop\n",
       "Full Price       1500\n",
       "Discount          150\n",
       "Name: 0, dtype: object"
      ]
     },
     "execution_count": 21,
     "metadata": {},
     "output_type": "execute_result"
    }
   ],
   "source": [
    "df.loc[0]"
   ]
  },
  {
   "cell_type": "code",
   "execution_count": 22,
   "id": "d0efdd50-3702-41c9-99bd-6664473ab4fe",
   "metadata": {},
   "outputs": [
    {
     "name": "stdout",
     "output_type": "stream",
     "text": [
      "   Client Name        Item  Full Price  Discount\n",
      "0         John      Laptop        1500       150\n",
      "1         Sara       Phone         650         0\n",
      "2        Kevin       Watch         220         0\n",
      "3         John       Phone         800        20\n",
      "4      Natasha     Console         300         0\n",
      "5      Natasha      Laptop        2000       120\n",
      "6        Amine  Microphone          80         0\n",
      "8         John    Keyboard          60         5\n",
      "9       Angela       Phone        1000         0\n",
      "10       Kevin       Mouse          40         5\n"
     ]
    }
   ],
   "source": [
    "df.drop(7, axis=0, inplace=True)\n",
    "print(df)"
   ]
  },
  {
   "cell_type": "code",
   "execution_count": 23,
   "id": "f81a5892-2c98-49de-9654-0260b92c5990",
   "metadata": {},
   "outputs": [
    {
     "name": "stdout",
     "output_type": "stream",
     "text": [
      "   Client Name      Item  Full Price  Discount\n",
      "0         John    Laptop        1500       150\n",
      "1         Sara     Phone         650         0\n",
      "4      Natasha   Console         300         0\n",
      "5      Natasha    Laptop        2000       120\n",
      "8         John  Keyboard          60         5\n",
      "9       Angela     Phone        1000         0\n",
      "10       Kevin     Mouse          40         5\n"
     ]
    }
   ],
   "source": [
    "df.drop([2,3,6], axis=0, inplace=True)\n",
    "print(df)"
   ]
  },
  {
   "cell_type": "code",
   "execution_count": 28,
   "id": "69184de1-af41-4252-9ed9-ec3d05c651a8",
   "metadata": {},
   "outputs": [
    {
     "name": "stdout",
     "output_type": "stream",
     "text": [
      "Full Price    5550\n",
      "Discount       280\n",
      "dtype: int64\n"
     ]
    }
   ],
   "source": [
    "results = df[['Full Price', 'Discount']].aggregate('sum')\n",
    "print(results)"
   ]
  },
  {
   "cell_type": "code",
   "execution_count": 29,
   "id": "4de53cf9-1e56-45a8-b53b-d5cb5428f263",
   "metadata": {},
   "outputs": [
    {
     "name": "stdout",
     "output_type": "stream",
     "text": [
      "     Full Price  Discount\n",
      "sum      5550.0       NaN\n",
      "min         NaN       0.0\n",
      "max         NaN     150.0\n"
     ]
    }
   ],
   "source": [
    "results = df.aggregate({'Full Price':'sum','Discount':['min', 'max']})\n",
    "print(results)"
   ]
  },
  {
   "cell_type": "code",
   "execution_count": null,
   "id": "7bab14d1-d416-4f60-a61c-1ddaa91ad844",
   "metadata": {},
   "outputs": [],
   "source": []
  }
 ],
 "metadata": {
  "kernelspec": {
   "display_name": "Python 3 (ipykernel)",
   "language": "python",
   "name": "python3"
  },
  "language_info": {
   "codemirror_mode": {
    "name": "ipython",
    "version": 3
   },
   "file_extension": ".py",
   "mimetype": "text/x-python",
   "name": "python",
   "nbconvert_exporter": "python",
   "pygments_lexer": "ipython3",
   "version": "3.10.2"
  }
 },
 "nbformat": 4,
 "nbformat_minor": 5
}
