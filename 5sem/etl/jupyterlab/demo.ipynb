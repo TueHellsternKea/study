{
 "cells": [
  {
   "cell_type": "code",
   "execution_count": null,
   "id": "4c507fc4-191d-4176-9a9a-3fcf836e75ae",
   "metadata": {},
   "outputs": [],
   "source": [
    "import pandas as pd"
   ]
  },
  {
   "cell_type": "code",
   "execution_count": null,
   "id": "9a6c38a9-ec27-499c-8d11-b556211ab211",
   "metadata": {},
   "outputs": [],
   "source": [
    "df = pd.read_excel('sales_data.xlsx')"
   ]
  },
  {
   "cell_type": "code",
   "execution_count": null,
   "id": "8896c5c5-804d-4ab6-ba0c-e2aafb688b4e",
   "metadata": {},
   "outputs": [],
   "source": [
    "list(df.columns)"
   ]
  },
  {
   "cell_type": "code",
   "execution_count": null,
   "id": "68902a23-337e-4452-86fc-9511094a2371",
   "metadata": {},
   "outputs": [],
   "source": [
    "# Size - Rows/Columns\n",
    "df.shape"
   ]
  },
  {
   "cell_type": "code",
   "execution_count": null,
   "id": "30d1efe4-d76e-42b4-9150-151bd640575c",
   "metadata": {},
   "outputs": [],
   "source": [
    "print(df)"
   ]
  },
  {
   "cell_type": "code",
   "execution_count": null,
   "id": "8bea4b50-c9d7-45be-8bf2-1e1efaddb539",
   "metadata": {},
   "outputs": [],
   "source": [
    "# Datatypes\n",
    "df.dtypes"
   ]
  },
  {
   "cell_type": "code",
   "execution_count": null,
   "id": "a485bb9c-3bcf-4ca1-82dc-383320a8437f",
   "metadata": {},
   "outputs": [],
   "source": [
    "df['Client Name']"
   ]
  },
  {
   "cell_type": "code",
   "execution_count": null,
   "id": "ea8907d0-12e2-4068-898a-5c36131e74be",
   "metadata": {},
   "outputs": [],
   "source": [
    "column = df['Client Name']\n",
    "print(column)"
   ]
  },
  {
   "cell_type": "code",
   "execution_count": null,
   "id": "76ccf180-535a-4d20-b212-83b59ff9b577",
   "metadata": {},
   "outputs": [],
   "source": [
    "df2 = df[['Client Name' ,'Item']]\n",
    "print(df2)"
   ]
  },
  {
   "cell_type": "code",
   "execution_count": null,
   "id": "3149855e-6b02-4717-9e5b-a1b9b0455222",
   "metadata": {},
   "outputs": [],
   "source": [
    "df.drop('Location', axis=1, inplace=True)\n",
    "print(df)"
   ]
  },
  {
   "cell_type": "code",
   "execution_count": null,
   "id": "88df5f73-9798-4fbc-97dc-2a074f9fe212",
   "metadata": {},
   "outputs": [],
   "source": [
    "df.loc[0]"
   ]
  },
  {
   "cell_type": "code",
   "execution_count": null,
   "id": "d0efdd50-3702-41c9-99bd-6664473ab4fe",
   "metadata": {},
   "outputs": [],
   "source": [
    "df.drop(7, axis=0, inplace=True)\n",
    "print(df)"
   ]
  },
  {
   "cell_type": "code",
   "execution_count": null,
   "id": "f81a5892-2c98-49de-9654-0260b92c5990",
   "metadata": {},
   "outputs": [],
   "source": [
    "df.drop([2,3,6], axis=0, inplace=True)\n",
    "print(df)"
   ]
  },
  {
   "cell_type": "code",
   "execution_count": null,
   "id": "69184de1-af41-4252-9ed9-ec3d05c651a8",
   "metadata": {},
   "outputs": [],
   "source": [
    "results = df[['Full Price', 'Discount']].aggregate('sum')\n",
    "print(results)"
   ]
  },
  {
   "cell_type": "code",
   "execution_count": null,
   "id": "4de53cf9-1e56-45a8-b53b-d5cb5428f263",
   "metadata": {},
   "outputs": [],
   "source": [
    "results = df.aggregate({'Full Price':'sum','Discount':['min', 'max']})\n",
    "print(results)"
   ]
  },
  {
   "cell_type": "markdown",
   "id": "2d001d19-378b-47b7-92f5-cb0f618f8015",
   "metadata": {},
   "source": [
    "# Product data"
   ]
  },
  {
   "cell_type": "code",
   "execution_count": 24,
   "id": "9ad98ee8-6a2f-4115-a1e3-3bff5b1ca278",
   "metadata": {},
   "outputs": [
    {
     "data": {
      "text/html": [
       "<div>\n",
       "<style scoped>\n",
       "    .dataframe tbody tr th:only-of-type {\n",
       "        vertical-align: middle;\n",
       "    }\n",
       "\n",
       "    .dataframe tbody tr th {\n",
       "        vertical-align: top;\n",
       "    }\n",
       "\n",
       "    .dataframe thead th {\n",
       "        text-align: right;\n",
       "    }\n",
       "</style>\n",
       "<table border=\"1\" class=\"dataframe\">\n",
       "  <thead>\n",
       "    <tr style=\"text-align: right;\">\n",
       "      <th></th>\n",
       "      <th>Product</th>\n",
       "      <th>Price</th>\n",
       "      <th>Tax</th>\n",
       "      <th>Total</th>\n",
       "    </tr>\n",
       "  </thead>\n",
       "  <tbody>\n",
       "    <tr>\n",
       "      <th>0</th>\n",
       "      <td>Product 1</td>\n",
       "      <td>61</td>\n",
       "      <td>15.25</td>\n",
       "      <td>76.25</td>\n",
       "    </tr>\n",
       "    <tr>\n",
       "      <th>1</th>\n",
       "      <td>Product 2</td>\n",
       "      <td>92</td>\n",
       "      <td>23.00</td>\n",
       "      <td>115.00</td>\n",
       "    </tr>\n",
       "    <tr>\n",
       "      <th>2</th>\n",
       "      <td>Product 3</td>\n",
       "      <td>11</td>\n",
       "      <td>2.75</td>\n",
       "      <td>13.75</td>\n",
       "    </tr>\n",
       "    <tr>\n",
       "      <th>3</th>\n",
       "      <td>Product 4</td>\n",
       "      <td>11</td>\n",
       "      <td>2.75</td>\n",
       "      <td>13.75</td>\n",
       "    </tr>\n",
       "    <tr>\n",
       "      <th>4</th>\n",
       "      <td>Product 5</td>\n",
       "      <td>25</td>\n",
       "      <td>6.25</td>\n",
       "      <td>31.25</td>\n",
       "    </tr>\n",
       "    <tr>\n",
       "      <th>5</th>\n",
       "      <td>Product 6</td>\n",
       "      <td>63</td>\n",
       "      <td>15.75</td>\n",
       "      <td>78.75</td>\n",
       "    </tr>\n",
       "    <tr>\n",
       "      <th>6</th>\n",
       "      <td>Product 7</td>\n",
       "      <td>70</td>\n",
       "      <td>17.50</td>\n",
       "      <td>87.50</td>\n",
       "    </tr>\n",
       "    <tr>\n",
       "      <th>7</th>\n",
       "      <td>Product 8</td>\n",
       "      <td>87</td>\n",
       "      <td>21.75</td>\n",
       "      <td>108.75</td>\n",
       "    </tr>\n",
       "    <tr>\n",
       "      <th>8</th>\n",
       "      <td>Product 9</td>\n",
       "      <td>78</td>\n",
       "      <td>19.50</td>\n",
       "      <td>97.50</td>\n",
       "    </tr>\n",
       "    <tr>\n",
       "      <th>9</th>\n",
       "      <td>Product 10</td>\n",
       "      <td>37</td>\n",
       "      <td>9.25</td>\n",
       "      <td>46.25</td>\n",
       "    </tr>\n",
       "  </tbody>\n",
       "</table>\n",
       "</div>"
      ],
      "text/plain": [
       "      Product  Price    Tax   Total\n",
       "0   Product 1     61  15.25   76.25\n",
       "1   Product 2     92  23.00  115.00\n",
       "2   Product 3     11   2.75   13.75\n",
       "3   Product 4     11   2.75   13.75\n",
       "4   Product 5     25   6.25   31.25\n",
       "5   Product 6     63  15.75   78.75\n",
       "6   Product 7     70  17.50   87.50\n",
       "7   Product 8     87  21.75  108.75\n",
       "8   Product 9     78  19.50   97.50\n",
       "9  Product 10     37   9.25   46.25"
      ]
     },
     "execution_count": 24,
     "metadata": {},
     "output_type": "execute_result"
    }
   ],
   "source": [
    "df_productdata = pd.read_excel('product_data.xlsx')\n",
    "df_productdata"
   ]
  },
  {
   "cell_type": "code",
   "execution_count": 25,
   "id": "240564e4-eb81-428c-8c5c-c6536050f477",
   "metadata": {},
   "outputs": [
    {
     "name": "stdout",
     "output_type": "stream",
     "text": [
      "     Product  Price    Tax   Total\n",
      "0  Product 1     61  15.25   76.25\n",
      "1  Product 2     92  23.00  115.00\n",
      "2  Product 3     11   2.75   13.75\n",
      "4  Product 5     25   6.25   31.25\n",
      "5  Product 6     63  15.75   78.75\n",
      "7  Product 8     87  21.75  108.75\n",
      "8  Product 9     78  19.50   97.50\n"
     ]
    }
   ],
   "source": [
    "df_productdata.drop([3,6,9], axis=0, inplace=True)\n",
    "print(df_productdata)"
   ]
  },
  {
   "cell_type": "code",
   "execution_count": 26,
   "id": "173da721-81df-4c93-b124-632b73eb4e86",
   "metadata": {},
   "outputs": [
    {
     "name": "stdout",
     "output_type": "stream",
     "text": [
      "Total    521.25\n",
      "dtype: float64\n"
     ]
    }
   ],
   "source": [
    "Sum_Total = df_productdata[['Total']].aggregate('sum')\n",
    "print(Sum_Total)"
   ]
  },
  {
   "cell_type": "code",
   "execution_count": 28,
   "id": "26c6c63f-32d8-4fd6-937b-0ce5217c69e8",
   "metadata": {},
   "outputs": [],
   "source": [
    "# Saving the file\n",
    "df_productdata.to_excel('final_df_productdata.xlsx', index=False)"
   ]
  },
  {
   "cell_type": "code",
   "execution_count": null,
   "id": "06621a22-d76a-48ef-af87-1f6a11e46a72",
   "metadata": {},
   "outputs": [],
   "source": []
  }
 ],
 "metadata": {
  "kernelspec": {
   "display_name": "Python 3 (ipykernel)",
   "language": "python",
   "name": "python3"
  },
  "language_info": {
   "codemirror_mode": {
    "name": "ipython",
    "version": 3
   },
   "file_extension": ".py",
   "mimetype": "text/x-python",
   "name": "python",
   "nbconvert_exporter": "python",
   "pygments_lexer": "ipython3",
   "version": "3.10.6"
  }
 },
 "nbformat": 4,
 "nbformat_minor": 5
}
