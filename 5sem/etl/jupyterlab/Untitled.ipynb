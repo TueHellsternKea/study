{
 "cells": [
  {
   "cell_type": "code",
   "execution_count": null,
   "id": "6b808db4-27df-46a4-96de-61968e7c9913",
   "metadata": {},
   "outputs": [],
   "source": [
    "!pip3 install openpyxl "
   ]
  },
  {
   "cell_type": "code",
   "execution_count": null,
   "id": "92da255d-745d-4fca-bda2-17f8bf9e3cfc",
   "metadata": {},
   "outputs": [],
   "source": []
  }
 ],
 "metadata": {
  "kernelspec": {
   "display_name": "Python 3 (ipykernel)",
   "language": "python",
   "name": "python3"
  },
  "language_info": {
   "codemirror_mode": {
    "name": "ipython",
    "version": 3
   },
   "file_extension": ".py",
   "mimetype": "text/x-python",
   "name": "python",
   "nbconvert_exporter": "python",
   "pygments_lexer": "ipython3",
   "version": "3.10.6"
  }
 },
 "nbformat": 4,
 "nbformat_minor": 5
}
