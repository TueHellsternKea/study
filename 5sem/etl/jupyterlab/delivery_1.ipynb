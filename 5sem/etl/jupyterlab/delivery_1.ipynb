{
 "cells": [
  {
   "cell_type": "markdown",
   "id": "8f2bd9ca-6f6c-4f71-8167-07015edd0fdf",
   "metadata": {},
   "source": [
    "# Delivery 1"
   ]
  },
  {
   "cell_type": "code",
   "execution_count": 32,
   "id": "71ab7ab1-bffb-41f0-8017-b25544be9821",
   "metadata": {},
   "outputs": [],
   "source": [
    "# Import module\n",
    "from openpyxl import load_workbook"
   ]
  },
  {
   "cell_type": "code",
   "execution_count": 33,
   "id": "58708b41-83e5-4568-8a95-121a1ea46d8b",
   "metadata": {},
   "outputs": [],
   "source": [
    "# Import customer _data.xlsx\n",
    "wb = load_workbook('customer_data.xlsx')"
   ]
  },
  {
   "cell_type": "code",
   "execution_count": 34,
   "id": "a3d242ca-d3ea-4b6b-a5a2-5a51e7ffc7d0",
   "metadata": {},
   "outputs": [],
   "source": [
    "# Set active sheet\n",
    "ws = wb.active"
   ]
  },
  {
   "cell_type": "code",
   "execution_count": 35,
   "id": "061a3c04-d61f-4083-a4ec-da2455963f8f",
   "metadata": {},
   "outputs": [],
   "source": [
    "# Inser formula in H = F x G\n",
    "\n",
    "# Heading\n",
    "ws['H1'] = 'Total' \n",
    "\n",
    "# Num rows\n",
    "max_row_num = ws.max_row\n",
    "\n",
    "# Insert formula\n",
    "for row_num in range(2, max_row_num):\n",
    "    ws['H{}'.format(row_num)] = '=F{}'.format(row_num)+'*G{}'.format(row_num)"
   ]
  },
  {
   "cell_type": "code",
   "execution_count": null,
   "id": "a6c16ccf-288f-4a11-830f-17a27d5ca774",
   "metadata": {},
   "outputs": [],
   "source": []
  },
  {
   "cell_type": "code",
   "execution_count": 36,
   "id": "3301ab86-aec7-458d-be55-3fd2e6d6577d",
   "metadata": {},
   "outputs": [],
   "source": [
    "# Save Excel file\n",
    "wb.save('test_formula.xlsx')"
   ]
  },
  {
   "cell_type": "code",
   "execution_count": null,
   "id": "c9d50b8e-a160-43ba-b116-75f7c7e52fbc",
   "metadata": {},
   "outputs": [],
   "source": []
  }
 ],
 "metadata": {
  "kernelspec": {
   "display_name": "Python 3 (ipykernel)",
   "language": "python",
   "name": "python3"
  },
  "language_info": {
   "codemirror_mode": {
    "name": "ipython",
    "version": 3
   },
   "file_extension": ".py",
   "mimetype": "text/x-python",
   "name": "python",
   "nbconvert_exporter": "python",
   "pygments_lexer": "ipython3",
   "version": "3.10.2"
  }
 },
 "nbformat": 4,
 "nbformat_minor": 5
}
