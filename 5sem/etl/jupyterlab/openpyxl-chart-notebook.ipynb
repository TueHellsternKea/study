{
 "cells": [
  {
   "cell_type": "markdown",
   "id": "01185939",
   "metadata": {},
   "source": [
    "# Openpyxl Chart Notebook"
   ]
  },
  {
   "cell_type": "markdown",
   "id": "c9e1e7db",
   "metadata": {},
   "source": [
    "---------------------------------------"
   ]
  },
  {
   "cell_type": "code",
   "execution_count": 1,
   "id": "212976b7",
   "metadata": {},
   "outputs": [],
   "source": [
    "from openpyxl import Workbook\n",
    "from openpyxl.chart import LineChart, Reference\n",
    "from datetime import date\n",
    "\n",
    "wb = Workbook()\n",
    "ws = wb.active\n",
    "\n",
    "# Add data to active sheet\n",
    "rows = [\n",
    "    ['Date', 'Batch 1', 'Batch 2', 'Batch 3'],\n",
    "    [date(2015,9, 1), 40, 30, 25],\n",
    "    [date(2015,9, 2), 40, 25, 30],\n",
    "    [date(2015,9, 3), 50, 30, 45],\n",
    "    [date(2015,9, 4), 30, 25, 40],\n",
    "    [date(2015,9, 5), 25, 35, 30],\n",
    "    [date(2015,9, 6), 20, 40, 35],\n",
    "]\n",
    "\n",
    "for row in rows:\n",
    "    ws.append(row)"
   ]
  },
  {
   "cell_type": "code",
   "execution_count": 2,
   "id": "efb2ef1e",
   "metadata": {},
   "outputs": [],
   "source": [
    "# Setup the Chart    \n",
    "c1 = LineChart()\n",
    "c1.title = \"Line Chart\"\n",
    "c1.style = 13\n",
    "c1.y_axis.title = 'Size'\n",
    "c1.x_axis.title = 'Test Number'"
   ]
  },
  {
   "cell_type": "code",
   "execution_count": 3,
   "id": "75c4bd2f",
   "metadata": {},
   "outputs": [],
   "source": [
    "data = Reference(ws, min_col=2, min_row=1, max_col=4, max_row=7)\n",
    "c1.add_data(data, titles_from_data=True)"
   ]
  },
  {
   "cell_type": "code",
   "execution_count": 4,
   "id": "4f91b43a",
   "metadata": {},
   "outputs": [],
   "source": [
    "# Style Line 1\n",
    "s1 = c1.series[0]\n",
    "s1.marker.symbol = \"triangle\"\n",
    "s1.marker.graphicalProperties.solidFill = \"FF0000\" # Marker filling\n",
    "s1.marker.graphicalProperties.line.solidFill = \"FF0000\" # Marker outline\n",
    "s1.graphicalProperties.line.noFill = True\n",
    "\n",
    "# Style Line 2\n",
    "s2 = c1.series[1]\n",
    "s2.graphicalProperties.line.solidFill = \"00AAAA\"\n",
    "s2.graphicalProperties.line.dashStyle = \"sysDot\"\n",
    "s2.graphicalProperties.line.width = 100050 # width in EMUs\n",
    "\n",
    "# Style line 3\n",
    "s3 = c1.series[2]\n",
    "s3.smooth = True # Make the line smooth"
   ]
  },
  {
   "cell_type": "code",
   "execution_count": 5,
   "id": "6589d370",
   "metadata": {},
   "outputs": [],
   "source": [
    "# Add chart to sheet \n",
    "ws.add_chart(c1, \"F1\")"
   ]
  },
  {
   "cell_type": "code",
   "execution_count": 6,
   "id": "b67b1c9f",
   "metadata": {},
   "outputs": [],
   "source": [
    "# Save Workbook\n",
    "wb.save('chart-file.xlsx')"
   ]
  },
  {
   "cell_type": "code",
   "execution_count": null,
   "id": "2327b009-c0bf-4d61-aa0e-c58032e4a487",
   "metadata": {},
   "outputs": [],
   "source": []
  }
 ],
 "metadata": {
  "kernelspec": {
   "display_name": "Python 3 (ipykernel)",
   "language": "python",
   "name": "python3"
  },
  "language_info": {
   "codemirror_mode": {
    "name": "ipython",
    "version": 3
   },
   "file_extension": ".py",
   "mimetype": "text/x-python",
   "name": "python",
   "nbconvert_exporter": "python",
   "pygments_lexer": "ipython3",
   "version": "3.10.6"
  }
 },
 "nbformat": 4,
 "nbformat_minor": 5
}
