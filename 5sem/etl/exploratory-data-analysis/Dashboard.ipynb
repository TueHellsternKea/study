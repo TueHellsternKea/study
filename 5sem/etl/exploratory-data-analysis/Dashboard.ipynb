{
 "cells": [
  {
   "cell_type": "code",
   "execution_count": null,
   "id": "ade290f8-03d7-4de5-8f95-64d581a4ad5e",
   "metadata": {},
   "outputs": [],
   "source": [
    "!pip3 install taipy"
   ]
  },
  {
   "cell_type": "code",
   "execution_count": 8,
   "id": "2eb865cf-8e80-4506-9e13-ba84549cedaf",
   "metadata": {},
   "outputs": [
    {
     "name": "stdout",
     "output_type": "stream",
     "text": [
      " * Server starting on http://127.0.0.1:5000\n"
     ]
    },
    {
     "name": "stderr",
     "output_type": "stream",
     "text": [
      "Exception in thread Thread-12 (_run_notebook):\n",
      "Traceback (most recent call last):\n",
      "  File \"C:\\Python310\\lib\\threading.py\", line 1009, in _bootstrap_inner\n",
      "    self.run()\n",
      "  File \"C:\\Python310\\lib\\site-packages\\taipy\\gui\\utils\\killable_thread.py\", line 28, in __run\n",
      "    self.__run_backup()\n",
      "  File \"C:\\Python310\\lib\\threading.py\", line 946, in run\n",
      "    self._target(*self._args, **self._kwargs)\n",
      "  File \"C:\\Python310\\lib\\site-packages\\taipy\\gui\\server.py\", line 165, in _run_notebook\n",
      "    self._ws.run(self._flask, host=self._host, port=self._port, debug=False, use_reloader=False)\n",
      "  File \"C:\\Python310\\lib\\site-packages\\flask_socketio\\__init__.py\", line 639, in run\n",
      "    raise RuntimeError('The Werkzeug web server is not '\n",
      "RuntimeError: The Werkzeug web server is not designed to run in production. Pass allow_unsafe_werkzeug=True to the run() method to disable this error.\n"
     ]
    }
   ],
   "source": [
    "# This script is complete and should run on its own.\n",
    "\n",
    "from taipy.gui import Gui\n",
    "\n",
    "website = \"Kea\"\n",
    "md = \"\"\"\n",
    "# A simple Taipy example\n",
    "Hello <|{website}|>! I'm **bold** and I'm *italicized*!\n",
    "\"\"\"\n",
    "\n",
    "Gui(page=md).run(dark_mode=False, allow_unsafe_werkzeug=True)"
   ]
  },
  {
   "cell_type": "code",
   "execution_count": null,
   "id": "b13921de-52c7-4760-9b33-56a453124cc3",
   "metadata": {},
   "outputs": [],
   "source": []
  }
 ],
 "metadata": {
  "kernelspec": {
   "display_name": "Python 3 (ipykernel)",
   "language": "python",
   "name": "python3"
  },
  "language_info": {
   "codemirror_mode": {
    "name": "ipython",
    "version": 3
   },
   "file_extension": ".py",
   "mimetype": "text/x-python",
   "name": "python",
   "nbconvert_exporter": "python",
   "pygments_lexer": "ipython3",
   "version": "3.10.2"
  }
 },
 "nbformat": 4,
 "nbformat_minor": 5
}
