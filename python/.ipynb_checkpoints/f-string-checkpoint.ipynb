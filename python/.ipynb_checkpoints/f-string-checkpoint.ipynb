{
 "cells": [
  {
   "cell_type": "markdown",
   "id": "8cdcd905-5f2a-414e-85e2-b4e5e445e67b",
   "metadata": {},
   "source": [
    "# f-string\n",
    "f-string is the latest Python syntax to perform string formatting - They are called f-strings because you need to prefix a string with the letter **f'** in order to get an f-string. \n",
    "\n",
    "*“F-strings provide a way to embed expressions inside string literals, using a minimal syntax. It should be noted that an f-string is really an expression evaluated at run time, not a constant value. In Python source code, an f-string is a literal string, prefixed with f, which contains expressions inside braces. The expressions are replaced with their values.”* [Source](https://www.python.org/dev/peps/pep-0498/#abstract)\n",
    "\n",
    "The letter **f** also indicates that these strings are used for formatting.\n",
    "\n",
    "- f-string has been available since Python 3.6. \n",
    "- It is more readable, concise, faster and error-free than traditional string formatting.\n",
    "\n",
    "### Links\n",
    "- https://docs.python.org/3/reference/lexical_analysis.html#f-strings\n",
    "- https://www.python.org/dev/peps/pep-0498/"
   ]
  },
  {
   "cell_type": "markdown",
   "id": "836300a4-a97e-49c2-a9ad-c252bf3e0fa5",
   "metadata": {},
   "source": [
    "## Interpolation\n",
    "String interpolation is the most commonly used f-string feature. \n",
    "\n",
    "You just need to do enclose the value or variable in curly braces **{ }** and start with **f'**"
   ]
  },
  {
   "cell_type": "code",
   "execution_count": 12,
   "id": "88a100ca-30f4-46e2-b151-9f083e10ff78",
   "metadata": {},
   "outputs": [
    {
     "name": "stdout",
     "output_type": "stream",
     "text": [
      "Hello, Eric. You are 24\n"
     ]
    }
   ],
   "source": [
    "name = 'Eric'\n",
    "age = 24\n",
    "\n",
    "print(f'Hello, {name}. You are {age}')"
   ]
  },
  {
   "cell_type": "markdown",
   "id": "f340f181-a9e0-41c5-bdda-abee65955efb",
   "metadata": {},
   "source": [
    "# Variable names\n",
    "You can get get both a variable’s **value** and its **name**. \n",
    "\n",
    "This can be very useful, especially when debugging, and can be easily done by putting an equal sign **{=}** in curly braces after calling the variable."
   ]
  },
  {
   "cell_type": "code",
   "execution_count": 11,
   "id": "e063dfa9-a104-49ea-9ae3-54f187d13717",
   "metadata": {},
   "outputs": [
    {
     "name": "stdout",
     "output_type": "stream",
     "text": [
      "Hello, name='Eric'. You are age=24\n"
     ]
    }
   ],
   "source": [
    "name = 'Eric'\n",
    "age = 24\n",
    "\n",
    "print(f'Hello, {name=}. You are {age=}')"
   ]
  },
  {
   "cell_type": "markdown",
   "id": "7542965c-e95f-4c57-8c08-871b0f7f07aa",
   "metadata": {},
   "source": [
    "# Mathematical operations\n",
    "It is also possible to preform math operations on f-strings.\n",
    "\n",
    "You can put a mathematical expression inside the curly braces and add an equal sign, then you get the expression and its result."
   ]
  },
  {
   "cell_type": "code",
   "execution_count": 16,
   "id": "19de436c-0254-4bd7-8a22-3086a971e1bf",
   "metadata": {},
   "outputs": [
    {
     "name": "stdout",
     "output_type": "stream",
     "text": [
      "num_val * 2 = 20\n"
     ]
    }
   ],
   "source": [
    "num_val = 10\n",
    "\n",
    "print(f'{num_val * 2 = }')"
   ]
  },
  {
   "cell_type": "markdown",
   "id": "89d3c5af-d503-4374-a7fe-6070bbfe1db0",
   "metadata": {},
   "source": [
    "# Number formatting\n",
    "f-strings are a simple and practical way for formatting a string.\n",
    "\n",
    "You just add a **:** (*colon*) followed by a format specifier.\n",
    "\n",
    "- s - String format, this is the default type for strings\n",
    "- d - Decimal Integer, outputs the number in base 10\n",
    "- n - Number, the same as d except that it uses the current locale setting\n",
    "- e - Exponent notation, scientific notation using the letter ‘e’, default precision is 6\n",
    "- f - Fixed-point notation. Default precision is 6.\n",
    "- % - Percentage, multiplies the number by 100, displays in fixed ('f') format, followed by a percent sign\n"
   ]
  },
  {
   "cell_type": "code",
   "execution_count": 37,
   "id": "d5f9e88a-fc69-408a-ac44-cf60dcf9b422",
   "metadata": {},
   "outputs": [
    {
     "name": "stdout",
     "output_type": "stream",
     "text": [
      "1366.13\n",
      "1,366.13\n",
      "1e+03\n",
      "22%\n"
     ]
    }
   ],
   "source": [
    "# Excamples\n",
    "price_val = 1366.1265\n",
    "discount = 0.22\n",
    "\n",
    "# .2f\n",
    "print(f'{price_val:.2f}')\n",
    "\n",
    "# ,.2f - \n",
    "print(f'{price_val:,.2f}')\n",
    "\n",
    "# .2n\n",
    "print(f'{price_val:.1n}')\n",
    "\n",
    "# .0%\n",
    "print(f'{discount:.0%}')\n"
   ]
  },
  {
   "cell_type": "markdown",
   "id": "77e0909e-e8bf-4530-8979-ed83b28f0bee",
   "metadata": {},
   "source": [
    "# Date time formatting\n",
    "f-strings also support the formatting of datetime.\n",
    "\n",
    "Dates are formatted the same way as numbers, using format specifiers. \n",
    "\n",
    "- %d - day\n",
    "- %m - month\n",
    "- %Y - year"
   ]
  },
  {
   "cell_type": "code",
   "execution_count": 49,
   "id": "55989edf-fa7d-4e3a-9fbd-8d826819cc7d",
   "metadata": {},
   "outputs": [
    {
     "name": "stdout",
     "output_type": "stream",
     "text": [
      "2021-12-25 19:26:09.276564\n",
      "25-12-2021\n"
     ]
    }
   ],
   "source": [
    "from datetime import datetime;\n",
    "\n",
    "date_val = datetime.now()\n",
    "\n",
    "print(date_val)\n",
    "\n",
    "print(f'{date_val:%d-%m-%Y}')"
   ]
  },
  {
   "cell_type": "code",
   "execution_count": null,
   "id": "7d185cb1-41db-4f54-a433-eb232af803fd",
   "metadata": {},
   "outputs": [],
   "source": []
  }
 ],
 "metadata": {
  "kernelspec": {
   "display_name": "Python 3",
   "language": "python",
   "name": "python3"
  },
  "language_info": {
   "codemirror_mode": {
    "name": "ipython",
    "version": 3
   },
   "file_extension": ".py",
   "mimetype": "text/x-python",
   "name": "python",
   "nbconvert_exporter": "python",
   "pygments_lexer": "ipython3",
   "version": "3.9.7"
  }
 },
 "nbformat": 4,
 "nbformat_minor": 5
}
