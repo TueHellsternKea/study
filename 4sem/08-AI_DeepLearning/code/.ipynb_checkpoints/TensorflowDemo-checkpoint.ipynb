{
 "cells": [
  {
   "cell_type": "markdown",
   "metadata": {},
   "source": [
    "# 0. Import Data"
   ]
  },
  {
   "cell_type": "code",
   "execution_count": 1,
   "metadata": {},
   "outputs": [],
   "source": [
    "import pandas as pd\n",
    "from sklearn.model_selection import train_test_split"
   ]
  },
  {
   "cell_type": "code",
   "execution_count": 2,
   "metadata": {},
   "outputs": [],
   "source": [
    "df = pd.read_csv('Churn.csv')"
   ]
  },
  {
   "cell_type": "code",
   "execution_count": 3,
   "metadata": {},
   "outputs": [],
   "source": [
    "X = pd.get_dummies(df.drop(['Churn', 'Customer ID'], axis=1))\n",
    "y = df['Churn'].apply(lambda x: 1 if x=='Yes' else 0)"
   ]
  },
  {
   "cell_type": "code",
   "execution_count": 4,
   "metadata": {},
   "outputs": [],
   "source": [
    "X_train, X_test, y_train, y_test = train_test_split(X, y, test_size=.2)"
   ]
  },
  {
   "cell_type": "code",
   "execution_count": 5,
   "metadata": {},
   "outputs": [
    {
     "data": {
      "text/plain": [
       "1816    0\n",
       "4035    0\n",
       "2080    0\n",
       "5947    1\n",
       "4305    0\n",
       "Name: Churn, dtype: int64"
      ]
     },
     "execution_count": 5,
     "metadata": {},
     "output_type": "execute_result"
    }
   ],
   "source": [
    "y_train.head()"
   ]
  },
  {
   "cell_type": "markdown",
   "metadata": {},
   "source": [
    "# 1. Import Dependencies"
   ]
  },
  {
   "cell_type": "code",
   "execution_count": 6,
   "metadata": {},
   "outputs": [],
   "source": [
    "from tensorflow.keras.models import Sequential, load_model\n",
    "from tensorflow.keras.layers import Dense\n",
    "from sklearn.metrics import accuracy_score"
   ]
  },
  {
   "cell_type": "markdown",
   "metadata": {},
   "source": [
    "# 2. Build and Compile Model"
   ]
  },
  {
   "cell_type": "code",
   "execution_count": 7,
   "metadata": {},
   "outputs": [],
   "source": [
    "model = Sequential()\n",
    "model.add(Dense(units=32, activation='relu', input_dim=len(X_train.columns)))\n",
    "model.add(Dense(units=64, activation='relu'))\n",
    "model.add(Dense(units=1, activation='sigmoid'))"
   ]
  },
  {
   "cell_type": "code",
   "execution_count": 8,
   "metadata": {},
   "outputs": [],
   "source": [
    "model.compile(loss='binary_crossentropy', optimizer='sgd', metrics='accuracy')"
   ]
  },
  {
   "cell_type": "markdown",
   "metadata": {},
   "source": [
    "# 3. Fit, Predict and Evaluate"
   ]
  },
  {
   "cell_type": "code",
   "execution_count": 9,
   "metadata": {
    "collapsed": true
   },
   "outputs": [
    {
     "name": "stdout",
     "output_type": "stream",
     "text": [
      "Epoch 1/500\n",
      "177/177 [==============================] - 0s 1ms/step - loss: 0.5055 - accuracy: 0.7526\n",
      "Epoch 2/500\n",
      "177/177 [==============================] - 0s 1ms/step - loss: 0.4886 - accuracy: 0.7718\n",
      "Epoch 3/500\n",
      "177/177 [==============================] - 0s 1ms/step - loss: 0.4809 - accuracy: 0.7723\n",
      "Epoch 4/500\n",
      "177/177 [==============================] - 0s 1ms/step - loss: 0.4753 - accuracy: 0.7817\n",
      "Epoch 5/500\n",
      "177/177 [==============================] - 0s 1ms/step - loss: 0.4758 - accuracy: 0.7812\n",
      "Epoch 6/500\n",
      "177/177 [==============================] - 0s 1ms/step - loss: 0.4695 - accuracy: 0.7837\n",
      "Epoch 7/500\n",
      "177/177 [==============================] - 0s 1ms/step - loss: 0.4680 - accuracy: 0.7851\n",
      "Epoch 8/500\n",
      "177/177 [==============================] - 0s 1ms/step - loss: 0.4652 - accuracy: 0.7833\n",
      "Epoch 9/500\n",
      "177/177 [==============================] - 0s 1ms/step - loss: 0.4617 - accuracy: 0.7846\n",
      "Epoch 10/500\n",
      "177/177 [==============================] - 0s 1ms/step - loss: 0.4621 - accuracy: 0.7867\n",
      "Epoch 11/500\n",
      "177/177 [==============================] - 0s 1ms/step - loss: 0.4575 - accuracy: 0.7854\n",
      "Epoch 12/500\n",
      "177/177 [==============================] - 0s 1ms/step - loss: 0.4564 - accuracy: 0.7878\n",
      "Epoch 13/500\n",
      "177/177 [==============================] - 0s 1ms/step - loss: 0.4577 - accuracy: 0.7881\n",
      "Epoch 14/500\n",
      "177/177 [==============================] - 0s 1ms/step - loss: 0.4572 - accuracy: 0.7906\n",
      "Epoch 15/500\n",
      "177/177 [==============================] - 0s 1ms/step - loss: 0.4536 - accuracy: 0.7863\n",
      "Epoch 16/500\n",
      "177/177 [==============================] - 0s 1ms/step - loss: 0.4537 - accuracy: 0.7869\n",
      "Epoch 17/500\n",
      "177/177 [==============================] - 0s 1ms/step - loss: 0.4535 - accuracy: 0.7876\n",
      "Epoch 18/500\n",
      "177/177 [==============================] - 0s 1ms/step - loss: 0.4533 - accuracy: 0.7865\n",
      "Epoch 19/500\n",
      "177/177 [==============================] - 0s 1ms/step - loss: 0.4562 - accuracy: 0.7835\n",
      "Epoch 20/500\n",
      "177/177 [==============================] - 0s 1ms/step - loss: 0.4509 - accuracy: 0.7917\n",
      "Epoch 21/500\n",
      "177/177 [==============================] - 0s 1ms/step - loss: 0.4505 - accuracy: 0.7865\n",
      "Epoch 22/500\n",
      "177/177 [==============================] - 0s 1ms/step - loss: 0.4525 - accuracy: 0.7860\n",
      "Epoch 23/500\n",
      "177/177 [==============================] - 0s 1ms/step - loss: 0.4503 - accuracy: 0.7869\n",
      "Epoch 24/500\n",
      "177/177 [==============================] - 0s 1ms/step - loss: 0.4503 - accuracy: 0.7883\n",
      "Epoch 25/500\n",
      "177/177 [==============================] - 0s 1ms/step - loss: 0.4500 - accuracy: 0.7908\n",
      "Epoch 26/500\n",
      "177/177 [==============================] - 0s 1ms/step - loss: 0.4482 - accuracy: 0.7892\n",
      "Epoch 27/500\n",
      "177/177 [==============================] - 0s 1ms/step - loss: 0.4461 - accuracy: 0.7892\n",
      "Epoch 28/500\n",
      "177/177 [==============================] - 0s 1ms/step - loss: 0.4472 - accuracy: 0.7890\n",
      "Epoch 29/500\n",
      "177/177 [==============================] - 0s 1ms/step - loss: 0.4465 - accuracy: 0.7894\n",
      "Epoch 30/500\n",
      "177/177 [==============================] - 0s 1ms/step - loss: 0.4438 - accuracy: 0.7906\n",
      "Epoch 31/500\n",
      "177/177 [==============================] - 0s 1ms/step - loss: 0.4450 - accuracy: 0.7897\n",
      "Epoch 32/500\n",
      "177/177 [==============================] - 0s 1ms/step - loss: 0.4461 - accuracy: 0.7922\n",
      "Epoch 33/500\n",
      "177/177 [==============================] - 0s 1ms/step - loss: 0.4428 - accuracy: 0.7918\n",
      "Epoch 34/500\n",
      "177/177 [==============================] - 0s 1ms/step - loss: 0.4478 - accuracy: 0.7883\n",
      "Epoch 35/500\n",
      "177/177 [==============================] - 0s 1ms/step - loss: 0.4434 - accuracy: 0.7933\n",
      "Epoch 36/500\n",
      "177/177 [==============================] - 0s 1ms/step - loss: 0.4438 - accuracy: 0.7894\n",
      "Epoch 37/500\n",
      "177/177 [==============================] - 0s 1ms/step - loss: 0.4448 - accuracy: 0.7922\n",
      "Epoch 38/500\n",
      "177/177 [==============================] - 0s 1ms/step - loss: 0.4519 - accuracy: 0.7879\n",
      "Epoch 39/500\n",
      "177/177 [==============================] - 0s 1ms/step - loss: 0.4444 - accuracy: 0.7920\n",
      "Epoch 40/500\n",
      "177/177 [==============================] - 0s 1ms/step - loss: 0.4460 - accuracy: 0.7934\n",
      "Epoch 41/500\n",
      "177/177 [==============================] - 0s 1ms/step - loss: 0.4424 - accuracy: 0.7934\n",
      "Epoch 42/500\n",
      "177/177 [==============================] - 0s 1ms/step - loss: 0.4434 - accuracy: 0.7892\n",
      "Epoch 43/500\n",
      "177/177 [==============================] - 0s 1ms/step - loss: 0.4413 - accuracy: 0.7913\n",
      "Epoch 44/500\n",
      "177/177 [==============================] - 0s 1ms/step - loss: 0.4413 - accuracy: 0.7913\n",
      "Epoch 45/500\n",
      "177/177 [==============================] - 0s 1ms/step - loss: 0.4458 - accuracy: 0.7929\n",
      "Epoch 46/500\n",
      "177/177 [==============================] - 0s 1ms/step - loss: 0.4418 - accuracy: 0.7965\n",
      "Epoch 47/500\n",
      "177/177 [==============================] - 0s 1ms/step - loss: 0.4415 - accuracy: 0.7956\n",
      "Epoch 48/500\n",
      "177/177 [==============================] - 0s 1ms/step - loss: 0.4396 - accuracy: 0.7917\n",
      "Epoch 49/500\n",
      "177/177 [==============================] - 0s 1ms/step - loss: 0.4387 - accuracy: 0.7934\n",
      "Epoch 50/500\n",
      "177/177 [==============================] - 0s 1ms/step - loss: 0.4404 - accuracy: 0.7924\n",
      "Epoch 51/500\n",
      "177/177 [==============================] - 0s 1ms/step - loss: 0.4452 - accuracy: 0.7973\n",
      "Epoch 52/500\n",
      "177/177 [==============================] - 0s 1ms/step - loss: 0.4406 - accuracy: 0.7950\n",
      "Epoch 53/500\n",
      "177/177 [==============================] - 0s 1ms/step - loss: 0.4435 - accuracy: 0.7886\n",
      "Epoch 54/500\n",
      "177/177 [==============================] - 0s 1ms/step - loss: 0.4370 - accuracy: 0.7943\n",
      "Epoch 55/500\n",
      "177/177 [==============================] - 0s 1ms/step - loss: 0.4469 - accuracy: 0.7906\n",
      "Epoch 56/500\n",
      "177/177 [==============================] - 0s 1ms/step - loss: 0.4407 - accuracy: 0.7911\n",
      "Epoch 57/500\n",
      "177/177 [==============================] - 0s 1ms/step - loss: 0.4384 - accuracy: 0.7929\n",
      "Epoch 58/500\n",
      "177/177 [==============================] - 0s 1ms/step - loss: 0.4396 - accuracy: 0.7943\n",
      "Epoch 59/500\n",
      "177/177 [==============================] - 0s 1ms/step - loss: 0.4362 - accuracy: 0.7940\n",
      "Epoch 60/500\n",
      "177/177 [==============================] - 0s 1ms/step - loss: 0.4399 - accuracy: 0.7908\n",
      "Epoch 61/500\n",
      "177/177 [==============================] - 0s 1ms/step - loss: 0.4384 - accuracy: 0.7936\n",
      "Epoch 62/500\n",
      "177/177 [==============================] - 0s 1ms/step - loss: 0.4721 - accuracy: 0.7707\n",
      "Epoch 63/500\n",
      "177/177 [==============================] - 0s 1ms/step - loss: 0.4593 - accuracy: 0.7782\n",
      "Epoch 64/500\n",
      "177/177 [==============================] - 0s 1ms/step - loss: 0.4520 - accuracy: 0.7879\n",
      "Epoch 65/500\n",
      "177/177 [==============================] - 0s 1ms/step - loss: 0.4504 - accuracy: 0.7867\n",
      "Epoch 66/500\n",
      "177/177 [==============================] - 0s 1ms/step - loss: 0.4514 - accuracy: 0.7851\n",
      "Epoch 67/500\n",
      "177/177 [==============================] - 0s 1ms/step - loss: 0.4492 - accuracy: 0.7883\n",
      "Epoch 68/500\n",
      "177/177 [==============================] - 0s 1ms/step - loss: 0.4514 - accuracy: 0.7874\n",
      "Epoch 69/500\n",
      "177/177 [==============================] - 0s 1ms/step - loss: 0.4449 - accuracy: 0.7897\n",
      "Epoch 70/500\n",
      "177/177 [==============================] - 0s 1ms/step - loss: 0.4466 - accuracy: 0.7913\n",
      "Epoch 71/500\n",
      "177/177 [==============================] - 0s 1ms/step - loss: 0.4449 - accuracy: 0.7920\n",
      "Epoch 72/500\n",
      "177/177 [==============================] - 0s 1ms/step - loss: 0.4469 - accuracy: 0.7862\n",
      "Epoch 73/500\n",
      "177/177 [==============================] - 0s 1ms/step - loss: 0.4447 - accuracy: 0.7920\n",
      "Epoch 74/500\n",
      "177/177 [==============================] - 0s 1ms/step - loss: 0.4429 - accuracy: 0.7894\n",
      "Epoch 75/500\n",
      "177/177 [==============================] - 0s 1ms/step - loss: 0.4426 - accuracy: 0.7879\n",
      "Epoch 76/500\n",
      "177/177 [==============================] - 0s 1ms/step - loss: 0.4447 - accuracy: 0.7856\n",
      "Epoch 77/500\n",
      "177/177 [==============================] - 0s 1ms/step - loss: 0.4391 - accuracy: 0.7925\n",
      "Epoch 78/500\n",
      "177/177 [==============================] - 0s 1ms/step - loss: 0.4428 - accuracy: 0.7892\n",
      "Epoch 79/500\n",
      "177/177 [==============================] - 0s 1ms/step - loss: 0.4435 - accuracy: 0.7924\n",
      "Epoch 80/500\n",
      "177/177 [==============================] - 0s 1ms/step - loss: 0.4368 - accuracy: 0.7915\n",
      "Epoch 81/500\n",
      "177/177 [==============================] - 0s 1ms/step - loss: 0.4388 - accuracy: 0.7870\n",
      "Epoch 82/500\n",
      "177/177 [==============================] - 0s 1ms/step - loss: 0.4414 - accuracy: 0.7902\n",
      "Epoch 83/500\n",
      "177/177 [==============================] - 0s 1ms/step - loss: 0.4375 - accuracy: 0.7894\n",
      "Epoch 84/500\n",
      "177/177 [==============================] - 0s 1ms/step - loss: 0.4363 - accuracy: 0.7902\n",
      "Epoch 85/500\n",
      "177/177 [==============================] - 0s 1ms/step - loss: 0.4368 - accuracy: 0.7924\n",
      "Epoch 86/500\n",
      "177/177 [==============================] - 0s 1ms/step - loss: 0.4392 - accuracy: 0.7915\n",
      "Epoch 87/500\n",
      "177/177 [==============================] - 0s 1ms/step - loss: 0.4381 - accuracy: 0.7920\n",
      "Epoch 88/500\n",
      "177/177 [==============================] - 0s 1ms/step - loss: 0.4389 - accuracy: 0.7901\n",
      "Epoch 89/500\n",
      "177/177 [==============================] - 0s 1ms/step - loss: 0.4371 - accuracy: 0.7961\n",
      "Epoch 90/500\n",
      "177/177 [==============================] - 0s 1ms/step - loss: 0.4363 - accuracy: 0.7901\n",
      "Epoch 91/500\n",
      "177/177 [==============================] - 0s 1ms/step - loss: 0.4402 - accuracy: 0.7904\n",
      "Epoch 92/500\n",
      "177/177 [==============================] - 0s 1ms/step - loss: 0.4382 - accuracy: 0.7888\n",
      "Epoch 93/500\n",
      "177/177 [==============================] - 0s 1ms/step - loss: 0.4358 - accuracy: 0.7869\n",
      "Epoch 94/500\n",
      "177/177 [==============================] - 0s 1ms/step - loss: 0.4368 - accuracy: 0.7901\n",
      "Epoch 95/500\n",
      "177/177 [==============================] - 0s 1ms/step - loss: 0.4313 - accuracy: 0.7949\n",
      "Epoch 96/500\n",
      "177/177 [==============================] - 0s 1ms/step - loss: 0.4396 - accuracy: 0.7909\n",
      "Epoch 97/500\n",
      "177/177 [==============================] - 0s 1ms/step - loss: 0.4357 - accuracy: 0.7936\n",
      "Epoch 98/500\n",
      "177/177 [==============================] - 0s 1ms/step - loss: 0.4323 - accuracy: 0.7984\n",
      "Epoch 99/500\n",
      "177/177 [==============================] - 0s 1ms/step - loss: 0.4369 - accuracy: 0.7909\n",
      "Epoch 100/500\n",
      "177/177 [==============================] - 0s 1ms/step - loss: 0.4360 - accuracy: 0.7908\n",
      "Epoch 101/500\n",
      "177/177 [==============================] - 0s 1ms/step - loss: 0.4313 - accuracy: 0.7952\n",
      "Epoch 102/500\n",
      "177/177 [==============================] - 0s 1ms/step - loss: 0.4341 - accuracy: 0.7966\n",
      "Epoch 103/500\n",
      "177/177 [==============================] - 0s 1ms/step - loss: 0.4365 - accuracy: 0.7933\n",
      "Epoch 104/500\n",
      "177/177 [==============================] - 0s 1ms/step - loss: 0.4324 - accuracy: 0.7972\n",
      "Epoch 105/500\n",
      "177/177 [==============================] - 0s 1ms/step - loss: 0.4320 - accuracy: 0.7949\n",
      "Epoch 106/500\n",
      "177/177 [==============================] - 0s 1ms/step - loss: 0.4327 - accuracy: 0.7911\n",
      "Epoch 107/500\n",
      "177/177 [==============================] - 0s 1ms/step - loss: 0.4299 - accuracy: 0.7972\n",
      "Epoch 108/500\n",
      "177/177 [==============================] - 0s 1ms/step - loss: 0.4296 - accuracy: 0.8005\n",
      "Epoch 109/500\n",
      "177/177 [==============================] - 0s 1ms/step - loss: 0.4322 - accuracy: 0.7927\n",
      "Epoch 110/500\n",
      "177/177 [==============================] - 0s 1ms/step - loss: 0.4291 - accuracy: 0.7977\n",
      "Epoch 111/500\n",
      "177/177 [==============================] - 0s 1ms/step - loss: 0.4330 - accuracy: 0.7957\n",
      "Epoch 112/500\n",
      "177/177 [==============================] - 0s 1ms/step - loss: 0.4277 - accuracy: 0.7947\n",
      "Epoch 113/500\n",
      "177/177 [==============================] - 0s 1ms/step - loss: 0.4303 - accuracy: 0.7988\n",
      "Epoch 114/500\n",
      "177/177 [==============================] - 0s 1ms/step - loss: 0.4311 - accuracy: 0.7972\n",
      "Epoch 115/500\n",
      "177/177 [==============================] - 0s 1ms/step - loss: 0.4332 - accuracy: 0.7982\n",
      "Epoch 116/500\n",
      "177/177 [==============================] - 0s 1ms/step - loss: 0.4283 - accuracy: 0.7968\n",
      "Epoch 117/500\n",
      "177/177 [==============================] - 0s 1ms/step - loss: 0.4282 - accuracy: 0.7975\n",
      "Epoch 118/500\n",
      "177/177 [==============================] - 0s 1ms/step - loss: 0.4319 - accuracy: 0.7995\n",
      "Epoch 119/500\n",
      "177/177 [==============================] - 0s 1ms/step - loss: 0.4266 - accuracy: 0.8014\n",
      "Epoch 120/500\n",
      "177/177 [==============================] - 0s 1ms/step - loss: 0.4291 - accuracy: 0.7968\n",
      "Epoch 121/500\n",
      "177/177 [==============================] - 0s 1ms/step - loss: 0.4304 - accuracy: 0.7980\n",
      "Epoch 122/500\n",
      "177/177 [==============================] - 0s 1ms/step - loss: 0.4287 - accuracy: 0.7947\n",
      "Epoch 123/500\n",
      "177/177 [==============================] - 0s 1ms/step - loss: 0.4319 - accuracy: 0.7954\n",
      "Epoch 124/500\n",
      "177/177 [==============================] - 0s 1ms/step - loss: 0.4289 - accuracy: 0.7950\n",
      "Epoch 125/500\n",
      "177/177 [==============================] - 0s 1ms/step - loss: 0.4297 - accuracy: 0.7988\n",
      "Epoch 126/500\n",
      "177/177 [==============================] - 0s 1ms/step - loss: 0.4285 - accuracy: 0.7989\n",
      "Epoch 127/500\n",
      "177/177 [==============================] - 0s 1ms/step - loss: 0.4281 - accuracy: 0.7908\n",
      "Epoch 128/500\n",
      "177/177 [==============================] - 0s 1ms/step - loss: 0.4283 - accuracy: 0.7940\n",
      "Epoch 129/500\n",
      "177/177 [==============================] - 0s 1ms/step - loss: 0.4282 - accuracy: 0.7986\n",
      "Epoch 130/500\n",
      "177/177 [==============================] - 0s 1ms/step - loss: 0.4276 - accuracy: 0.7925\n",
      "Epoch 131/500\n",
      "177/177 [==============================] - 0s 1ms/step - loss: 0.4277 - accuracy: 0.7959\n",
      "Epoch 132/500\n",
      "177/177 [==============================] - 0s 1ms/step - loss: 0.4269 - accuracy: 0.7972\n",
      "Epoch 133/500\n",
      "177/177 [==============================] - 0s 1ms/step - loss: 0.4269 - accuracy: 0.7970\n",
      "Epoch 134/500\n",
      "177/177 [==============================] - 0s 1ms/step - loss: 0.4266 - accuracy: 0.7995\n",
      "Epoch 135/500\n",
      "177/177 [==============================] - 0s 1ms/step - loss: 0.4287 - accuracy: 0.7954\n",
      "Epoch 136/500\n",
      "177/177 [==============================] - 0s 1ms/step - loss: 0.4277 - accuracy: 0.7980\n",
      "Epoch 137/500\n",
      "177/177 [==============================] - 0s 1ms/step - loss: 0.4260 - accuracy: 0.8023\n",
      "Epoch 138/500\n",
      "177/177 [==============================] - 0s 2ms/step - loss: 0.4256 - accuracy: 0.7956\n",
      "Epoch 139/500\n",
      "177/177 [==============================] - 0s 1ms/step - loss: 0.4272 - accuracy: 0.7989\n",
      "Epoch 140/500\n",
      "177/177 [==============================] - 0s 1ms/step - loss: 0.4237 - accuracy: 0.8014\n",
      "Epoch 141/500\n",
      "177/177 [==============================] - 0s 1ms/step - loss: 0.4272 - accuracy: 0.7943\n",
      "Epoch 142/500\n",
      "177/177 [==============================] - 0s 1ms/step - loss: 0.4269 - accuracy: 0.7952\n",
      "Epoch 143/500\n",
      "177/177 [==============================] - 0s 1ms/step - loss: 0.4243 - accuracy: 0.7977\n",
      "Epoch 144/500\n",
      "177/177 [==============================] - 0s 1ms/step - loss: 0.4267 - accuracy: 0.8000\n",
      "Epoch 145/500\n",
      "177/177 [==============================] - 0s 1ms/step - loss: 0.4254 - accuracy: 0.7952\n",
      "Epoch 146/500\n",
      "177/177 [==============================] - 0s 1ms/step - loss: 0.4233 - accuracy: 0.7986\n",
      "Epoch 147/500\n",
      "177/177 [==============================] - 0s 1ms/step - loss: 0.4241 - accuracy: 0.8009\n",
      "Epoch 148/500\n",
      "177/177 [==============================] - 0s 1ms/step - loss: 0.4248 - accuracy: 0.7973\n",
      "Epoch 149/500\n",
      "177/177 [==============================] - 0s 1ms/step - loss: 0.4254 - accuracy: 0.7933\n",
      "Epoch 150/500\n",
      "177/177 [==============================] - 0s 1ms/step - loss: 0.4284 - accuracy: 0.7954\n",
      "Epoch 151/500\n",
      "177/177 [==============================] - 0s 1ms/step - loss: 0.4251 - accuracy: 0.8021\n",
      "Epoch 152/500\n",
      "177/177 [==============================] - 0s 1ms/step - loss: 0.4214 - accuracy: 0.7991\n",
      "Epoch 153/500\n",
      "177/177 [==============================] - 0s 1ms/step - loss: 0.4254 - accuracy: 0.7984\n",
      "Epoch 154/500\n",
      "177/177 [==============================] - 0s 1ms/step - loss: 0.4246 - accuracy: 0.8002\n",
      "Epoch 155/500\n",
      "177/177 [==============================] - 0s 1ms/step - loss: 0.4220 - accuracy: 0.8012\n",
      "Epoch 156/500\n",
      "177/177 [==============================] - 0s 1ms/step - loss: 0.4208 - accuracy: 0.8034\n",
      "Epoch 157/500\n",
      "177/177 [==============================] - 0s 1ms/step - loss: 0.4235 - accuracy: 0.8014\n",
      "Epoch 158/500\n",
      "177/177 [==============================] - 0s 1ms/step - loss: 0.4246 - accuracy: 0.7996\n",
      "Epoch 159/500\n",
      "177/177 [==============================] - 0s 1ms/step - loss: 0.4239 - accuracy: 0.7972\n",
      "Epoch 160/500\n"
     ]
    },
    {
     "name": "stdout",
     "output_type": "stream",
     "text": [
      "177/177 [==============================] - 0s 1ms/step - loss: 0.4223 - accuracy: 0.8030\n",
      "Epoch 161/500\n",
      "177/177 [==============================] - 0s 1ms/step - loss: 0.4231 - accuracy: 0.7995\n",
      "Epoch 162/500\n",
      "177/177 [==============================] - 0s 1ms/step - loss: 0.4237 - accuracy: 0.7991\n",
      "Epoch 163/500\n",
      "177/177 [==============================] - 0s 1ms/step - loss: 0.4228 - accuracy: 0.8011\n",
      "Epoch 164/500\n",
      "152/177 [========================>.....] - ETA: 0s - loss: 0.4205 - accuracy: 0.8037"
     ]
    },
    {
     "ename": "KeyboardInterrupt",
     "evalue": "",
     "output_type": "error",
     "traceback": [
      "\u001b[0;31m---------------------------------------------------------------------------\u001b[0m",
      "\u001b[0;31mKeyboardInterrupt\u001b[0m                         Traceback (most recent call last)",
      "\u001b[0;32m<ipython-input-9-1e2410e3eaf6>\u001b[0m in \u001b[0;36m<module>\u001b[0;34m\u001b[0m\n\u001b[0;32m----> 1\u001b[0;31m \u001b[0mmodel\u001b[0m\u001b[0;34m.\u001b[0m\u001b[0mfit\u001b[0m\u001b[0;34m(\u001b[0m\u001b[0mX_train\u001b[0m\u001b[0;34m,\u001b[0m \u001b[0my_train\u001b[0m\u001b[0;34m,\u001b[0m \u001b[0mepochs\u001b[0m\u001b[0;34m=\u001b[0m\u001b[0;36m500\u001b[0m\u001b[0;34m,\u001b[0m \u001b[0mbatch_size\u001b[0m\u001b[0;34m=\u001b[0m\u001b[0;36m32\u001b[0m\u001b[0;34m)\u001b[0m\u001b[0;34m\u001b[0m\u001b[0;34m\u001b[0m\u001b[0m\n\u001b[0m",
      "\u001b[0;32m~/opt/anaconda3/lib/python3.7/site-packages/tensorflow/python/keras/engine/training.py\u001b[0m in \u001b[0;36m_method_wrapper\u001b[0;34m(self, *args, **kwargs)\u001b[0m\n\u001b[1;32m    106\u001b[0m   \u001b[0;32mdef\u001b[0m \u001b[0m_method_wrapper\u001b[0m\u001b[0;34m(\u001b[0m\u001b[0mself\u001b[0m\u001b[0;34m,\u001b[0m \u001b[0;34m*\u001b[0m\u001b[0margs\u001b[0m\u001b[0;34m,\u001b[0m \u001b[0;34m**\u001b[0m\u001b[0mkwargs\u001b[0m\u001b[0;34m)\u001b[0m\u001b[0;34m:\u001b[0m\u001b[0;34m\u001b[0m\u001b[0;34m\u001b[0m\u001b[0m\n\u001b[1;32m    107\u001b[0m     \u001b[0;32mif\u001b[0m \u001b[0;32mnot\u001b[0m \u001b[0mself\u001b[0m\u001b[0;34m.\u001b[0m\u001b[0m_in_multi_worker_mode\u001b[0m\u001b[0;34m(\u001b[0m\u001b[0;34m)\u001b[0m\u001b[0;34m:\u001b[0m  \u001b[0;31m# pylint: disable=protected-access\u001b[0m\u001b[0;34m\u001b[0m\u001b[0;34m\u001b[0m\u001b[0m\n\u001b[0;32m--> 108\u001b[0;31m       \u001b[0;32mreturn\u001b[0m \u001b[0mmethod\u001b[0m\u001b[0;34m(\u001b[0m\u001b[0mself\u001b[0m\u001b[0;34m,\u001b[0m \u001b[0;34m*\u001b[0m\u001b[0margs\u001b[0m\u001b[0;34m,\u001b[0m \u001b[0;34m**\u001b[0m\u001b[0mkwargs\u001b[0m\u001b[0;34m)\u001b[0m\u001b[0;34m\u001b[0m\u001b[0;34m\u001b[0m\u001b[0m\n\u001b[0m\u001b[1;32m    109\u001b[0m \u001b[0;34m\u001b[0m\u001b[0m\n\u001b[1;32m    110\u001b[0m     \u001b[0;31m# Running inside `run_distribute_coordinator` already.\u001b[0m\u001b[0;34m\u001b[0m\u001b[0;34m\u001b[0m\u001b[0;34m\u001b[0m\u001b[0m\n",
      "\u001b[0;32m~/opt/anaconda3/lib/python3.7/site-packages/tensorflow/python/keras/engine/training.py\u001b[0m in \u001b[0;36mfit\u001b[0;34m(self, x, y, batch_size, epochs, verbose, callbacks, validation_split, validation_data, shuffle, class_weight, sample_weight, initial_epoch, steps_per_epoch, validation_steps, validation_batch_size, validation_freq, max_queue_size, workers, use_multiprocessing)\u001b[0m\n\u001b[1;32m   1096\u001b[0m                 batch_size=batch_size):\n\u001b[1;32m   1097\u001b[0m               \u001b[0mcallbacks\u001b[0m\u001b[0;34m.\u001b[0m\u001b[0mon_train_batch_begin\u001b[0m\u001b[0;34m(\u001b[0m\u001b[0mstep\u001b[0m\u001b[0;34m)\u001b[0m\u001b[0;34m\u001b[0m\u001b[0;34m\u001b[0m\u001b[0m\n\u001b[0;32m-> 1098\u001b[0;31m               \u001b[0mtmp_logs\u001b[0m \u001b[0;34m=\u001b[0m \u001b[0mtrain_function\u001b[0m\u001b[0;34m(\u001b[0m\u001b[0miterator\u001b[0m\u001b[0;34m)\u001b[0m\u001b[0;34m\u001b[0m\u001b[0;34m\u001b[0m\u001b[0m\n\u001b[0m\u001b[1;32m   1099\u001b[0m               \u001b[0;32mif\u001b[0m \u001b[0mdata_handler\u001b[0m\u001b[0;34m.\u001b[0m\u001b[0mshould_sync\u001b[0m\u001b[0;34m:\u001b[0m\u001b[0;34m\u001b[0m\u001b[0;34m\u001b[0m\u001b[0m\n\u001b[1;32m   1100\u001b[0m                 \u001b[0mcontext\u001b[0m\u001b[0;34m.\u001b[0m\u001b[0masync_wait\u001b[0m\u001b[0;34m(\u001b[0m\u001b[0;34m)\u001b[0m\u001b[0;34m\u001b[0m\u001b[0;34m\u001b[0m\u001b[0m\n",
      "\u001b[0;32m~/opt/anaconda3/lib/python3.7/site-packages/tensorflow/python/eager/def_function.py\u001b[0m in \u001b[0;36m__call__\u001b[0;34m(self, *args, **kwds)\u001b[0m\n\u001b[1;32m    778\u001b[0m       \u001b[0;32melse\u001b[0m\u001b[0;34m:\u001b[0m\u001b[0;34m\u001b[0m\u001b[0;34m\u001b[0m\u001b[0m\n\u001b[1;32m    779\u001b[0m         \u001b[0mcompiler\u001b[0m \u001b[0;34m=\u001b[0m \u001b[0;34m\"nonXla\"\u001b[0m\u001b[0;34m\u001b[0m\u001b[0;34m\u001b[0m\u001b[0m\n\u001b[0;32m--> 780\u001b[0;31m         \u001b[0mresult\u001b[0m \u001b[0;34m=\u001b[0m \u001b[0mself\u001b[0m\u001b[0;34m.\u001b[0m\u001b[0m_call\u001b[0m\u001b[0;34m(\u001b[0m\u001b[0;34m*\u001b[0m\u001b[0margs\u001b[0m\u001b[0;34m,\u001b[0m \u001b[0;34m**\u001b[0m\u001b[0mkwds\u001b[0m\u001b[0;34m)\u001b[0m\u001b[0;34m\u001b[0m\u001b[0;34m\u001b[0m\u001b[0m\n\u001b[0m\u001b[1;32m    781\u001b[0m \u001b[0;34m\u001b[0m\u001b[0m\n\u001b[1;32m    782\u001b[0m       \u001b[0mnew_tracing_count\u001b[0m \u001b[0;34m=\u001b[0m \u001b[0mself\u001b[0m\u001b[0;34m.\u001b[0m\u001b[0m_get_tracing_count\u001b[0m\u001b[0;34m(\u001b[0m\u001b[0;34m)\u001b[0m\u001b[0;34m\u001b[0m\u001b[0;34m\u001b[0m\u001b[0m\n",
      "\u001b[0;32m~/opt/anaconda3/lib/python3.7/site-packages/tensorflow/python/eager/def_function.py\u001b[0m in \u001b[0;36m_call\u001b[0;34m(self, *args, **kwds)\u001b[0m\n\u001b[1;32m    805\u001b[0m       \u001b[0;31m# In this case we have created variables on the first call, so we run the\u001b[0m\u001b[0;34m\u001b[0m\u001b[0;34m\u001b[0m\u001b[0;34m\u001b[0m\u001b[0m\n\u001b[1;32m    806\u001b[0m       \u001b[0;31m# defunned version which is guaranteed to never create variables.\u001b[0m\u001b[0;34m\u001b[0m\u001b[0;34m\u001b[0m\u001b[0;34m\u001b[0m\u001b[0m\n\u001b[0;32m--> 807\u001b[0;31m       \u001b[0;32mreturn\u001b[0m \u001b[0mself\u001b[0m\u001b[0;34m.\u001b[0m\u001b[0m_stateless_fn\u001b[0m\u001b[0;34m(\u001b[0m\u001b[0;34m*\u001b[0m\u001b[0margs\u001b[0m\u001b[0;34m,\u001b[0m \u001b[0;34m**\u001b[0m\u001b[0mkwds\u001b[0m\u001b[0;34m)\u001b[0m  \u001b[0;31m# pylint: disable=not-callable\u001b[0m\u001b[0;34m\u001b[0m\u001b[0;34m\u001b[0m\u001b[0m\n\u001b[0m\u001b[1;32m    808\u001b[0m     \u001b[0;32melif\u001b[0m \u001b[0mself\u001b[0m\u001b[0;34m.\u001b[0m\u001b[0m_stateful_fn\u001b[0m \u001b[0;32mis\u001b[0m \u001b[0;32mnot\u001b[0m \u001b[0;32mNone\u001b[0m\u001b[0;34m:\u001b[0m\u001b[0;34m\u001b[0m\u001b[0;34m\u001b[0m\u001b[0m\n\u001b[1;32m    809\u001b[0m       \u001b[0;31m# Release the lock early so that multiple threads can perform the call\u001b[0m\u001b[0;34m\u001b[0m\u001b[0;34m\u001b[0m\u001b[0;34m\u001b[0m\u001b[0m\n",
      "\u001b[0;32m~/opt/anaconda3/lib/python3.7/site-packages/tensorflow/python/eager/function.py\u001b[0m in \u001b[0;36m__call__\u001b[0;34m(self, *args, **kwargs)\u001b[0m\n\u001b[1;32m   2827\u001b[0m     \u001b[0;32mwith\u001b[0m \u001b[0mself\u001b[0m\u001b[0;34m.\u001b[0m\u001b[0m_lock\u001b[0m\u001b[0;34m:\u001b[0m\u001b[0;34m\u001b[0m\u001b[0;34m\u001b[0m\u001b[0m\n\u001b[1;32m   2828\u001b[0m       \u001b[0mgraph_function\u001b[0m\u001b[0;34m,\u001b[0m \u001b[0margs\u001b[0m\u001b[0;34m,\u001b[0m \u001b[0mkwargs\u001b[0m \u001b[0;34m=\u001b[0m \u001b[0mself\u001b[0m\u001b[0;34m.\u001b[0m\u001b[0m_maybe_define_function\u001b[0m\u001b[0;34m(\u001b[0m\u001b[0margs\u001b[0m\u001b[0;34m,\u001b[0m \u001b[0mkwargs\u001b[0m\u001b[0;34m)\u001b[0m\u001b[0;34m\u001b[0m\u001b[0;34m\u001b[0m\u001b[0m\n\u001b[0;32m-> 2829\u001b[0;31m     \u001b[0;32mreturn\u001b[0m \u001b[0mgraph_function\u001b[0m\u001b[0;34m.\u001b[0m\u001b[0m_filtered_call\u001b[0m\u001b[0;34m(\u001b[0m\u001b[0margs\u001b[0m\u001b[0;34m,\u001b[0m \u001b[0mkwargs\u001b[0m\u001b[0;34m)\u001b[0m  \u001b[0;31m# pylint: disable=protected-access\u001b[0m\u001b[0;34m\u001b[0m\u001b[0;34m\u001b[0m\u001b[0m\n\u001b[0m\u001b[1;32m   2830\u001b[0m \u001b[0;34m\u001b[0m\u001b[0m\n\u001b[1;32m   2831\u001b[0m   \u001b[0;34m@\u001b[0m\u001b[0mproperty\u001b[0m\u001b[0;34m\u001b[0m\u001b[0;34m\u001b[0m\u001b[0m\n",
      "\u001b[0;32m~/opt/anaconda3/lib/python3.7/site-packages/tensorflow/python/eager/function.py\u001b[0m in \u001b[0;36m_filtered_call\u001b[0;34m(self, args, kwargs, cancellation_manager)\u001b[0m\n\u001b[1;32m   1845\u001b[0m          if isinstance(t, (ops.Tensor,\n\u001b[1;32m   1846\u001b[0m                            resource_variable_ops.BaseResourceVariable))],\n\u001b[0;32m-> 1847\u001b[0;31m         \u001b[0mcaptured_inputs\u001b[0m\u001b[0;34m=\u001b[0m\u001b[0mself\u001b[0m\u001b[0;34m.\u001b[0m\u001b[0mcaptured_inputs\u001b[0m\u001b[0;34m,\u001b[0m\u001b[0;34m\u001b[0m\u001b[0;34m\u001b[0m\u001b[0m\n\u001b[0m\u001b[1;32m   1848\u001b[0m         cancellation_manager=cancellation_manager)\n\u001b[1;32m   1849\u001b[0m \u001b[0;34m\u001b[0m\u001b[0m\n",
      "\u001b[0;32m~/opt/anaconda3/lib/python3.7/site-packages/tensorflow/python/eager/function.py\u001b[0m in \u001b[0;36mcaptured_inputs\u001b[0;34m(self)\u001b[0m\n\u001b[1;32m   2013\u001b[0m     \"\"\"\n\u001b[1;32m   2014\u001b[0m     from_closures = nest.flatten([x() for x in self._captured_closures],\n\u001b[0;32m-> 2015\u001b[0;31m                                  expand_composites=True)\n\u001b[0m\u001b[1;32m   2016\u001b[0m     \u001b[0;32mreturn\u001b[0m \u001b[0mself\u001b[0m\u001b[0;34m.\u001b[0m\u001b[0m_captured_inputs\u001b[0m \u001b[0;34m+\u001b[0m \u001b[0mfrom_closures\u001b[0m\u001b[0;34m\u001b[0m\u001b[0;34m\u001b[0m\u001b[0m\n\u001b[1;32m   2017\u001b[0m \u001b[0;34m\u001b[0m\u001b[0m\n",
      "\u001b[0;31mKeyboardInterrupt\u001b[0m: "
     ]
    }
   ],
   "source": [
    "model.fit(X_train, y_train, epochs=200, batch_size=32)"
   ]
  },
  {
   "cell_type": "code",
   "execution_count": 17,
   "metadata": {},
   "outputs": [],
   "source": [
    "y_hat = model.predict(X_test)\n",
    "y_hat = [0 if val < 0.5 else 1 for val in y_hat]"
   ]
  },
  {
   "cell_type": "code",
   "execution_count": 18,
   "metadata": {},
   "outputs": [
    {
     "data": {
      "text/plain": [
       "0.7814052519517388"
      ]
     },
     "execution_count": 18,
     "metadata": {},
     "output_type": "execute_result"
    }
   ],
   "source": [
    "accuracy_score(y_test, y_hat)"
   ]
  },
  {
   "cell_type": "markdown",
   "metadata": {},
   "source": [
    "# 4. Saving and Reloading"
   ]
  },
  {
   "cell_type": "code",
   "execution_count": 14,
   "metadata": {
    "collapsed": true
   },
   "outputs": [
    {
     "name": "stdout",
     "output_type": "stream",
     "text": [
      "WARNING:tensorflow:From /Users/nicholasrenotte/opt/anaconda3/lib/python3.7/site-packages/tensorflow/python/training/tracking/tracking.py:111: Model.state_updates (from tensorflow.python.keras.engine.training) is deprecated and will be removed in a future version.\n",
      "Instructions for updating:\n",
      "This property should not be used in TensorFlow 2.0, as updates are applied automatically.\n",
      "WARNING:tensorflow:From /Users/nicholasrenotte/opt/anaconda3/lib/python3.7/site-packages/tensorflow/python/training/tracking/tracking.py:111: Layer.updates (from tensorflow.python.keras.engine.base_layer) is deprecated and will be removed in a future version.\n",
      "Instructions for updating:\n",
      "This property should not be used in TensorFlow 2.0, as updates are applied automatically.\n",
      "INFO:tensorflow:Assets written to: tfmodel/assets\n"
     ]
    }
   ],
   "source": [
    "model.save('tfmodel')"
   ]
  },
  {
   "cell_type": "code",
   "execution_count": 15,
   "metadata": {},
   "outputs": [],
   "source": [
    "del model "
   ]
  },
  {
   "cell_type": "code",
   "execution_count": 16,
   "metadata": {},
   "outputs": [],
   "source": [
    "model = load_model('tfmodel')"
   ]
  }
 ],
 "metadata": {
  "kernelspec": {
   "display_name": "Python 3",
   "language": "python",
   "name": "python3"
  },
  "language_info": {
   "codemirror_mode": {
    "name": "ipython",
    "version": 3
   },
   "file_extension": ".py",
   "mimetype": "text/x-python",
   "name": "python",
   "nbconvert_exporter": "python",
   "pygments_lexer": "ipython3",
   "version": "3.7.4"
  }
 },
 "nbformat": 4,
 "nbformat_minor": 2
}
