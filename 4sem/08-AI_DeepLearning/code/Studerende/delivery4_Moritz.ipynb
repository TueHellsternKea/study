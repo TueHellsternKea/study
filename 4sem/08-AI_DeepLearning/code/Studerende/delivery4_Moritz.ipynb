{
 "cells": [
  {
   "cell_type": "markdown",
   "metadata": {},
   "source": [
    "# 1. Import Data"
   ]
  },
  {
   "cell_type": "code",
   "execution_count": 24,
   "metadata": {},
   "outputs": [],
   "source": [
    "# Import\n",
    "import pandas as pd\n",
    "import numpy as np \n",
    "from sklearn.model_selection import train_test_split"
   ]
  },
  {
   "cell_type": "code",
   "execution_count": 25,
   "metadata": {},
   "outputs": [],
   "source": [
    "# Import data\n",
    "df = pd.read_excel('Samlet_Data.xlsx')"
   ]
  },
  {
   "cell_type": "code",
   "execution_count": 26,
   "metadata": {},
   "outputs": [
    {
     "name": "stdout",
     "output_type": "stream",
     "text": [
      "Person      int64\n",
      "Fz        float64\n",
      "Cz        float64\n",
      "Pz        float64\n",
      "C3        float64\n",
      "T3        float64\n",
      "C4        float64\n",
      "T4        float64\n",
      "Fp1       float64\n",
      "Fp2       float64\n",
      "F3        float64\n",
      "F4        float64\n",
      "F7        float64\n",
      "F8        float64\n",
      "P3        float64\n",
      "P4        float64\n",
      "T5        float64\n",
      "T6        float64\n",
      "O1        float64\n",
      "O2        float64\n",
      "ADHD        int64\n",
      "dtype: object\n"
     ]
    },
    {
     "data": {
      "text/html": [
       "<div>\n",
       "<style scoped>\n",
       "    .dataframe tbody tr th:only-of-type {\n",
       "        vertical-align: middle;\n",
       "    }\n",
       "\n",
       "    .dataframe tbody tr th {\n",
       "        vertical-align: top;\n",
       "    }\n",
       "\n",
       "    .dataframe thead th {\n",
       "        text-align: right;\n",
       "    }\n",
       "</style>\n",
       "<table border=\"1\" class=\"dataframe\">\n",
       "  <thead>\n",
       "    <tr style=\"text-align: right;\">\n",
       "      <th></th>\n",
       "      <th>Person</th>\n",
       "      <th>Fz</th>\n",
       "      <th>Cz</th>\n",
       "      <th>Pz</th>\n",
       "      <th>C3</th>\n",
       "      <th>T3</th>\n",
       "      <th>C4</th>\n",
       "      <th>T4</th>\n",
       "      <th>Fp1</th>\n",
       "      <th>Fp2</th>\n",
       "      <th>...</th>\n",
       "      <th>F4</th>\n",
       "      <th>F7</th>\n",
       "      <th>F8</th>\n",
       "      <th>P3</th>\n",
       "      <th>P4</th>\n",
       "      <th>T5</th>\n",
       "      <th>T6</th>\n",
       "      <th>O1</th>\n",
       "      <th>O2</th>\n",
       "      <th>ADHD</th>\n",
       "    </tr>\n",
       "  </thead>\n",
       "  <tbody>\n",
       "    <tr>\n",
       "      <th>0</th>\n",
       "      <td>1</td>\n",
       "      <td>406.245216</td>\n",
       "      <td>278.553994</td>\n",
       "      <td>311.195205</td>\n",
       "      <td>231.255983</td>\n",
       "      <td>182.955381</td>\n",
       "      <td>163.578897</td>\n",
       "      <td>195.899262</td>\n",
       "      <td>214.960414</td>\n",
       "      <td>269.520053</td>\n",
       "      <td>...</td>\n",
       "      <td>166.977800</td>\n",
       "      <td>108.628261</td>\n",
       "      <td>145.869417</td>\n",
       "      <td>162.385593</td>\n",
       "      <td>185.066248</td>\n",
       "      <td>111.396126</td>\n",
       "      <td>455.738872</td>\n",
       "      <td>164.177427</td>\n",
       "      <td>168.898866</td>\n",
       "      <td>1</td>\n",
       "    </tr>\n",
       "    <tr>\n",
       "      <th>1</th>\n",
       "      <td>2</td>\n",
       "      <td>338.874206</td>\n",
       "      <td>321.806165</td>\n",
       "      <td>145.229491</td>\n",
       "      <td>128.877279</td>\n",
       "      <td>136.471658</td>\n",
       "      <td>120.199143</td>\n",
       "      <td>120.062534</td>\n",
       "      <td>114.842249</td>\n",
       "      <td>89.742555</td>\n",
       "      <td>...</td>\n",
       "      <td>141.277772</td>\n",
       "      <td>110.007362</td>\n",
       "      <td>86.789567</td>\n",
       "      <td>122.920235</td>\n",
       "      <td>79.270314</td>\n",
       "      <td>76.847722</td>\n",
       "      <td>146.568720</td>\n",
       "      <td>121.082799</td>\n",
       "      <td>120.554203</td>\n",
       "      <td>1</td>\n",
       "    </tr>\n",
       "    <tr>\n",
       "      <th>2</th>\n",
       "      <td>3</td>\n",
       "      <td>432.093213</td>\n",
       "      <td>534.124105</td>\n",
       "      <td>253.705071</td>\n",
       "      <td>258.938625</td>\n",
       "      <td>263.050806</td>\n",
       "      <td>234.238388</td>\n",
       "      <td>290.515299</td>\n",
       "      <td>231.549914</td>\n",
       "      <td>228.616968</td>\n",
       "      <td>...</td>\n",
       "      <td>203.028227</td>\n",
       "      <td>194.627793</td>\n",
       "      <td>233.775727</td>\n",
       "      <td>235.030187</td>\n",
       "      <td>221.558224</td>\n",
       "      <td>236.490592</td>\n",
       "      <td>239.846506</td>\n",
       "      <td>247.045629</td>\n",
       "      <td>291.176679</td>\n",
       "      <td>1</td>\n",
       "    </tr>\n",
       "    <tr>\n",
       "      <th>3</th>\n",
       "      <td>4</td>\n",
       "      <td>276.289074</td>\n",
       "      <td>248.060313</td>\n",
       "      <td>189.970392</td>\n",
       "      <td>189.830029</td>\n",
       "      <td>201.918945</td>\n",
       "      <td>178.838227</td>\n",
       "      <td>209.549240</td>\n",
       "      <td>174.300613</td>\n",
       "      <td>703.473139</td>\n",
       "      <td>...</td>\n",
       "      <td>137.053173</td>\n",
       "      <td>138.588268</td>\n",
       "      <td>140.688885</td>\n",
       "      <td>108.969814</td>\n",
       "      <td>109.844978</td>\n",
       "      <td>99.918767</td>\n",
       "      <td>199.793133</td>\n",
       "      <td>149.711277</td>\n",
       "      <td>156.627688</td>\n",
       "      <td>1</td>\n",
       "    </tr>\n",
       "    <tr>\n",
       "      <th>4</th>\n",
       "      <td>5</td>\n",
       "      <td>223.942213</td>\n",
       "      <td>206.882842</td>\n",
       "      <td>177.814803</td>\n",
       "      <td>161.306944</td>\n",
       "      <td>189.485906</td>\n",
       "      <td>157.751333</td>\n",
       "      <td>188.326250</td>\n",
       "      <td>174.606640</td>\n",
       "      <td>136.620136</td>\n",
       "      <td>...</td>\n",
       "      <td>183.765303</td>\n",
       "      <td>141.684913</td>\n",
       "      <td>132.586913</td>\n",
       "      <td>148.385760</td>\n",
       "      <td>126.067493</td>\n",
       "      <td>124.801694</td>\n",
       "      <td>157.602355</td>\n",
       "      <td>151.765398</td>\n",
       "      <td>161.908581</td>\n",
       "      <td>1</td>\n",
       "    </tr>\n",
       "  </tbody>\n",
       "</table>\n",
       "<p>5 rows × 21 columns</p>\n",
       "</div>"
      ],
      "text/plain": [
       "   Person          Fz          Cz          Pz          C3          T3  \\\n",
       "0       1  406.245216  278.553994  311.195205  231.255983  182.955381   \n",
       "1       2  338.874206  321.806165  145.229491  128.877279  136.471658   \n",
       "2       3  432.093213  534.124105  253.705071  258.938625  263.050806   \n",
       "3       4  276.289074  248.060313  189.970392  189.830029  201.918945   \n",
       "4       5  223.942213  206.882842  177.814803  161.306944  189.485906   \n",
       "\n",
       "           C4          T4         Fp1         Fp2  ...          F4  \\\n",
       "0  163.578897  195.899262  214.960414  269.520053  ...  166.977800   \n",
       "1  120.199143  120.062534  114.842249   89.742555  ...  141.277772   \n",
       "2  234.238388  290.515299  231.549914  228.616968  ...  203.028227   \n",
       "3  178.838227  209.549240  174.300613  703.473139  ...  137.053173   \n",
       "4  157.751333  188.326250  174.606640  136.620136  ...  183.765303   \n",
       "\n",
       "           F7          F8          P3          P4          T5          T6  \\\n",
       "0  108.628261  145.869417  162.385593  185.066248  111.396126  455.738872   \n",
       "1  110.007362   86.789567  122.920235   79.270314   76.847722  146.568720   \n",
       "2  194.627793  233.775727  235.030187  221.558224  236.490592  239.846506   \n",
       "3  138.588268  140.688885  108.969814  109.844978   99.918767  199.793133   \n",
       "4  141.684913  132.586913  148.385760  126.067493  124.801694  157.602355   \n",
       "\n",
       "           O1          O2  ADHD  \n",
       "0  164.177427  168.898866     1  \n",
       "1  121.082799  120.554203     1  \n",
       "2  247.045629  291.176679     1  \n",
       "3  149.711277  156.627688     1  \n",
       "4  151.765398  161.908581     1  \n",
       "\n",
       "[5 rows x 21 columns]"
      ]
     },
     "execution_count": 26,
     "metadata": {},
     "output_type": "execute_result"
    }
   ],
   "source": [
    "# Explore the data loaded\n",
    "print(df.dtypes)\n",
    "df.head()"
   ]
  },
  {
   "cell_type": "code",
   "execution_count": 27,
   "metadata": {},
   "outputs": [],
   "source": [
    "X = df.drop(['ADHD', 'Person'], axis=1)\n",
    "#print(X)\n",
    "y = df['ADHD']\n",
    "#print(y)"
   ]
  },
  {
   "cell_type": "code",
   "execution_count": 28,
   "metadata": {},
   "outputs": [],
   "source": [
    "X_train, X_test, y_train, y_test = train_test_split(X, y, test_size=.2)"
   ]
  },
  {
   "cell_type": "code",
   "execution_count": 29,
   "metadata": {},
   "outputs": [
    {
     "data": {
      "text/plain": [
       "58    1\n",
       "48    1\n",
       "49    1\n",
       "53    1\n",
       "61    0\n",
       "Name: ADHD, dtype: int64"
      ]
     },
     "execution_count": 29,
     "metadata": {},
     "output_type": "execute_result"
    }
   ],
   "source": [
    "y_train.head()"
   ]
  },
  {
   "cell_type": "markdown",
   "metadata": {},
   "source": [
    "# 2. Import Dependencies"
   ]
  },
  {
   "cell_type": "code",
   "execution_count": 30,
   "metadata": {},
   "outputs": [],
   "source": [
    "from tensorflow.keras.models import Sequential, load_model # The models we use - Sequential\n",
    "from tensorflow.keras.layers import Dense # Layers\n",
    "from sklearn.metrics import accuracy_score"
   ]
  },
  {
   "cell_type": "markdown",
   "metadata": {},
   "source": [
    "# 3. Build and Compile Model\n",
    "More layers wil resulet in longer training time "
   ]
  },
  {
   "cell_type": "code",
   "execution_count": 31,
   "metadata": {},
   "outputs": [],
   "source": [
    "model = Sequential()\n",
    "model.add(Dense(units=32, activation='relu', input_dim=len(X_train.columns))) # Layer 1 - 32 neurons\n",
    "model.add(Dense(units=64, activation='relu')) # Layer 2 - 64 neurons\n",
    "model.add(Dense(units=1, activation='sigmoid')) # One output - Yes/No"
   ]
  },
  {
   "cell_type": "code",
   "execution_count": 32,
   "metadata": {},
   "outputs": [],
   "source": [
    "model.compile(loss='binary_crossentropy', optimizer='sgd', metrics='accuracy') # Compile the model"
   ]
  },
  {
   "cell_type": "markdown",
   "metadata": {},
   "source": [
    "# 4. Fit, Predict and Evaluate\n",
    "epochs = 200 Traning setting - 200 \"times\"\n",
    "\n",
    "Higher numer will result in a more accurate model. But a to high number will lead to overfitting\n",
    "\n",
    "Accuracy should go up during the 200"
   ]
  },
  {
   "cell_type": "code",
   "execution_count": null,
   "metadata": {
    "tags": []
   },
   "outputs": [],
   "source": [
    "model.fit(X_train, y_train, epochs=200, batch_size=32) # Model traning"
   ]
  },
  {
   "cell_type": "code",
   "execution_count": 34,
   "metadata": {},
   "outputs": [
    {
     "name": "stdout",
     "output_type": "stream",
     "text": [
      "1/1 [==============================] - 0s 34ms/step\n"
     ]
    }
   ],
   "source": [
    "y_hat = model.predict(X_test) # Use the test data - X_test\n",
    "y_hat = [0 if val < 0.5 else 1 for val in y_hat]"
   ]
  },
  {
   "cell_type": "code",
   "execution_count": 35,
   "metadata": {},
   "outputs": [
    {
     "name": "stdout",
     "output_type": "stream",
     "text": [
      "[1, 1, 1, 1, 1, 1, 1, 1, 0, 1, 1, 1, 1, 1, 1, 1, 1, 1]\n"
     ]
    }
   ],
   "source": [
    "print(y_hat)"
   ]
  },
  {
   "cell_type": "code",
   "execution_count": 36,
   "metadata": {},
   "outputs": [
    {
     "name": "stdout",
     "output_type": "stream",
     "text": [
      "0.5\n",
      "\n",
      "\n",
      "Evaluation against Test Dataset :\n",
      "------------------------------------\n",
      "1/1 [==============================] - 0s 76ms/step - loss: 0.7640 - accuracy: 0.5000\n"
     ]
    },
    {
     "data": {
      "text/plain": [
       "[0.7640416026115417, 0.5]"
      ]
     },
     "execution_count": 36,
     "metadata": {},
     "output_type": "execute_result"
    }
   ],
   "source": [
    "# Evaluate the model against the test dataset and print results\n",
    "# If it is too low use a higher number in epochs - ex. 500 >> 0.8\n",
    "print(accuracy_score(y_test, y_hat))\n",
    "print()\n",
    "print(\"\\nEvaluation against Test Dataset :\\n------------------------------------\")\n",
    "model.evaluate(X_test, y_test)"
   ]
  },
  {
   "cell_type": "markdown",
   "metadata": {},
   "source": [
    "# 5. Saving and Reloading"
   ]
  },
  {
   "cell_type": "code",
   "execution_count": 15,
   "metadata": {
    "tags": []
   },
   "outputs": [
    {
     "name": "stdout",
     "output_type": "stream",
     "text": [
      "INFO:tensorflow:Assets written to: tfmodel/assets\n"
     ]
    }
   ],
   "source": [
    "model.save('tfmodel') # Save the model in - ..\\tfmodel\\assets"
   ]
  },
  {
   "cell_type": "code",
   "execution_count": null,
   "metadata": {},
   "outputs": [],
   "source": [
    "del model # Delete model"
   ]
  },
  {
   "cell_type": "code",
   "execution_count": null,
   "metadata": {},
   "outputs": [],
   "source": [
    "model = load_model('tfmodel') # Load model"
   ]
  }
 ],
 "metadata": {
  "kernelspec": {
   "display_name": "Python 3 (ipykernel)",
   "language": "python",
   "name": "python3"
  },
  "language_info": {
   "codemirror_mode": {
    "name": "ipython",
    "version": 3
   },
   "file_extension": ".py",
   "mimetype": "text/x-python",
   "name": "python",
   "nbconvert_exporter": "python",
   "pygments_lexer": "ipython3",
   "version": "3.10.2"
  }
 },
 "nbformat": 4,
 "nbformat_minor": 4
}
