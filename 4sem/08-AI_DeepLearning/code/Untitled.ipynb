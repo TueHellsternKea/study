{
 "cells": [
  {
   "cell_type": "code",
   "execution_count": 1,
   "id": "56f3e9af-3868-41e4-9700-4e0168dada14",
   "metadata": {},
   "outputs": [],
   "source": [
    "# Imports\n",
    "import tensorflow as tf\n",
    "import numpy as np\n",
    "from tensorflow import keras"
   ]
  },
  {
   "cell_type": "code",
   "execution_count": 2,
   "id": "02b8554f-916a-4e01-acbb-3e88f17fbde4",
   "metadata": {},
   "outputs": [],
   "source": [
    "model = tf.keras.Sequential([keras.layers.Dense\n",
    "                             (units=1, input_shape=[1])])"
   ]
  },
  {
   "cell_type": "code",
   "execution_count": 3,
   "id": "ab58dea8-5ba8-4142-8da5-c7215627c39b",
   "metadata": {},
   "outputs": [],
   "source": [
    "model.compile(optimizer='sgd', loss='mean_squared_error')"
   ]
  },
  {
   "cell_type": "code",
   "execution_count": 4,
   "id": "aab39092-8380-497f-ace4-4002e04f0146",
   "metadata": {},
   "outputs": [],
   "source": [
    "xs = np.array([-1.0, 0.0, 1.0, 2.0, 3.0, 4.0], dtype=float)\n",
    "ys = np.array([-2.0, 1.0, 4.0, 7.0, 10.0, 13.0], dtype=float)"
   ]
  },
  {
   "cell_type": "code",
   "execution_count": null,
   "id": "eb5ea5c6-6ab5-4c87-ad71-2c91ec7553f1",
   "metadata": {},
   "outputs": [],
   "source": [
    "model.fit(xs, ys, epochs=500)"
   ]
  },
  {
   "cell_type": "code",
   "execution_count": 7,
   "id": "87728aeb-c791-4ba4-9738-106d6baa4d13",
   "metadata": {},
   "outputs": [
    {
     "name": "stdout",
     "output_type": "stream",
     "text": [
      "1/1 [==============================] - 0s 34ms/step\n",
      "[[60.99533]]\n"
     ]
    }
   ],
   "source": [
    "print(model.predict([20.0]))"
   ]
  },
  {
   "cell_type": "code",
   "execution_count": null,
   "id": "26ae4824-cc8d-4583-b469-5d3aa8d80eb7",
   "metadata": {},
   "outputs": [],
   "source": []
  }
 ],
 "metadata": {
  "kernelspec": {
   "display_name": "Python 3 (ipykernel)",
   "language": "python",
   "name": "python3"
  },
  "language_info": {
   "codemirror_mode": {
    "name": "ipython",
    "version": 3
   },
   "file_extension": ".py",
   "mimetype": "text/x-python",
   "name": "python",
   "nbconvert_exporter": "python",
   "pygments_lexer": "ipython3",
   "version": "3.10.4"
  }
 },
 "nbformat": 4,
 "nbformat_minor": 5
}
