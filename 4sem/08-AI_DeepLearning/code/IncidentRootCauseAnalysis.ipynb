{
 "cells": [
  {
   "cell_type": "markdown",
   "metadata": {},
   "source": [
    "#  Incident Root Cause Analysis \n",
    "\n",
    "Incident Reports in ITOps usually states the symptoms. Identifying the root cause of the symptom quickly is a key determinant to reducing resolution times and improving user satisfaction."
   ]
  },
  {
   "cell_type": "code",
   "execution_count": null,
   "metadata": {},
   "outputs": [],
   "source": [
    "# Install from the terminal\n",
    "#pip3 install tensorflow"
   ]
  },
  {
   "cell_type": "markdown",
   "metadata": {},
   "source": [
    "# 06.02. Preprocessing Incident Data\n",
    "\n",
    "### Loading the Dataset"
   ]
  },
  {
   "cell_type": "code",
   "execution_count": 1,
   "metadata": {
    "scrolled": true
   },
   "outputs": [
    {
     "name": "stdout",
     "output_type": "stream",
     "text": [
      "ID                   int64\n",
      "CPU_LOAD             int64\n",
      "MEMORY_LEAK_LOAD     int64\n",
      "DELAY                int64\n",
      "ERROR_1000           int64\n",
      "ERROR_1001           int64\n",
      "ERROR_1002           int64\n",
      "ERROR_1003           int64\n",
      "ROOT_CAUSE          object\n",
      "dtype: object\n"
     ]
    },
    {
     "data": {
      "text/html": [
       "<div>\n",
       "<style scoped>\n",
       "    .dataframe tbody tr th:only-of-type {\n",
       "        vertical-align: middle;\n",
       "    }\n",
       "\n",
       "    .dataframe tbody tr th {\n",
       "        vertical-align: top;\n",
       "    }\n",
       "\n",
       "    .dataframe thead th {\n",
       "        text-align: right;\n",
       "    }\n",
       "</style>\n",
       "<table border=\"1\" class=\"dataframe\">\n",
       "  <thead>\n",
       "    <tr style=\"text-align: right;\">\n",
       "      <th></th>\n",
       "      <th>ID</th>\n",
       "      <th>CPU_LOAD</th>\n",
       "      <th>MEMORY_LEAK_LOAD</th>\n",
       "      <th>DELAY</th>\n",
       "      <th>ERROR_1000</th>\n",
       "      <th>ERROR_1001</th>\n",
       "      <th>ERROR_1002</th>\n",
       "      <th>ERROR_1003</th>\n",
       "      <th>ROOT_CAUSE</th>\n",
       "    </tr>\n",
       "  </thead>\n",
       "  <tbody>\n",
       "    <tr>\n",
       "      <th>0</th>\n",
       "      <td>1</td>\n",
       "      <td>0</td>\n",
       "      <td>0</td>\n",
       "      <td>0</td>\n",
       "      <td>0</td>\n",
       "      <td>1</td>\n",
       "      <td>0</td>\n",
       "      <td>1</td>\n",
       "      <td>MEMORY_LEAK</td>\n",
       "    </tr>\n",
       "    <tr>\n",
       "      <th>1</th>\n",
       "      <td>2</td>\n",
       "      <td>0</td>\n",
       "      <td>0</td>\n",
       "      <td>0</td>\n",
       "      <td>0</td>\n",
       "      <td>0</td>\n",
       "      <td>0</td>\n",
       "      <td>1</td>\n",
       "      <td>MEMORY_LEAK</td>\n",
       "    </tr>\n",
       "    <tr>\n",
       "      <th>2</th>\n",
       "      <td>3</td>\n",
       "      <td>0</td>\n",
       "      <td>1</td>\n",
       "      <td>1</td>\n",
       "      <td>0</td>\n",
       "      <td>0</td>\n",
       "      <td>1</td>\n",
       "      <td>1</td>\n",
       "      <td>MEMORY_LEAK</td>\n",
       "    </tr>\n",
       "    <tr>\n",
       "      <th>3</th>\n",
       "      <td>4</td>\n",
       "      <td>0</td>\n",
       "      <td>1</td>\n",
       "      <td>0</td>\n",
       "      <td>1</td>\n",
       "      <td>1</td>\n",
       "      <td>0</td>\n",
       "      <td>1</td>\n",
       "      <td>MEMORY_LEAK</td>\n",
       "    </tr>\n",
       "    <tr>\n",
       "      <th>4</th>\n",
       "      <td>5</td>\n",
       "      <td>1</td>\n",
       "      <td>1</td>\n",
       "      <td>0</td>\n",
       "      <td>1</td>\n",
       "      <td>0</td>\n",
       "      <td>1</td>\n",
       "      <td>0</td>\n",
       "      <td>NETWORK_DELAY</td>\n",
       "    </tr>\n",
       "  </tbody>\n",
       "</table>\n",
       "</div>"
      ],
      "text/plain": [
       "   ID  CPU_LOAD  MEMORY_LEAK_LOAD  DELAY  ERROR_1000  ERROR_1001  ERROR_1002  \\\n",
       "0   1         0                 0      0           0           1           0   \n",
       "1   2         0                 0      0           0           0           0   \n",
       "2   3         0                 1      1           0           0           1   \n",
       "3   4         0                 1      0           1           1           0   \n",
       "4   5         1                 1      0           1           0           1   \n",
       "\n",
       "   ERROR_1003     ROOT_CAUSE  \n",
       "0           1    MEMORY_LEAK  \n",
       "1           1    MEMORY_LEAK  \n",
       "2           1    MEMORY_LEAK  \n",
       "3           1    MEMORY_LEAK  \n",
       "4           0  NETWORK_DELAY  "
      ]
     },
     "execution_count": 1,
     "metadata": {},
     "output_type": "execute_result"
    }
   ],
   "source": [
    "import pandas as pd\n",
    "import os\n",
    "import tensorflow as tf\n",
    "\n",
    "# Load the data file into a Pandas Dataframe\n",
    "symptom_data = pd.read_csv(\"root_cause_analysis.csv\")\n",
    "\n",
    "# Explore the data loaded\n",
    "print(symptom_data.dtypes)\n",
    "symptom_data.head()"
   ]
  },
  {
   "cell_type": "markdown",
   "metadata": {},
   "source": [
    "### Convert  data\n",
    "\n",
    "Input data needs to be converted to formats that can be consumed by ML algorithms"
   ]
  },
  {
   "cell_type": "code",
   "execution_count": 2,
   "metadata": {},
   "outputs": [
    {
     "name": "stdout",
     "output_type": "stream",
     "text": [
      "Shape of feature variables : (900, 7)\n",
      "Shape of target variable : (900, 3)\n"
     ]
    }
   ],
   "source": [
    "from sklearn import preprocessing\n",
    "from sklearn.model_selection import train_test_split\n",
    "\n",
    "label_encoder = preprocessing.LabelEncoder()\n",
    "symptom_data['ROOT_CAUSE'] = label_encoder.fit_transform(symptom_data['ROOT_CAUSE'])\n",
    "\n",
    "# Convert Pandas DataFrame to a numpy vector\n",
    "np_symptom = symptom_data.to_numpy().astype(float)\n",
    "\n",
    "# Extract the feature variables (X)\n",
    "X_data = np_symptom[:,1:8]\n",
    "\n",
    "# Extract the target variable (Y), conver to one-hot-encodign\n",
    "Y_data=np_symptom[:,8]\n",
    "Y_data = tf.keras.utils.to_categorical(Y_data,3)\n",
    "\n",
    "# Split training and test data\n",
    "X_train,X_test,Y_train,Y_test = train_test_split( X_data, Y_data, test_size=0.10)\n",
    "\n",
    "print(\"Shape of feature variables :\", X_train.shape)\n",
    "print(\"Shape of target variable :\",Y_train.shape)"
   ]
  },
  {
   "cell_type": "markdown",
   "metadata": {},
   "source": [
    "## 06.03. Building and evaluating the model"
   ]
  },
  {
   "cell_type": "code",
   "execution_count": 3,
   "metadata": {},
   "outputs": [
    {
     "name": "stdout",
     "output_type": "stream",
     "text": [
      "Model: \"sequential\"\n",
      "_________________________________________________________________\n",
      " Layer (type)                Output Shape              Param #   \n",
      "=================================================================\n",
      " Dense-Layer-1 (Dense)       (None, 128)               1024      \n",
      "                                                                 \n",
      " Dense-Layer-2 (Dense)       (None, 128)               16512     \n",
      "                                                                 \n",
      " Final (Dense)               (None, 3)                 387       \n",
      "                                                                 \n",
      "=================================================================\n",
      "Total params: 17,923\n",
      "Trainable params: 17,923\n",
      "Non-trainable params: 0\n",
      "_________________________________________________________________\n",
      "Epoch 1/20\n",
      "12/12 [==============================] - 1s 24ms/step - loss: 0.8564 - accuracy: 0.7667 - val_loss: 0.6760 - val_accuracy: 0.8000\n",
      "Epoch 2/20\n",
      "12/12 [==============================] - 0s 4ms/step - loss: 0.5836 - accuracy: 0.8389 - val_loss: 0.5621 - val_accuracy: 0.7833\n",
      "Epoch 3/20\n",
      "12/12 [==============================] - 0s 3ms/step - loss: 0.4824 - accuracy: 0.8347 - val_loss: 0.5076 - val_accuracy: 0.7667\n",
      "Epoch 4/20\n",
      "12/12 [==============================] - 0s 3ms/step - loss: 0.4385 - accuracy: 0.8403 - val_loss: 0.5024 - val_accuracy: 0.7667\n",
      "Epoch 5/20\n",
      "12/12 [==============================] - 0s 3ms/step - loss: 0.4181 - accuracy: 0.8542 - val_loss: 0.4775 - val_accuracy: 0.8000\n",
      "Epoch 6/20\n",
      "12/12 [==============================] - 0s 3ms/step - loss: 0.4104 - accuracy: 0.8542 - val_loss: 0.4930 - val_accuracy: 0.7889\n",
      "Epoch 7/20\n",
      "12/12 [==============================] - 0s 3ms/step - loss: 0.4047 - accuracy: 0.8458 - val_loss: 0.4953 - val_accuracy: 0.7778\n",
      "Epoch 8/20\n",
      "12/12 [==============================] - 0s 3ms/step - loss: 0.3985 - accuracy: 0.8583 - val_loss: 0.4770 - val_accuracy: 0.8111\n",
      "Epoch 9/20\n",
      "12/12 [==============================] - 0s 3ms/step - loss: 0.3968 - accuracy: 0.8653 - val_loss: 0.4750 - val_accuracy: 0.8111\n",
      "Epoch 10/20\n",
      "12/12 [==============================] - 0s 3ms/step - loss: 0.3874 - accuracy: 0.8569 - val_loss: 0.4796 - val_accuracy: 0.8111\n",
      "Epoch 11/20\n",
      "12/12 [==============================] - 0s 3ms/step - loss: 0.3843 - accuracy: 0.8569 - val_loss: 0.4777 - val_accuracy: 0.8056\n",
      "Epoch 12/20\n",
      "12/12 [==============================] - 0s 3ms/step - loss: 0.3823 - accuracy: 0.8556 - val_loss: 0.4659 - val_accuracy: 0.8278\n",
      "Epoch 13/20\n",
      "12/12 [==============================] - 0s 3ms/step - loss: 0.3788 - accuracy: 0.8625 - val_loss: 0.4794 - val_accuracy: 0.8222\n",
      "Epoch 14/20\n",
      "12/12 [==============================] - 0s 3ms/step - loss: 0.3708 - accuracy: 0.8667 - val_loss: 0.4692 - val_accuracy: 0.8278\n",
      "Epoch 15/20\n",
      "12/12 [==============================] - 0s 4ms/step - loss: 0.3716 - accuracy: 0.8583 - val_loss: 0.4622 - val_accuracy: 0.8444\n",
      "Epoch 16/20\n",
      "12/12 [==============================] - 0s 3ms/step - loss: 0.3674 - accuracy: 0.8653 - val_loss: 0.4699 - val_accuracy: 0.8056\n",
      "Epoch 17/20\n",
      "12/12 [==============================] - 0s 4ms/step - loss: 0.3664 - accuracy: 0.8722 - val_loss: 0.4606 - val_accuracy: 0.8111\n",
      "Epoch 18/20\n",
      "12/12 [==============================] - 0s 3ms/step - loss: 0.3641 - accuracy: 0.8639 - val_loss: 0.4784 - val_accuracy: 0.8111\n",
      "Epoch 19/20\n",
      "12/12 [==============================] - 0s 3ms/step - loss: 0.3618 - accuracy: 0.8681 - val_loss: 0.4452 - val_accuracy: 0.8444\n",
      "Epoch 20/20\n",
      "12/12 [==============================] - 0s 4ms/step - loss: 0.3560 - accuracy: 0.8681 - val_loss: 0.4526 - val_accuracy: 0.8444\n",
      "\n",
      "Evaluation against Test Dataset :\n",
      "------------------------------------\n",
      "4/4 [==============================] - 0s 1ms/step - loss: 0.6259 - accuracy: 0.7900\n"
     ]
    },
    {
     "data": {
      "text/plain": [
       "[0.6259332895278931, 0.7900000214576721]"
      ]
     },
     "execution_count": 3,
     "metadata": {},
     "output_type": "execute_result"
    }
   ],
   "source": [
    "from tensorflow import keras\n",
    "from tensorflow.keras import optimizers\n",
    "from tensorflow.keras.regularizers import l2\n",
    "\n",
    "# Setup Training Parameters\n",
    "EPOCHS=20\n",
    "BATCH_SIZE=64\n",
    "VERBOSE=1\n",
    "OUTPUT_CLASSES=len(label_encoder.classes_)\n",
    "N_HIDDEN=128\n",
    "VALIDATION_SPLIT=0.2\n",
    "\n",
    "# Create a Keras sequential model\n",
    "model = tf.keras.models.Sequential()\n",
    "\n",
    "# Add a Dense Layer\n",
    "model.add(keras.layers.Dense(N_HIDDEN,\n",
    "                             input_shape=(7,),\n",
    "                              name='Dense-Layer-1',\n",
    "                              activation='relu'))\n",
    "\n",
    "# Add a second dense layer\n",
    "model.add(keras.layers.Dense(N_HIDDEN,\n",
    "                              name='Dense-Layer-2',\n",
    "                              activation='relu'))\n",
    "\n",
    "# Add a softmax layer for categorial prediction\n",
    "model.add(keras.layers.Dense(OUTPUT_CLASSES,\n",
    "                             name='Final',\n",
    "                             activation='softmax'))\n",
    "\n",
    "# Compile the model\n",
    "model.compile(\n",
    "              loss='categorical_crossentropy',\n",
    "              metrics=['accuracy'])\n",
    "\n",
    "\n",
    "model.summary()\n",
    "\n",
    "# Build the model\n",
    "model.fit(X_train,\n",
    "          Y_train,\n",
    "          batch_size=BATCH_SIZE,\n",
    "          epochs=EPOCHS,\n",
    "          verbose=VERBOSE,\n",
    "          validation_split=VALIDATION_SPLIT)\n",
    "\n",
    "\n",
    "# Evaluate the model against the test dataset and print results\n",
    "print(\"\\nEvaluation against Test Dataset :\\n------------------------------------\")\n",
    "model.evaluate(X_test,Y_test)"
   ]
  },
  {
   "cell_type": "markdown",
   "metadata": {},
   "source": [
    "## 06.04. Predicting Root Causes"
   ]
  },
  {
   "cell_type": "code",
   "execution_count": 4,
   "metadata": {},
   "outputs": [
    {
     "name": "stdout",
     "output_type": "stream",
     "text": [
      "1/1 [==============================] - 0s 80ms/step\n",
      "['DATABASE_ISSUE']\n"
     ]
    }
   ],
   "source": [
    "# Pass individual flags to Predict the root cause\n",
    "import numpy as np\n",
    "\n",
    "CPU_LOAD=1\n",
    "MEMORY_LOAD=0\n",
    "DELAY=0\n",
    "ERROR_1000=0\n",
    "ERROR_1001=1\n",
    "ERROR_1002=1\n",
    "ERROR_1003=0\n",
    "\n",
    "prediction=np.argmax(model.predict(\n",
    "    [[CPU_LOAD,MEMORY_LOAD,DELAY,\n",
    "      ERROR_1000,ERROR_1001,ERROR_1002,ERROR_1003]]), axis=1 )\n",
    "\n",
    "print(label_encoder.inverse_transform(prediction))"
   ]
  },
  {
   "cell_type": "code",
   "execution_count": 5,
   "metadata": {},
   "outputs": [
    {
     "name": "stdout",
     "output_type": "stream",
     "text": [
      "1/1 [==============================] - 0s 29ms/step\n",
      "['DATABASE_ISSUE' 'NETWORK_DELAY' 'MEMORY_LEAK' 'DATABASE_ISSUE'\n",
      " 'DATABASE_ISSUE']\n"
     ]
    }
   ],
   "source": [
    "# Predicting as a Batch\n",
    "print(label_encoder.inverse_transform(np.argmax(\n",
    "        model.predict([[1,0,0,0,1,1,0],\n",
    "                                [0,1,1,1,0,0,0],\n",
    "                                [1,1,0,1,1,0,1],\n",
    "                                [0,0,0,0,0,1,0],\n",
    "                                [1,0,1,0,1,1,1]]), axis=1 )))"
   ]
  },
  {
   "cell_type": "code",
   "execution_count": null,
   "metadata": {},
   "outputs": [],
   "source": []
  }
 ],
 "metadata": {
  "kernelspec": {
   "display_name": "Python 3 (ipykernel)",
   "language": "python",
   "name": "python3"
  },
  "language_info": {
   "codemirror_mode": {
    "name": "ipython",
    "version": 3
   },
   "file_extension": ".py",
   "mimetype": "text/x-python",
   "name": "python",
   "nbconvert_exporter": "python",
   "pygments_lexer": "ipython3",
   "version": "3.10.4"
  }
 },
 "nbformat": 4,
 "nbformat_minor": 4
}
