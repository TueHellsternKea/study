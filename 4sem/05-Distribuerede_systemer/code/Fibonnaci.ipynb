{
 "cells": [
  {
   "cell_type": "markdown",
   "id": "58f2b5f0-f5d9-47a3-8f73-e20eaf78c104",
   "metadata": {},
   "source": [
    "# Generating Fibonnaci series\n",
    "Define two functions: \n",
    "\n",
    "- runs locally or serially\n",
    "- runs on a Ray cluster"
   ]
  },
  {
   "cell_type": "code",
   "execution_count": null,
   "id": "ace8894c-5fec-4ab2-be32-26e8d731bac1",
   "metadata": {},
   "outputs": [],
   "source": [
    "# Only first time!\n",
    "!pip3 install numpy\n",
    "!pip3 install ray"
   ]
  },
  {
   "cell_type": "code",
   "execution_count": null,
   "id": "5fb1f8ea-fdcf-4c56-9438-fd7be371fc18",
   "metadata": {},
   "outputs": [],
   "source": [
    "# Import mudules\n",
    "import os\n",
    "import time\n",
    "import logging\n",
    "\n",
    "import numpy as np\n",
    "from numpy import loadtxt\n",
    "\n",
    "import ray"
   ]
  },
  {
   "cell_type": "code",
   "execution_count": null,
   "id": "f4f11c2b-0f27-439d-8aca-4ac8b81684e5",
   "metadata": {},
   "outputs": [],
   "source": [
    "# Local execution \n",
    "def generate_fibonacci(sequence_size):\n",
    "    fibonacci = []\n",
    "    for i in range(0, sequence_size):\n",
    "        if i < 2:\n",
    "            fibonacci.append(i)\n",
    "            continue\n",
    "        fibonacci.append(fibonacci[i-1]+fibonacci[i-2])\n",
    "    return len(fibonacci)"
   ]
  },
  {
   "cell_type": "code",
   "execution_count": null,
   "id": "dddf6c99-9d55-4691-8729-e65ef95377e0",
   "metadata": {},
   "outputs": [],
   "source": [
    "# Remote Task with just a wrapper\n",
    "@ray.remote\n",
    "def generate_fibonacci_distributed(sequence_size):\n",
    "    return generate_fibonacci(sequence_size)"
   ]
  },
  {
   "cell_type": "code",
   "execution_count": null,
   "id": "b2d48e4f-aa72-4d5b-bb5c-7edd00958b70",
   "metadata": {},
   "outputs": [],
   "source": [
    "# Get the number of cores on the computer\n",
    "os.cpu_count()"
   ]
  },
  {
   "cell_type": "code",
   "execution_count": null,
   "id": "e9d60cb0-c033-4233-a77d-669cd6313e04",
   "metadata": {},
   "outputs": [],
   "source": [
    "# Normal Python in a single process \n",
    "def run_local(sequence_size):\n",
    "    results = [generate_fibonacci(sequence_size) for _ in range(os.cpu_count())]\n",
    "    return results"
   ]
  },
  {
   "cell_type": "code",
   "execution_count": null,
   "id": "ddf905c0-492b-47cf-8b1b-4920c90a84f2",
   "metadata": {},
   "outputs": [],
   "source": [
    "%%time\n",
    "run_local(100000)"
   ]
  },
  {
   "cell_type": "code",
   "execution_count": null,
   "id": "547235e5-d739-4c81-a7bf-18068ad64338",
   "metadata": {},
   "outputs": [],
   "source": [
    "# Distributed on a Ray cluster\n",
    "def run_remote(sequence_size):\n",
    "    results = ray.get([generate_fibonacci_distributed.remote(sequence_size) for _ in range(os.cpu_count())])\n",
    "    return results"
   ]
  },
  {
   "cell_type": "code",
   "execution_count": null,
   "id": "a761fd9f-6ac3-40a2-862b-7e99da50dafd",
   "metadata": {},
   "outputs": [],
   "source": [
    "%%time\n",
    "run_remote(100000)"
   ]
  }
 ],
 "metadata": {
  "kernelspec": {
   "display_name": "Python 3 (ipykernel)",
   "language": "python",
   "name": "python3"
  },
  "language_info": {
   "codemirror_mode": {
    "name": "ipython",
    "version": 3
   },
   "file_extension": ".py",
   "mimetype": "text/x-python",
   "name": "python",
   "nbconvert_exporter": "python",
   "pygments_lexer": "ipython3",
   "version": "3.8.10"
  }
 },
 "nbformat": 4,
 "nbformat_minor": 5
}
