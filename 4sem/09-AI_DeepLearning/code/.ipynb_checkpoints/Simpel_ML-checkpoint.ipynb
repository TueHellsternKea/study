{
 "cells": [
  {
   "cell_type": "markdown",
   "id": "dd4e9237-2efc-4915-90aa-d3682d06e76e",
   "metadata": {},
   "source": [
    "# Simpel TensorFlow Demo\n",
    "Consider the following sets of **numbers**. **Can you see the relationship between them?**\n",
    "\n",
    "| X: | -1 | 0 | 1 | 2 | 3  | 4  |\n",
    "|----|----|---|---|---|----|----|\n",
    "| Y: | -2 | 1 | 4 | 7 | 10 | 13 |\n",
    "\n",
    "\n",
    "As you look at them, you might notice that the value of **X** is **increasing** by **1** as you read left to right and the corresponding value of **Y** is **increasing** by **3**.\n",
    "\n",
    "You probably think that Y equals 3X plus or minus something. \n",
    "\n",
    "Look at the **0** on **X** and see that **Y** is **1**, and you'd come up with the relationship\n",
    "\n",
    "**Y=3X+1**\n",
    "\n",
    "*How would you train a neural network to do the equivalent task?*\n",
    "\n",
    "*By feeding it with a set of X's and a set of Y's, it should be able to figure out the relationship between them.*\n"
   ]
  },
  {
   "cell_type": "code",
   "execution_count": 1,
   "id": "cf1b892f-f8ea-43dc-9f6b-93db8494c889",
   "metadata": {},
   "outputs": [],
   "source": [
    "# Imports\n",
    "import tensorflow as tf\n",
    "import numpy as np\n",
    "from tensorflow import keras"
   ]
  },
  {
   "cell_type": "markdown",
   "id": "0c9a9aea-ae04-4451-81b0-df5a27e7025c",
   "metadata": {},
   "source": [
    "# Define and compile the neural network\n",
    "Create the *simplest* possible neural network. It has **one layer**, that layer has **one neuron**, and the input shape to it is only one value."
   ]
  },
  {
   "cell_type": "code",
   "execution_count": 2,
   "id": "4cda4ad7-6a46-468a-96b2-4b12f9e45df9",
   "metadata": {},
   "outputs": [],
   "source": [
    "model = tf.keras.Sequential([keras.layers.Dense\n",
    "                             (units=1, input_shape=[1])])"
   ]
  },
  {
   "cell_type": "markdown",
   "id": "55e9b19b-0d85-4341-8bce-a31801a0ad73",
   "metadata": {},
   "source": [
    "Write the code to compile your neural network. When you do so, you need to specify two functions:\n",
    "\n",
    "- loss\n",
    "- optimizer\n",
    "\n",
    "In this example, you know that the relationship between the numbers is **Y=3X+1**\n",
    "\n",
    "When the computer is trying to learn that, it makes a guess, maybe **Y=10X+10**. The loss function measures the guessed answers against the known correct answers and measures how well or badly it did.\n",
    "\n",
    "Next, the model uses the optimizer function to make another guess. Based on the loss function's result, it tries to minimize the loss. \n",
    "\n",
    "At this point, maybe it will come up with something like **Y=5X+5**. While that's still pretty bad, it's closer to the correct result (*the loss is lower*).\n",
    "\n",
    "The model repeats that for the number of **epochs**, which you'll see shortly.\n",
    "\n",
    "Here's how to tell it to use mean_squared_error for the loss and stochastic gradient descent (**sgd**) for the optimizer. \n",
    "\n",
    "*You don't need to understand the math for those , but you can see that they work!*"
   ]
  },
  {
   "cell_type": "code",
   "execution_count": 3,
   "id": "9141a7b8-3df5-488c-b6e5-df9d5430ceee",
   "metadata": {},
   "outputs": [],
   "source": [
    "model.compile(optimizer='sgd', loss='mean_squared_error')"
   ]
  },
  {
   "cell_type": "markdown",
   "id": "b0b60337-435d-4842-926a-b9673e2b9cd3",
   "metadata": {},
   "source": [
    "# Provide the data\n",
    "In this case, you take the **six X** and **six Y** variables from earlier. \n",
    "\n",
    "You can see that the relationship between those is that **Y=3X+1**, so where **X **is **-1**, **Y** is **-2**.\n",
    "\n",
    "Specify the values as an array in **NumPy** with **np.array[]**"
   ]
  },
  {
   "cell_type": "code",
   "execution_count": 4,
   "id": "70258fdf-589c-4989-90c9-b4e2d58f004b",
   "metadata": {},
   "outputs": [],
   "source": [
    "xs = np.array([-1.0, 0.0, 1.0, 2.0, 3.0, 4.0], dtype=float)\n",
    "ys = np.array([-2.0, 1.0, 4.0, 7.0, 10.0, 13.0], dtype=float)"
   ]
  },
  {
   "cell_type": "markdown",
   "id": "27572531-29fd-436f-80aa-f25a00f2e576",
   "metadata": {},
   "source": [
    "Now you have all the code you need to define the neural network. \n",
    "\n",
    "The next step is to train it to see if it can infer the patterns between those numbers and use them to create a model."
   ]
  },
  {
   "cell_type": "markdown",
   "id": "b438d6cc-f844-423d-98b8-b58a8201f4a3",
   "metadata": {},
   "source": [
    "# Train the neural network\n",
    "The process of training the neural network, where it learns the relationship between the X's and Y's, is in the **model.fit** call.\n",
    "\n",
    "That's where it will go through the loop before making a guess, measuring how good or bad it is (*the loss*), or using the optimizer to make another guess.\n",
    "\n",
    "It will do that for the number of epochs that you specify. When you run that code, you'll see the loss will be printed out for each **epoch**.\n",
    "\n",
    "You can see that for the first few epochs, the loss value is quite **large**, but it's getting **smaller** with each step"
   ]
  },
  {
   "cell_type": "code",
   "execution_count": null,
   "id": "172e4c74-81ff-4784-a8de-286150c3a79c",
   "metadata": {},
   "outputs": [],
   "source": [
    "model.fit(xs, ys, epochs=500)"
   ]
  },
  {
   "cell_type": "markdown",
   "id": "903d61b0-6e42-4300-9964-9a82623bead5",
   "metadata": {},
   "source": [
    "You probably don't need all **500** epochs and can experiment with different amounts.\n",
    "\n",
    "As you can see from the example, the loss is really small after only 50 epochs, so that might be enough!"
   ]
  },
  {
   "cell_type": "markdown",
   "id": "f7fbbb87-c4d0-4501-859a-f70dad5e5805",
   "metadata": {},
   "source": [
    "# Use the model\n",
    "You have a model that has been trained to learn the relationship between **X** and **Y**.\n",
    "\n",
    "You can use the **model.predict** method to have it figure out the Y for a previously unknown X.\n",
    "\n",
    "For example, if **X is 10**, what do you think Y will be? \n",
    "\n",
    "*Take a guess before you run the following code:*"
   ]
  },
  {
   "cell_type": "code",
   "execution_count": 6,
   "id": "d2167651-e7bf-4d0f-a047-076a3c6b235f",
   "metadata": {},
   "outputs": [
    {
     "name": "stdout",
     "output_type": "stream",
     "text": [
      "1/1 [==============================] - 0s 140ms/step\n",
      "[[31.002237]]\n"
     ]
    }
   ],
   "source": [
    "print(model.predict([10.0]))"
   ]
  },
  {
   "cell_type": "markdown",
   "id": "737e29ec-00c7-43e5-9b1d-37a0f52ea9f0",
   "metadata": {},
   "source": [
    "Neural networks deal with probabilities, so it calculated that there is a very high probability that the relationship between X and Y is Y=3X+1, but it can't know for sure with only six data points.\n",
    "\n",
    "The result is very close to 31, but not necessarily 31.\n",
    "\n",
    "As you work with neural networks, you'll see that pattern recurring. You will almost always deal with probabilities, not certainties, and will do a little bit of coding to figure out what the result is based on the probabilities, particularly when it comes to classification."
   ]
  },
  {
   "cell_type": "code",
   "execution_count": null,
   "id": "f8804394-d5b1-4464-8478-86ff3b69beee",
   "metadata": {},
   "outputs": [],
   "source": []
  }
 ],
 "metadata": {
  "kernelspec": {
   "display_name": "Python 3 (ipykernel)",
   "language": "python",
   "name": "python3"
  },
  "language_info": {
   "codemirror_mode": {
    "name": "ipython",
    "version": 3
   },
   "file_extension": ".py",
   "mimetype": "text/x-python",
   "name": "python",
   "nbconvert_exporter": "python",
   "pygments_lexer": "ipython3",
   "version": "3.10.4"
  }
 },
 "nbformat": 4,
 "nbformat_minor": 5
}
