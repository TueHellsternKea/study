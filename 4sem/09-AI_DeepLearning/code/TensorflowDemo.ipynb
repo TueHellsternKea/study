{
 "cells": [
  {
   "cell_type": "markdown",
   "metadata": {},
   "source": [
    "# 1. Import Data"
   ]
  },
  {
   "cell_type": "code",
   "execution_count": 1,
   "metadata": {},
   "outputs": [],
   "source": [
    "# Import\n",
    "import pandas as pd\n",
    "import numpy as np \n",
    "from sklearn.model_selection import train_test_split"
   ]
  },
  {
   "cell_type": "code",
   "execution_count": 2,
   "metadata": {},
   "outputs": [],
   "source": [
    "# Import data\n",
    "df = pd.read_csv('Churn.csv')"
   ]
  },
  {
   "cell_type": "code",
   "execution_count": 3,
   "metadata": {},
   "outputs": [
    {
     "name": "stdout",
     "output_type": "stream",
     "text": [
      "Customer ID           object\n",
      "Gender                object\n",
      "Senior Citizen         int64\n",
      "Partner               object\n",
      "Dependents            object\n",
      "tenure                 int64\n",
      "Phone Service         object\n",
      "Multiple Lines        object\n",
      "Internet Service      object\n",
      "Online Security       object\n",
      "Online Backup         object\n",
      "Device Protection     object\n",
      "Tech Support          object\n",
      "Streaming TV          object\n",
      "Streaming Movies      object\n",
      "Contract              object\n",
      "Paperless Billing     object\n",
      "Payment Method        object\n",
      "Monthly Charges      float64\n",
      "Total Charges         object\n",
      "Churn                 object\n",
      "dtype: object\n"
     ]
    },
    {
     "data": {
      "text/html": [
       "<div>\n",
       "<style scoped>\n",
       "    .dataframe tbody tr th:only-of-type {\n",
       "        vertical-align: middle;\n",
       "    }\n",
       "\n",
       "    .dataframe tbody tr th {\n",
       "        vertical-align: top;\n",
       "    }\n",
       "\n",
       "    .dataframe thead th {\n",
       "        text-align: right;\n",
       "    }\n",
       "</style>\n",
       "<table border=\"1\" class=\"dataframe\">\n",
       "  <thead>\n",
       "    <tr style=\"text-align: right;\">\n",
       "      <th></th>\n",
       "      <th>Customer ID</th>\n",
       "      <th>Gender</th>\n",
       "      <th>Senior Citizen</th>\n",
       "      <th>Partner</th>\n",
       "      <th>Dependents</th>\n",
       "      <th>tenure</th>\n",
       "      <th>Phone Service</th>\n",
       "      <th>Multiple Lines</th>\n",
       "      <th>Internet Service</th>\n",
       "      <th>Online Security</th>\n",
       "      <th>...</th>\n",
       "      <th>Device Protection</th>\n",
       "      <th>Tech Support</th>\n",
       "      <th>Streaming TV</th>\n",
       "      <th>Streaming Movies</th>\n",
       "      <th>Contract</th>\n",
       "      <th>Paperless Billing</th>\n",
       "      <th>Payment Method</th>\n",
       "      <th>Monthly Charges</th>\n",
       "      <th>Total Charges</th>\n",
       "      <th>Churn</th>\n",
       "    </tr>\n",
       "  </thead>\n",
       "  <tbody>\n",
       "    <tr>\n",
       "      <th>0</th>\n",
       "      <td>7590-VHVEA</td>\n",
       "      <td>Female</td>\n",
       "      <td>0</td>\n",
       "      <td>Yes</td>\n",
       "      <td>No</td>\n",
       "      <td>1</td>\n",
       "      <td>No</td>\n",
       "      <td>No phone service</td>\n",
       "      <td>DSL</td>\n",
       "      <td>No</td>\n",
       "      <td>...</td>\n",
       "      <td>No</td>\n",
       "      <td>No</td>\n",
       "      <td>No</td>\n",
       "      <td>No</td>\n",
       "      <td>Month-to-month</td>\n",
       "      <td>Yes</td>\n",
       "      <td>Electronic check</td>\n",
       "      <td>29.85</td>\n",
       "      <td>29.85</td>\n",
       "      <td>No</td>\n",
       "    </tr>\n",
       "    <tr>\n",
       "      <th>1</th>\n",
       "      <td>7590-VHVEG</td>\n",
       "      <td>Female</td>\n",
       "      <td>0</td>\n",
       "      <td>Yes</td>\n",
       "      <td>No</td>\n",
       "      <td>1</td>\n",
       "      <td>No</td>\n",
       "      <td>No phone service</td>\n",
       "      <td>DSL</td>\n",
       "      <td>No</td>\n",
       "      <td>...</td>\n",
       "      <td>No</td>\n",
       "      <td>No</td>\n",
       "      <td>No</td>\n",
       "      <td>No</td>\n",
       "      <td>Month-to-month</td>\n",
       "      <td>Yes</td>\n",
       "      <td>Electronic check</td>\n",
       "      <td>29.85</td>\n",
       "      <td>29.85</td>\n",
       "      <td>No</td>\n",
       "    </tr>\n",
       "    <tr>\n",
       "      <th>2</th>\n",
       "      <td>5575-GNVDE</td>\n",
       "      <td>Male</td>\n",
       "      <td>0</td>\n",
       "      <td>No</td>\n",
       "      <td>No</td>\n",
       "      <td>34</td>\n",
       "      <td>Yes</td>\n",
       "      <td>No</td>\n",
       "      <td>DSL</td>\n",
       "      <td>Yes</td>\n",
       "      <td>...</td>\n",
       "      <td>Yes</td>\n",
       "      <td>No</td>\n",
       "      <td>No</td>\n",
       "      <td>No</td>\n",
       "      <td>One year</td>\n",
       "      <td>No</td>\n",
       "      <td>Mailed check</td>\n",
       "      <td>56.95</td>\n",
       "      <td>1889.5</td>\n",
       "      <td>No</td>\n",
       "    </tr>\n",
       "    <tr>\n",
       "      <th>3</th>\n",
       "      <td>3668-QPYBK</td>\n",
       "      <td>Male</td>\n",
       "      <td>0</td>\n",
       "      <td>No</td>\n",
       "      <td>No</td>\n",
       "      <td>2</td>\n",
       "      <td>Yes</td>\n",
       "      <td>No</td>\n",
       "      <td>DSL</td>\n",
       "      <td>Yes</td>\n",
       "      <td>...</td>\n",
       "      <td>No</td>\n",
       "      <td>No</td>\n",
       "      <td>No</td>\n",
       "      <td>No</td>\n",
       "      <td>Month-to-month</td>\n",
       "      <td>Yes</td>\n",
       "      <td>Mailed check</td>\n",
       "      <td>53.85</td>\n",
       "      <td>108.15</td>\n",
       "      <td>Yes</td>\n",
       "    </tr>\n",
       "    <tr>\n",
       "      <th>4</th>\n",
       "      <td>7795-CFOCW</td>\n",
       "      <td>Male</td>\n",
       "      <td>0</td>\n",
       "      <td>No</td>\n",
       "      <td>No</td>\n",
       "      <td>45</td>\n",
       "      <td>No</td>\n",
       "      <td>No phone service</td>\n",
       "      <td>DSL</td>\n",
       "      <td>Yes</td>\n",
       "      <td>...</td>\n",
       "      <td>Yes</td>\n",
       "      <td>Yes</td>\n",
       "      <td>No</td>\n",
       "      <td>No</td>\n",
       "      <td>One year</td>\n",
       "      <td>No</td>\n",
       "      <td>Bank transfer (automatic)</td>\n",
       "      <td>42.30</td>\n",
       "      <td>1840.75</td>\n",
       "      <td>No</td>\n",
       "    </tr>\n",
       "  </tbody>\n",
       "</table>\n",
       "<p>5 rows × 21 columns</p>\n",
       "</div>"
      ],
      "text/plain": [
       "  Customer ID  Gender  Senior Citizen Partner Dependents  tenure  \\\n",
       "0  7590-VHVEA  Female               0     Yes         No       1   \n",
       "1  7590-VHVEG  Female               0     Yes         No       1   \n",
       "2  5575-GNVDE    Male               0      No         No      34   \n",
       "3  3668-QPYBK    Male               0      No         No       2   \n",
       "4  7795-CFOCW    Male               0      No         No      45   \n",
       "\n",
       "  Phone Service    Multiple Lines Internet Service Online Security  ...  \\\n",
       "0            No  No phone service              DSL              No  ...   \n",
       "1            No  No phone service              DSL              No  ...   \n",
       "2           Yes                No              DSL             Yes  ...   \n",
       "3           Yes                No              DSL             Yes  ...   \n",
       "4            No  No phone service              DSL             Yes  ...   \n",
       "\n",
       "  Device Protection Tech Support Streaming TV Streaming Movies  \\\n",
       "0                No           No           No               No   \n",
       "1                No           No           No               No   \n",
       "2               Yes           No           No               No   \n",
       "3                No           No           No               No   \n",
       "4               Yes          Yes           No               No   \n",
       "\n",
       "         Contract Paperless Billing             Payment Method  \\\n",
       "0  Month-to-month               Yes           Electronic check   \n",
       "1  Month-to-month               Yes           Electronic check   \n",
       "2        One year                No               Mailed check   \n",
       "3  Month-to-month               Yes               Mailed check   \n",
       "4        One year                No  Bank transfer (automatic)   \n",
       "\n",
       "  Monthly Charges  Total Charges Churn  \n",
       "0           29.85          29.85    No  \n",
       "1           29.85          29.85    No  \n",
       "2           56.95         1889.5    No  \n",
       "3           53.85         108.15   Yes  \n",
       "4           42.30        1840.75    No  \n",
       "\n",
       "[5 rows x 21 columns]"
      ]
     },
     "execution_count": 3,
     "metadata": {},
     "output_type": "execute_result"
    }
   ],
   "source": [
    "# Explore the data loaded\n",
    "print(df.dtypes)\n",
    "df.head()"
   ]
  },
  {
   "cell_type": "code",
<<<<<<< HEAD
   "execution_count": 64,
=======
   "execution_count": 4,
>>>>>>> 5b01c940ce75c4b5c9c3406b7a0183a103731a9e
   "metadata": {},
   "outputs": [],
   "source": [
    "X = pd.get_dummies(df.drop(['Churn', 'Customer ID'], axis=1))\n",
    "y = df['Churn'].apply(lambda x: 1 if x=='Yes' else 0)"
   ]
  },
  {
   "cell_type": "code",
<<<<<<< HEAD
   "execution_count": 67,
=======
   "execution_count": 5,
>>>>>>> 5b01c940ce75c4b5c9c3406b7a0183a103731a9e
   "metadata": {},
   "outputs": [],
   "source": [
    "X_train, X_test, y_train, y_test = train_test_split(X, y, test_size=.2)"
   ]
  },
  {
   "cell_type": "code",
<<<<<<< HEAD
   "execution_count": 68,
=======
   "execution_count": 8,
>>>>>>> 5b01c940ce75c4b5c9c3406b7a0183a103731a9e
   "metadata": {},
   "outputs": [
    {
     "data": {
      "text/plain": [
<<<<<<< HEAD
       "6529    0\n",
       "1545    0\n",
       "6039    1\n",
       "4203    0\n",
       "1691    0\n",
       "Name: Churn, dtype: int64"
      ]
     },
     "execution_count": 68,
=======
       "4239    0\n",
       "4833    0\n",
       "1154    0\n",
       "4149    0\n",
       "3902    0\n",
       "Name: Churn, dtype: int64"
      ]
     },
     "execution_count": 8,
>>>>>>> 5b01c940ce75c4b5c9c3406b7a0183a103731a9e
     "metadata": {},
     "output_type": "execute_result"
    }
   ],
   "source": [
    "y_train.head()"
   ]
  },
  {
   "cell_type": "markdown",
   "metadata": {},
   "source": [
    "# 2. Import Dependencies"
   ]
  },
  {
   "cell_type": "code",
   "execution_count": 9,
   "metadata": {},
   "outputs": [],
   "source": [
    "from tensorflow.keras.models import Sequential, load_model # The models we use - Sequential\n",
    "from tensorflow.keras.layers import Dense # Layers\n",
    "from sklearn.metrics import accuracy_score"
   ]
  },
  {
   "cell_type": "markdown",
   "metadata": {},
   "source": [
    "# 3. Build and Compile Model\n",
    "More layers wil resulet in longer training time "
   ]
  },
  {
   "cell_type": "code",
   "execution_count": 10,
   "metadata": {},
   "outputs": [],
   "source": [
    "model = Sequential()\n",
    "model.add(Dense(units=32, activation='relu', input_dim=len(X_train.columns))) # Layer 1 - 32 neurons\n",
    "model.add(Dense(units=64, activation='relu')) # Layer 2 - 64 neurons\n",
    "model.add(Dense(units=1, activation='sigmoid')) # One output - Yes/No"
   ]
  },
  {
   "cell_type": "code",
   "execution_count": 11,
   "metadata": {},
   "outputs": [],
   "source": [
    "model.compile(loss='binary_crossentropy', optimizer='sgd', metrics='accuracy') # Compile the model"
   ]
  },
  {
   "cell_type": "markdown",
   "metadata": {},
   "source": [
    "# 4. Fit, Predict and Evaluate\n",
    "epochs = 200 Traning setting - 200 \"times\"\n",
    "\n",
    "Higher numer will result in a more accurate model. But a to high number will lead to overfitting\n",
    "\n",
    "Accuracy should go up during the 200"
   ]
  },
  {
   "cell_type": "code",
   "execution_count": null,
   "metadata": {
    "tags": []
   },
   "outputs": [],
<<<<<<< HEAD
   "source": [
    "model.fit(X_train, y_train, epochs=200, batch_size=32) # Model traning"
   ]
  },
  {
   "cell_type": "code",
   "execution_count": 71,
   "metadata": {},
   "outputs": [],
   "source": [
    "y_hat = model.predict(X_test) # Use the test data - X_test"
   ]
  },
  {
   "cell_type": "code",
   "execution_count": 72,
   "metadata": {},
   "outputs": [
    {
     "name": "stdout",
     "output_type": "stream",
     "text": [
      "[[0.32617432]\n",
      " [0.00376046]\n",
      " [0.04026899]\n",
      " ...\n",
      " [0.03444323]\n",
      " [0.01765117]\n",
      " [0.04925856]]\n"
     ]
    }
   ],
=======
>>>>>>> 5b01c940ce75c4b5c9c3406b7a0183a103731a9e
   "source": [
    "print(y_hat)"
   ]
  },
  {
   "cell_type": "code",
   "execution_count": 14,
   "metadata": {},
   "outputs": [
    {
     "name": "stdout",
     "output_type": "stream",
     "text": [
      "45/45 [==============================] - 0s 2ms/step\n"
     ]
    }
   ],
   "source": [
    "y_hat = [0 if val < 0.5 else 1 for val in y_hat]"
   ]
  },
  {
   "cell_type": "code",
   "execution_count": null,
   "metadata": {},
   "outputs": [],
   "source": [
    "print(y_hat)"
   ]
  },
  {
   "cell_type": "code",
   "execution_count": 16,
   "metadata": {},
   "outputs": [
    {
     "name": "stdout",
     "output_type": "stream",
     "text": [
      "0.801277501774308\n",
      "\n",
      "\n",
      "Evaluation against Test Dataset :\n",
      "------------------------------------\n",
      "45/45 [==============================] - 0s 2ms/step - loss: 0.4108 - accuracy: 0.8013\n"
     ]
    },
    {
     "data": {
      "text/plain": [
       "[0.41080936789512634, 0.8012775182723999]"
      ]
     },
     "execution_count": 16,
     "metadata": {},
     "output_type": "execute_result"
    }
   ],
   "source": [
    "# Evaluate the model against the test dataset and print results\n",
    "# If it is too low use a higher number in epochs - ex. 500 >> 0.8\n",
    "print(accuracy_score(y_test, y_hat))\n",
    "print()\n",
    "print(\"\\nEvaluation against Test Dataset :\\n------------------------------------\")\n",
    "model.evaluate(X_test, y_test)"
   ]
  },
  {
   "cell_type": "markdown",
   "metadata": {},
   "source": [
    "# 5. Saving and Reloading"
   ]
  },
  {
   "cell_type": "code",
   "execution_count": 17,
   "metadata": {
    "tags": []
   },
   "outputs": [
    {
     "name": "stdout",
     "output_type": "stream",
     "text": [
      "INFO:tensorflow:Assets written to: tfmodel\\assets\n"
     ]
    }
   ],
   "source": [
<<<<<<< HEAD
    "model.save('tfmodel') # Save the model in - tfmodel\\assets"
   ]
  },
  {
   "cell_type": "code",
   "execution_count": 58,
   "metadata": {},
   "outputs": [],
   "source": [
    "#del model # Delete model"
   ]
  },
  {
   "cell_type": "code",
   "execution_count": 59,
   "metadata": {},
   "outputs": [],
   "source": [
    "model = load_model('tfmodel') # Load model"
   ]
  },
  {
   "cell_type": "markdown",
   "metadata": {},
   "source": [
    "# Test"
   ]
  },
  {
   "cell_type": "code",
   "execution_count": null,
   "metadata": {},
   "outputs": [],
   "source": [
    "# Predicting as a Customer's \n",
    "print(model.predict(['Female', 0, 'Yes', 'No', 1, 'No', 'No phone service', 'DSL', 'No', 'Yes', 'No', 'No', 'No', 'No', 'Month-to-month', 'Yes', 'Electronic check', 29.85, 29.85]), axis=1)"
   ]
  },
  {
   "cell_type": "code",
   "execution_count": null,
   "metadata": {},
   "outputs": [],
   "source": [
    "# Pass individual flags to Predict the root cause\n",
    "prediction=np.argmax(model.predict(\n",
    "    [['Female', 0, 'Yes', 'No', 1, 'No', 'No phone service', 'DSL', 'No', 'Yes', 'No', 'No', 'No', 'No', 'Month-to-month', 'Yes', 'Electronic check', 29.85, 29.85]]), axis=1 )\n",
    "\n",
    "print(label_encoder.inverse_transform(prediction))"
=======
    "model.save('tfmodel') # Save the model in - ..\\tfmodel\\assets"
>>>>>>> 5b01c940ce75c4b5c9c3406b7a0183a103731a9e
   ]
  },
  {
   "cell_type": "code",
   "execution_count": null,
   "metadata": {},
   "outputs": [],
   "source": [
    "del model # Delete model"
   ]
  },
  {
   "cell_type": "code",
   "execution_count": null,
   "metadata": {},
   "outputs": [],
   "source": [
    "model = load_model('tfmodel') # Load model"
   ]
  }
 ],
 "metadata": {
  "kernelspec": {
   "display_name": "Python 3 (ipykernel)",
   "language": "python",
   "name": "python3"
  },
  "language_info": {
   "codemirror_mode": {
    "name": "ipython",
    "version": 3
   },
   "file_extension": ".py",
   "mimetype": "text/x-python",
   "name": "python",
   "nbconvert_exporter": "python",
   "pygments_lexer": "ipython3",
   "version": "3.10.4"
  }
 },
 "nbformat": 4,
 "nbformat_minor": 4
}
