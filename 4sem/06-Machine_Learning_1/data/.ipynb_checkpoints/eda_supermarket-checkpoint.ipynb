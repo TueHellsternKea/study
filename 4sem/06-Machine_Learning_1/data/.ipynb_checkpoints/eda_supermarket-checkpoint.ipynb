{
 "cells": [
  {
   "cell_type": "markdown",
   "id": "8a04d510-74aa-4a4e-b585-092cf2833b27",
   "metadata": {},
   "source": [
    "# EDA\n",
    "## Exploratory data analysis using supermarket sales data"
   ]
  },
  {
   "cell_type": "code",
   "execution_count": null,
   "id": "5e043806-30c1-4a63-91cb-775dfe1526b5",
   "metadata": {},
   "outputs": [],
   "source": [
    "# Install\n",
    "!pip3 install matplotlib\n",
    "!pip3 install seaborn\n",
    "!pip3 install missingno\n",
    "!pip3 install geopy\n",
    "!pip3 install folium\n",
    "!pip3 install dataframe_image\n",
    "!pip3 install jinja2 --upgrade"
   ]
  },
  {
   "cell_type": "code",
   "execution_count": null,
   "id": "78921b89-e1cb-4aa6-affe-fd422337b62e",
   "metadata": {},
   "outputs": [],
   "source": [
    "# Libraries\n",
    "import pandas as pd\n",
    "import numpy as np\n",
    "import matplotlib.pyplot as plt\n",
    "import seaborn as sns\n",
    "#import dataframe_image as dfi\n",
    "\n",
    "# Visualizing NaN values\n",
    "import missingno as msno\n",
    "\n",
    "# Visualization\n",
    "import plotly.express as px\n",
    "import plotly.graph_objs as go\n",
    "import plotly.io as pio\n",
    "from plotly.subplots import make_subplots\n",
    "\n",
    "# Calendar\n",
    "import calendar\n",
    "\n",
    "# Geocode\n",
    "from geopy.geocoders import Nominatim\n",
    "from geopy.distance import geodesic\n",
    "import folium\n",
    "from folium import plugins\n",
    "import ipywidgets\n",
    "from branca.element import Figure\n",
    "\n",
    "# Plotly Options and Config\n",
    "pio.templates.default = 'plotly_white'\n",
    "config = {'displayModeBar': False}\n",
    "colors_x = ['#E0C95A', '#CBE0CA', '#E0864E', '#CDCCE3', '#E3B8D1']\n",
    "cmaps = 'Blues'"
   ]
  },
  {
   "cell_type": "code",
   "execution_count": null,
   "id": "3a19274e-123f-4731-beb5-e71cceb54319",
   "metadata": {},
   "outputs": [],
   "source": [
    "# Read data - CSV file\n",
    "df = pd.read_csv('supermarket_sales.csv')\n",
    "df.head()"
   ]
  },
  {
   "cell_type": "markdown",
   "id": "3755d1df-21df-4c31-90dc-c20df1b08c51",
   "metadata": {},
   "source": [
    "# Location of the branches"
   ]
  },
  {
   "cell_type": "code",
   "execution_count": null,
   "id": "2a6ffd46-4f3b-44d3-86dc-d1d8b5978c1d",
   "metadata": {},
   "outputs": [],
   "source": [
    "city_data = df.City.unique()\n",
    "cities = pd.DataFrame(data = city_data, columns = {'city_name'})\n",
    "cities\n",
    "\n",
    "nom = Nominatim(user_agent='Kaggle')\n",
    "\n",
    "def geo_cities(cities):\n",
    "    lat = []\n",
    "    long = []\n",
    "    flag = 0\n",
    "    for city in cities['city_name']:\n",
    "      location = nom.geocode(city)\n",
    "      try:\n",
    "        lat.append(location.latitude)\n",
    "        long.append(location.longitude)\n",
    "        print(flag)\n",
    "      except:\n",
    "        lat.append('NA')\n",
    "        long.append('NA')\n",
    "      flag += 1\n",
    "    cities['Latitude'] = lat\n",
    "    cities['Longitude'] = long \n",
    "    \n",
    "#geo_cities(cities)\n",
    "# The geocoding doesn't seem to work in  kaggle notebook so i'll manually add  the output here.\n",
    "\n",
    "cities = pd.DataFrame({'city_name': ['Yangon', 'Naypyitaw', 'Mandalay'],\n",
    "                       'Latitude': [16.79671316,19.690708,21.981275],\n",
    "                       'Longitude' : [96.160992, 96.165883, 96.082375]})\n",
    "\n",
    "supermarket_geo = folium.Map(location = [19.680708,\t96.265883], zoom_start = 7, tiles = 'CartoDB Positron', control_scale = True)\n",
    "\n",
    "fig = Figure(width = 800, height = 600)\n",
    "fig.add_child(supermarket_geo)\n",
    "\n",
    "for (index, row) in cities.iterrows():\n",
    "  folium.Marker(location = [row.loc['Latitude'], row.loc['Longitude']], popup = row.loc['city_name'],tooltip = 'click',\n",
    "                icon = folium.Icon(icon = 'glyphicon-shopping-cart', prefix = 'glyphicon')).add_to(supermarket_geo)\n",
    "\n",
    "supermarket_geo"
   ]
  },
  {
   "cell_type": "markdown",
   "id": "79888657-d766-4baf-810e-e35f1038e913",
   "metadata": {},
   "source": [
    "## Variable transformations\n",
    "Change the date variable to date"
   ]
  },
  {
   "cell_type": "code",
   "execution_count": null,
   "id": "a24245f2-ae6f-43df-9cee-ebc0edcc4155",
   "metadata": {},
   "outputs": [],
   "source": [
    "df['Date'] = pd.to_datetime(df['Date'])\n",
    "df['weekday'] = df['Date'].dt.day_name()"
   ]
  },
  {
   "cell_type": "markdown",
   "id": "782e1c9c-4786-44e9-97f0-ea698487e043",
   "metadata": {},
   "source": [
    "## Set the Date as the index of the dataset"
   ]
  },
  {
   "cell_type": "code",
   "execution_count": null,
   "id": "23c87895-6eb4-4200-96aa-d0be12ae2298",
   "metadata": {},
   "outputs": [],
   "source": [
    "df.set_index('Date', inplace=True)\n",
    "df.head()"
   ]
  },
  {
   "cell_type": "markdown",
   "id": "3dc0ed17-7391-45dc-85ed-b7aab755d1e5",
   "metadata": {},
   "source": [
    "# Univariate analysis\n",
    "\n",
    "## Question 1\n",
    "*What does the customer rating look like and is it skewed?*"
   ]
  },
  {
   "cell_type": "code",
   "execution_count": null,
   "id": "2074df9f-62f9-4597-b47c-962a1cd2f82c",
   "metadata": {},
   "outputs": [],
   "source": [
    "sns.histplot(df['Rating'], kde=True)\n",
    "plt.axvline(x=np.mean(df['Rating']), c='red', ls='--', label='mean')\n",
    "plt.axvline(x=np.percentile(df['Rating'],25),c='green', ls='--', label = '25th percentile:Q1')\n",
    "plt.axvline(x=np.percentile(df['Rating'],75),c='orange', ls='--',label = '75th percentile:Q3' )\n",
    "plt.legend()\n",
    "#plt.savefig(\"uni1.png\") "
   ]
  },
  {
   "cell_type": "markdown",
   "id": "4b06a9c5-d7be-4376-be6b-072499a3c118",
   "metadata": {},
   "source": [
    "The rating distribution looks uniform and there seems to be no skewness on the left or right side of the distribution.\n",
    "\n",
    "We can plot the mean and the percentiles to show this as well.\n",
    "\n",
    "The red dotted lime is the mean and the green and orange lines indicate the 25th and 75th quartiles respectively.\n",
    "\n",
    "The mean rating is ~7 across products."
   ]
  },
  {
   "cell_type": "markdown",
   "id": "ce1d592b-ab45-466c-98fb-966f3882599f",
   "metadata": {},
   "source": [
    "## Question 2\n",
    "*Is there any difference in aggregate sales across branches?*"
   ]
  },
  {
   "cell_type": "code",
   "execution_count": null,
   "id": "d3895f34-2fe2-42c7-9331-7773a5d40276",
   "metadata": {},
   "outputs": [],
   "source": [
    "sns.countplot(x=df['Branch'])\n",
    "df['Branch'].value_counts()\n",
    "#plt.savefig(\"uni2.png\") "
   ]
  },
  {
   "cell_type": "markdown",
   "id": "fb45595e-6cfa-4291-b22b-9b562933104d",
   "metadata": {},
   "source": [
    "There is not much difference in sales across the 3 branches of A, B and C. \n",
    "The sales in branch A is a bit higher than the rest of the branches."
   ]
  },
  {
   "cell_type": "markdown",
   "id": "2536dfe7-ad1f-47e5-b284-5b71fe69915f",
   "metadata": {},
   "source": [
    "## Question 3\n",
    "*Which is the most pouplar payment method used by customers?*"
   ]
  },
  {
   "cell_type": "code",
   "execution_count": null,
   "id": "9af57c42-fab5-419a-909a-ba58c5d0c4a4",
   "metadata": {},
   "outputs": [],
   "source": [
    "sns.countplot(x=df['Payment'])\n",
    "#plt.savefig(\"uni3.png\")"
   ]
  },
  {
   "cell_type": "markdown",
   "id": "4a6bf197-f46e-4793-86c5-f43565dfa7ae",
   "metadata": {},
   "source": [
    "The most popular payment method is E-wallet and not credit cards.\n",
    "Cash payment is also popular"
   ]
  },
  {
   "cell_type": "markdown",
   "id": "3dc81be2-318b-4a66-8d95-b702e415fe84",
   "metadata": {},
   "source": [
    "## Bi-variate analysis\n",
    "Let us consider two (bi) variables together and look at the interaction/relationship between them. \n",
    "\n",
    "This is bi-variate analysis that can help to draw important conclusions about the data.\n",
    "Let us consider gross income and try to answer the following questions:\n",
    "\n",
    "## Question 4\n",
    "*Does gross income affect the ratings that the customers provide?*"
   ]
  },
  {
   "cell_type": "code",
   "execution_count": null,
   "id": "97b47b5b-1ca9-4713-ab15-cfe71fc87979",
   "metadata": {},
   "outputs": [],
   "source": [
    "sns.regplot(x=df['Rating'], y=df['gross income'])\n",
    "#plt.savefig(\"uni4.png\")"
   ]
  },
  {
   "cell_type": "markdown",
   "id": "60019f4f-4cbc-4d0b-9cc9-aba971bcec7e",
   "metadata": {},
   "source": [
    "*As you can see from the scatter plot and the trend line which is pretty flat that there is no relationship between gross income of a customer and his rating.*"
   ]
  },
  {
   "cell_type": "markdown",
   "id": "05e36b1e-61b7-4e4d-bf7c-cf6bbb3d6918",
   "metadata": {},
   "source": [
    "## Question 5: \n",
    "*Which branch is the most profitable?*"
   ]
  },
  {
   "cell_type": "code",
   "execution_count": null,
   "id": "a707f783-00b7-447c-9658-1d9af3ff2a69",
   "metadata": {},
   "outputs": [],
   "source": [
    "sns.boxplot(x=df['Branch'], y=df['gross income'])\n",
    "#plt.savefig(\"uni5.png\")"
   ]
  },
  {
   "cell_type": "markdown",
   "id": "aced00ba-2a90-42de-9258-b9d845a362aa",
   "metadata": {},
   "source": [
    "*There is not much difference in gross income by branches at an average level. Branch C has a slightly higher income than A or B, As observed earlier, though branch A has slightly higher sales than the rest C is the most profitable branch in terms of gross income.*"
   ]
  },
  {
   "cell_type": "markdown",
   "id": "7b50ef2f-e3b1-4ab5-9f08-1cace20aa4c7",
   "metadata": {},
   "source": [
    "## Question 6 \n",
    "*What is the relationship between Gender and Gross income?*"
   ]
  },
  {
   "cell_type": "code",
   "execution_count": null,
   "id": "e2487c2b-cd96-4ac0-bcaa-b607b409c469",
   "metadata": {},
   "outputs": [],
   "source": [
    "sns.boxplot(x=df['Gender'], y=df['gross income'])\n",
    "#plt.savefig(\"uni6.png\")"
   ]
  },
  {
   "cell_type": "markdown",
   "id": "fada8876-444f-4e4c-b03e-d5bd69242e0e",
   "metadata": {},
   "source": [
    "*Gross income is similar for both male and female, though female customers spend a bit higher at the 75th percentile.*"
   ]
  },
  {
   "cell_type": "markdown",
   "id": "9574aca9-1674-48f6-9118-fba69eb31589",
   "metadata": {},
   "source": [
    "## Question 7\n",
    "*Is there any time trend in gross income?*"
   ]
  },
  {
   "cell_type": "code",
   "execution_count": null,
   "id": "8bc08925-fccb-4b50-8f4a-0363da70e951",
   "metadata": {},
   "outputs": [],
   "source": [
    "df.groupby(df.index).mean()\n",
    "sns.lineplot(x= df.groupby(df.index).mean().index, \n",
    "             y = df.groupby(df.index).mean()['gross income'])\n",
    "#plt.savefig(\"uni7.png\")"
   ]
  },
  {
   "cell_type": "markdown",
   "id": "df473971-fe0a-4c14-aa6f-3403d4525673",
   "metadata": {},
   "source": [
    "*No particular time trend except for some days the gross income is pretty high and some days it is pretty low. Overall it remains at a certain average level.*"
   ]
  },
  {
   "cell_type": "markdown",
   "id": "c2f59287-19a6-4e9e-9c7a-e51147a3cafe",
   "metadata": {},
   "source": [
    "## Question 8\n",
    "*Which product line generates most income?*"
   ]
  },
  {
   "cell_type": "code",
   "execution_count": null,
   "id": "151c9372-6edf-4e1f-a239-9d7cc4b61ea4",
   "metadata": {},
   "outputs": [],
   "source": [
    "cat=df[[\"Product line\", \"gross income\"]].groupby(['Product line'], as_index=False).sum().sort_values(by='gross income', ascending=False)\n",
    "plt.figure(figsize=(20,8))\n",
    "sns.barplot(x='Product line', y='gross income', data=cat)\n",
    "#plt.savefig(\"uni8.png\")"
   ]
  },
  {
   "cell_type": "markdown",
   "id": "2589b4fa-de25-45c8-bd1c-e490396d0509",
   "metadata": {},
   "source": [
    "*Gross income is highest in sports and travel.*"
   ]
  },
  {
   "cell_type": "markdown",
   "id": "366b053d-c89a-4d05-92e6-221179d6a593",
   "metadata": {},
   "source": [
    "# Correlation analysis\n",
    "## Individual correlations"
   ]
  },
  {
   "cell_type": "code",
   "execution_count": null,
   "id": "dc190923-fe58-4266-af96-5bf0da867828",
   "metadata": {},
   "outputs": [],
   "source": [
    "round(np.corrcoef(df['gross income'], df['Rating'])[1][0],2)"
   ]
  },
  {
   "cell_type": "markdown",
   "id": "2201a6fe-71ea-4deb-809d-9a3c7c60f6e7",
   "metadata": {},
   "source": [
    "## Pairwise correlations"
   ]
  },
  {
   "cell_type": "code",
   "execution_count": null,
   "id": "968523cd-c550-4f56-b971-7ae402334360",
   "metadata": {},
   "outputs": [],
   "source": [
    "np.round(df.corr(),2)"
   ]
  },
  {
   "cell_type": "markdown",
   "id": "4965baf0-735a-4997-b509-872d8933d31e",
   "metadata": {},
   "source": [
    "# Other analysis\n",
    "## Question 10\n",
    "*What is the spending patterns of females and males and in which category do they spend a lot?*"
   ]
  },
  {
   "cell_type": "code",
   "execution_count": null,
   "id": "6c315014-7b0b-4b05-b01d-3380d2a9bbd0",
   "metadata": {},
   "outputs": [],
   "source": [
    "plt.figure(figsize=(12, 6))\n",
    "plt.title('Total Monthly transaction by Gender')\n",
    "sns.countplot(x=df['Product line'], hue = df.Gender)\n",
    "plt.savefig(\"uni10.png\")"
   ]
  },
  {
   "cell_type": "markdown",
   "id": "b1097114-a868-49da-b999-fc002fb7b6ee",
   "metadata": {},
   "source": [
    "*Females spend on 'fashion accessories' the most and for males surprisingly it is 'Health and beauty'. Females also spend more on 'Sports and travel'.*"
   ]
  },
  {
   "cell_type": "markdown",
   "id": "2f4bb8d1-e9e2-4a61-9905-b2f60ce0fde4",
   "metadata": {},
   "source": [
    "# Dummy method"
   ]
  },
  {
   "cell_type": "code",
   "execution_count": null,
   "id": "b23c9c00-ca47-4e4a-b411-832bd55b47f8",
   "metadata": {},
   "outputs": [],
   "source": [
    "gender_dummies  = pd.get_dummies(df['Gender'])\n",
    "gender_dummies.head()"
   ]
  },
  {
   "cell_type": "markdown",
   "id": "4aeaaac6-fa0b-470d-90bb-11a2dacc76c3",
   "metadata": {},
   "source": [
    "Join the Gender dummies with the original data"
   ]
  },
  {
   "cell_type": "code",
   "execution_count": null,
   "id": "d42d9866-f5e7-4343-aa7d-28e2347b5ef1",
   "metadata": {},
   "outputs": [],
   "source": [
    "df1 = pd.concat([df, gender_dummies], axis = 1)\n",
    "df1.head()"
   ]
  },
  {
   "cell_type": "markdown",
   "id": "4f5b5d23-cbd3-48ce-a104-cdf7472371de",
   "metadata": {},
   "source": [
    "## Spending pattern of Female"
   ]
  },
  {
   "cell_type": "code",
   "execution_count": null,
   "id": "d7913cb8-7abb-47d7-b280-e9d69250a191",
   "metadata": {},
   "outputs": [],
   "source": [
    "plt.figure(figsize = (12,6))\n",
    "sns.barplot(x = 'Product line', y = 'Female', data = df1)\n",
    "plt.title('Female')\n",
    "plt.savefig(\"uni13.png\")"
   ]
  },
  {
   "cell_type": "markdown",
   "id": "4dca0be9-2480-40a3-ae1a-f269618860d8",
   "metadata": {},
   "source": [
    "## Spending pattern of Female"
   ]
  },
  {
   "cell_type": "code",
   "execution_count": null,
   "id": "e52dab91-0818-4461-814e-b632f446bebd",
   "metadata": {},
   "outputs": [],
   "source": [
    "plt.figure(figsize = (12,6))\n",
    "sns.barplot(x = 'Product line', y = 'Male', data = df1)\n",
    "plt.title('Male')\n",
    "plt.savefig(\"uni13.png\")"
   ]
  },
  {
   "cell_type": "markdown",
   "id": "31503b74-30c1-4bc7-addb-d71fa6cfc1ea",
   "metadata": {},
   "source": [
    "## Question 10\n",
    "*How many products are bought by customers?*"
   ]
  },
  {
   "cell_type": "code",
   "execution_count": null,
   "id": "6413ff3e-624c-4eb9-b7be-e6111414daa1",
   "metadata": {},
   "outputs": [],
   "source": [
    "xdata = [1,2,3,4,5,6,7,8,9,10]\n",
    "plt.figure(figsize = (12,6))\n",
    "sns.histplot(df['Quantity'], kde=True)\n",
    "plt.xticks(xdata)\n",
    "plt.savefig(\"uni14.png\")"
   ]
  },
  {
   "cell_type": "markdown",
   "id": "c8cccabc-2006-4db9-b639-024720a524c0",
   "metadata": {},
   "source": [
    "## Question 11\n",
    "*Which day of the week has maximum sales?*"
   ]
  },
  {
   "cell_type": "code",
   "execution_count": null,
   "id": "d91f21b5-8b79-4c7a-a2ab-1af0d8be28c2",
   "metadata": {},
   "outputs": [],
   "source": [
    "plt.figure(figsize=(8, 6))\n",
    "plt.title('Daily Sales by Day of the Week')\n",
    "sns.countplot(x=df['weekday'])\n",
    "plt.savefig(\"uni15.png\")"
   ]
  },
  {
   "cell_type": "markdown",
   "id": "4af8fc06-f1a2-480a-816c-5d7c71d75fae",
   "metadata": {},
   "source": [
    "Sales is highest on Saturdays probably because it is the weekend. \n",
    "\n",
    "Tuesdays is a close second. Mondays is the lowest in sales."
   ]
  },
  {
   "cell_type": "markdown",
   "id": "648bfa8a-425c-4aaa-9d1f-42b3405c492a",
   "metadata": {},
   "source": [
    "## Question 12 \n",
    "*Which hour of the day is the busiest?*"
   ]
  },
  {
   "cell_type": "code",
   "execution_count": null,
   "id": "49768a5d-6ee9-42e6-8f77-2a6a406248d6",
   "metadata": {},
   "outputs": [],
   "source": [
    "df['Time'] = pd.to_datetime(df['Time'])\n",
    "df['Hour'] = (df['Time']).dt.hour\n",
    "\n",
    "df.groupby(['Hour']).size().plot(kind = \"bar\")\n",
    "plt.savefig(\"uni16.png\")"
   ]
  },
  {
   "cell_type": "markdown",
   "id": "fe808902-4f2a-451a-914a-5be19b3c21bc",
   "metadata": {},
   "source": [
    "## Question 13\n",
    "*Which product line should the supermarket focus on?*\n",
    "\n",
    "### Rating of products"
   ]
  },
  {
   "cell_type": "code",
   "execution_count": null,
   "id": "8846772d-2c1e-44d7-b839-08a2b973c1f5",
   "metadata": {},
   "outputs": [],
   "source": [
    "xdata = [0,1,2,3,4,5,6,7,8,9,10]\n",
    "plt.figure(figsize = (12,6))\n",
    "sns.barplot(y = df['Product line'], x = df['Rating'])\n",
    "plt.xticks(xdata)\n",
    "plt.savefig(\"uni17.png\")"
   ]
  },
  {
   "cell_type": "markdown",
   "id": "c9abce24-35e1-47f7-8dde-714b58aaee07",
   "metadata": {},
   "source": [
    "### Quantity purchased by product"
   ]
  },
  {
   "cell_type": "code",
   "execution_count": null,
   "id": "1f3db00b-707f-4070-a601-d1029df286ae",
   "metadata": {},
   "outputs": [],
   "source": [
    "sns.boxenplot(y='Product line', x='Quantity', data=df )\n",
    "plt.savefig(\"uni18.png\")"
   ]
  },
  {
   "cell_type": "markdown",
   "id": "3e810a4a-2efe-4ea6-b917-b4e1ef2b2923",
   "metadata": {},
   "source": [
    "Though the rating for 'fashion accessories' and 'food and beverages' is high but quantity purchased is low. Hence, supply for these products need to be increased."
   ]
  },
  {
   "cell_type": "markdown",
   "id": "767d97fd-48be-4f34-b510-1da49e7cd903",
   "metadata": {},
   "source": [
    "# Question 14\n",
    "*Which city should be chosen for expansion and which products should it focus on?*"
   ]
  },
  {
   "cell_type": "code",
   "execution_count": null,
   "id": "c7b7fa81-e697-4e45-8b32-4a06b2c55f5d",
   "metadata": {},
   "outputs": [],
   "source": [
    "plt.figure(figsize=(20,7))\n",
    "sns.barplot(x=df['City'], y=df['gross income'], palette='Set1')\n",
    "plt.xlabel('City name', fontsize='16')\n",
    "plt.xticks(fontsize='16')\n",
    "plt.ylabel('Gross income', fontsize='16')\n",
    "plt.yticks(fontsize='16')\n",
    "plt.savefig(\"uni19.png\")"
   ]
  },
  {
   "cell_type": "markdown",
   "id": "91cab513-4fc6-4f95-a5b9-6b2ebe0565ec",
   "metadata": {},
   "source": [
    "Naypyitaw is the most profitable city, hence the expansion plan should be based on this city."
   ]
  },
  {
   "cell_type": "code",
   "execution_count": null,
   "id": "23cc1516-9464-4066-9b5b-9122d918e61f",
   "metadata": {},
   "outputs": [],
   "source": [
    "plt.figure(dpi=125)\n",
    "sns.countplot(y='Product line', hue = \"City\", data = df) \n",
    "plt.xlabel('Count')\n",
    "plt.show()\n",
    "plt.savefig(\"uni20.png\")"
   ]
  },
  {
   "cell_type": "markdown",
   "id": "31e57c33-b3f6-4ef9-a8c1-d0a7044dd189",
   "metadata": {},
   "source": [
    "Fashion accessories and food and beverages are the most sold product in Naypyitaw and these products should be focused on for expansion along with electronic accessories."
   ]
  },
  {
   "cell_type": "code",
   "execution_count": null,
   "id": "163c4c9c-4d11-4479-9811-f8167be4fcc2",
   "metadata": {},
   "outputs": [],
   "source": []
  }
 ],
 "metadata": {
  "kernelspec": {
   "display_name": "Python 3 (ipykernel)",
   "language": "python",
   "name": "python3"
  },
  "language_info": {
   "codemirror_mode": {
    "name": "ipython",
    "version": 3
   },
   "file_extension": ".py",
   "mimetype": "text/x-python",
   "name": "python",
   "nbconvert_exporter": "python",
   "pygments_lexer": "ipython3",
   "version": "3.9.7"
  }
 },
 "nbformat": 4,
 "nbformat_minor": 5
}
