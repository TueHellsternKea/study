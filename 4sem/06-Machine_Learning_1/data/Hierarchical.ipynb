{
 "cells": [
  {
   "cell_type": "markdown",
   "id": "99c40917-6c40-4704-b471-04f731895c79",
   "metadata": {},
   "source": [
    "# Hierarchical clustering"
   ]
  },
  {
   "cell_type": "code",
   "execution_count": 2,
   "id": "2479280b-ab91-4378-b5a5-8c5c28fa2480",
   "metadata": {},
   "outputs": [
    {
     "data": {
      "image/png": "[encoded data removed]",
      "text/plain": [
       "<Figure size 432x288 with 1 Axes>"
      ]
     },
     "metadata": {
      "needs_background": "light"
     },
     "output_type": "display_data"
    }
   ],
   "source": [
    "# Importing Modules\n",
    "from scipy.cluster.hierarchy import linkage, dendrogram\n",
    "import matplotlib.pyplot as plt\n",
    "import pandas as pd\n",
    "\n",
    "# Reading the DataFrame\n",
    "seeds_df = pd.read_csv('seeds-less-rows.csv')\n",
    "\n",
    "# Remove the grain species from the DataFrame, save for later\n",
    "varieties = list(seeds_df.pop('grain_variety'))\n",
    "\n",
    "# Extract the measurements as a NumPy array\n",
    "samples = seeds_df.values\n",
    "\n",
    "\"\"\"\n",
    "    Perform hierarchical clustering on samples using the\n",
    "    linkage() function with the method='complete' keyword argument.\n",
    "    Assign the result to mergings.\n",
    "\"\"\"\n",
    "mergings = linkage(samples, method='complete')\n",
    "\n",
    "\"\"\"\n",
    "Plot a dendrogram using the dendrogram() function on mergings,\n",
    "specifying the keyword arguments labels=varieties, leaf_rotation=90,\n",
    "and leaf_font_size=6.\n",
    "\"\"\"\n",
    "dendrogram(mergings,\n",
    "        labels=varieties,\n",
    "        leaf_rotation=90,\n",
    "        leaf_font_size=6,\n",
    "        )\n",
    "\n",
    "plt.show()"
   ]
  },
  {
   "cell_type": "code",
   "execution_count": null,
   "id": "91f6a632-0e76-46ee-9559-f52857ab18bd",
   "metadata": {},
   "outputs": [],
   "source": []
  }
 ],
 "metadata": {
  "kernelspec": {
   "display_name": "Python 3 (ipykernel)",
   "language": "python",
   "name": "python3"
  },
  "language_info": {
   "codemirror_mode": {
    "name": "ipython",
    "version": 3
   },
   "file_extension": ".py",
   "mimetype": "text/x-python",
   "name": "python",
   "nbconvert_exporter": "python",
   "pygments_lexer": "ipython3",
   "version": "3.9.7"
  }
 },
 "nbformat": 4,
 "nbformat_minor": 5
}
