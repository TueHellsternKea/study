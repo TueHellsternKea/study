{
 "cells": [
  {
   "cell_type": "markdown",
   "id": "8a04d510-74aa-4a4e-b585-092cf2833b27",
   "metadata": {},
   "source": [
    "# EDA\n",
    "## Exploratory data analysis using supermarket sales data"
   ]
  },
  {
   "cell_type": "code",
   "execution_count": null,
   "id": "cb48dc6c-9d49-4051-acb3-208cec0ab2e7",
   "metadata": {},
   "outputs": [],
   "source": [
    "# Install\n",
    "!pip3 install matplotlib\n",
    "!pip3 install seaborn\n",
    "!pip3 install missingno\n",
    "!pip3 install geopy\n",
    "!pip3 install folium\n",
    "!pip3 install dataframe_image"
   ]
  },
  {
   "cell_type": "code",
   "execution_count": 122,
   "id": "78921b89-e1cb-4aa6-affe-fd422337b62e",
   "metadata": {},
   "outputs": [],
   "source": [
    "# Libraries\n",
    "import pandas as pd\n",
    "import numpy as np\n",
    "import matplotlib.pyplot as plt\n",
    "import seaborn as sns\n",
    "import dataframe_image as dfi\n",
    "\n",
    "# Visualizing NaN values\n",
    "import missingno as msno\n",
    "\n",
    "# Visualization\n",
    "import plotly.express as px\n",
    "import plotly.graph_objs as go\n",
    "import plotly.io as pio\n",
    "from plotly.subplots import make_subplots\n",
    "\n",
    "# Calendar\n",
    "import calendar\n",
    "\n",
    "# Geocode\n",
    "from geopy.geocoders import Nominatim\n",
    "from geopy.distance import geodesic\n",
    "import folium\n",
    "from folium import plugins\n",
    "import ipywidgets\n",
    "from branca.element import Figure\n",
    "\n",
    "# Plotly Options and Config\n",
    "pio.templates.default = 'plotly_white'\n",
    "config = {'displayModeBar': False}\n",
    "colors_x = ['#E0C95A', '#CBE0CA', '#E0864E', '#CDCCE3', '#E3B8D1']\n",
    "cmaps = 'Blues'"
   ]
  },
  {
   "cell_type": "code",
   "execution_count": 123,
   "id": "3a19274e-123f-4731-beb5-e71cceb54319",
   "metadata": {},
   "outputs": [
    {
     "data": {
      "text/html": [
       "<div>\n",
       "<style scoped>\n",
       "    .dataframe tbody tr th:only-of-type {\n",
       "        vertical-align: middle;\n",
       "    }\n",
       "\n",
       "    .dataframe tbody tr th {\n",
       "        vertical-align: top;\n",
       "    }\n",
       "\n",
       "    .dataframe thead th {\n",
       "        text-align: right;\n",
       "    }\n",
       "</style>\n",
       "<table border=\"1\" class=\"dataframe\">\n",
       "  <thead>\n",
       "    <tr style=\"text-align: right;\">\n",
       "      <th></th>\n",
       "      <th>Invoice ID</th>\n",
       "      <th>Branch</th>\n",
       "      <th>City</th>\n",
       "      <th>Customer type</th>\n",
       "      <th>Gender</th>\n",
       "      <th>Product line</th>\n",
       "      <th>Unit price</th>\n",
       "      <th>Quantity</th>\n",
       "      <th>Tax 5%</th>\n",
       "      <th>Total</th>\n",
       "      <th>Date</th>\n",
       "      <th>Time</th>\n",
       "      <th>Payment</th>\n",
       "      <th>cogs</th>\n",
       "      <th>gross margin percentage</th>\n",
       "      <th>gross income</th>\n",
       "      <th>Rating</th>\n",
       "    </tr>\n",
       "  </thead>\n",
       "  <tbody>\n",
       "    <tr>\n",
       "      <th>0</th>\n",
       "      <td>750-67-8428</td>\n",
       "      <td>A</td>\n",
       "      <td>Yangon</td>\n",
       "      <td>Member</td>\n",
       "      <td>Female</td>\n",
       "      <td>Health and beauty</td>\n",
       "      <td>74.69</td>\n",
       "      <td>7</td>\n",
       "      <td>26.1415</td>\n",
       "      <td>548.9715</td>\n",
       "      <td>1/5/2019</td>\n",
       "      <td>13:08</td>\n",
       "      <td>Ewallet</td>\n",
       "      <td>522.83</td>\n",
       "      <td>4.761905</td>\n",
       "      <td>26.1415</td>\n",
       "      <td>9.1</td>\n",
       "    </tr>\n",
       "    <tr>\n",
       "      <th>1</th>\n",
       "      <td>226-31-3081</td>\n",
       "      <td>C</td>\n",
       "      <td>Naypyitaw</td>\n",
       "      <td>Normal</td>\n",
       "      <td>Female</td>\n",
       "      <td>Electronic accessories</td>\n",
       "      <td>15.28</td>\n",
       "      <td>5</td>\n",
       "      <td>3.8200</td>\n",
       "      <td>80.2200</td>\n",
       "      <td>3/8/2019</td>\n",
       "      <td>10:29</td>\n",
       "      <td>Cash</td>\n",
       "      <td>76.40</td>\n",
       "      <td>4.761905</td>\n",
       "      <td>3.8200</td>\n",
       "      <td>9.6</td>\n",
       "    </tr>\n",
       "    <tr>\n",
       "      <th>2</th>\n",
       "      <td>631-41-3108</td>\n",
       "      <td>A</td>\n",
       "      <td>Yangon</td>\n",
       "      <td>Normal</td>\n",
       "      <td>Male</td>\n",
       "      <td>Home and lifestyle</td>\n",
       "      <td>46.33</td>\n",
       "      <td>7</td>\n",
       "      <td>16.2155</td>\n",
       "      <td>340.5255</td>\n",
       "      <td>3/3/2019</td>\n",
       "      <td>13:23</td>\n",
       "      <td>Credit card</td>\n",
       "      <td>324.31</td>\n",
       "      <td>4.761905</td>\n",
       "      <td>16.2155</td>\n",
       "      <td>7.4</td>\n",
       "    </tr>\n",
       "    <tr>\n",
       "      <th>3</th>\n",
       "      <td>123-19-1176</td>\n",
       "      <td>A</td>\n",
       "      <td>Yangon</td>\n",
       "      <td>Member</td>\n",
       "      <td>Male</td>\n",
       "      <td>Health and beauty</td>\n",
       "      <td>58.22</td>\n",
       "      <td>8</td>\n",
       "      <td>23.2880</td>\n",
       "      <td>489.0480</td>\n",
       "      <td>1/27/2019</td>\n",
       "      <td>20:33</td>\n",
       "      <td>Ewallet</td>\n",
       "      <td>465.76</td>\n",
       "      <td>4.761905</td>\n",
       "      <td>23.2880</td>\n",
       "      <td>8.4</td>\n",
       "    </tr>\n",
       "    <tr>\n",
       "      <th>4</th>\n",
       "      <td>373-73-7910</td>\n",
       "      <td>A</td>\n",
       "      <td>Yangon</td>\n",
       "      <td>Normal</td>\n",
       "      <td>Male</td>\n",
       "      <td>Sports and travel</td>\n",
       "      <td>86.31</td>\n",
       "      <td>7</td>\n",
       "      <td>30.2085</td>\n",
       "      <td>634.3785</td>\n",
       "      <td>2/8/2019</td>\n",
       "      <td>10:37</td>\n",
       "      <td>Ewallet</td>\n",
       "      <td>604.17</td>\n",
       "      <td>4.761905</td>\n",
       "      <td>30.2085</td>\n",
       "      <td>5.3</td>\n",
       "    </tr>\n",
       "  </tbody>\n",
       "</table>\n",
       "</div>"
      ],
      "text/plain": [
       "    Invoice ID Branch       City Customer type  Gender  \\\n",
       "0  750-67-8428      A     Yangon        Member  Female   \n",
       "1  226-31-3081      C  Naypyitaw        Normal  Female   \n",
       "2  631-41-3108      A     Yangon        Normal    Male   \n",
       "3  123-19-1176      A     Yangon        Member    Male   \n",
       "4  373-73-7910      A     Yangon        Normal    Male   \n",
       "\n",
       "             Product line  Unit price  Quantity   Tax 5%     Total       Date  \\\n",
       "0       Health and beauty       74.69         7  26.1415  548.9715   1/5/2019   \n",
       "1  Electronic accessories       15.28         5   3.8200   80.2200   3/8/2019   \n",
       "2      Home and lifestyle       46.33         7  16.2155  340.5255   3/3/2019   \n",
       "3       Health and beauty       58.22         8  23.2880  489.0480  1/27/2019   \n",
       "4       Sports and travel       86.31         7  30.2085  634.3785   2/8/2019   \n",
       "\n",
       "    Time      Payment    cogs  gross margin percentage  gross income  Rating  \n",
       "0  13:08      Ewallet  522.83                 4.761905       26.1415     9.1  \n",
       "1  10:29         Cash   76.40                 4.761905        3.8200     9.6  \n",
       "2  13:23  Credit card  324.31                 4.761905       16.2155     7.4  \n",
       "3  20:33      Ewallet  465.76                 4.761905       23.2880     8.4  \n",
       "4  10:37      Ewallet  604.17                 4.761905       30.2085     5.3  "
      ]
     },
     "execution_count": 123,
     "metadata": {},
     "output_type": "execute_result"
    }
   ],
   "source": [
    "# Read data - CSV file\n",
    "df = pd.read_csv('supermarket_sales.csv')\n",
    "df.head()"
   ]
  },
  {
   "cell_type": "markdown",
   "id": "3755d1df-21df-4c31-90dc-c20df1b08c51",
   "metadata": {},
   "source": [
    "# Location of the branches"
   ]
  },
  {
   "cell_type": "code",
   "execution_count": 124,
   "id": "2a6ffd46-4f3b-44d3-86dc-d1d8b5978c1d",
   "metadata": {},
   "outputs": [
    {
     "data": {
      "text/html": [
       "<iframe srcdoc=\"&lt;!DOCTYPE html&gt;\n",
       "&lt;head&gt;    \n",
       "    &lt;meta http-equiv=&quot;content-type&quot; content=&quot;text/html; charset=UTF-8&quot; /&gt;\n",
       "    \n",
       "        &lt;script&gt;\n",
       "            L_NO_TOUCH = false;\n",
       "            L_DISABLE_3D = false;\n",
       "        &lt;/script&gt;\n",
       "    \n",
       "    &lt;style&gt;html, body {width: 100%;height: 100%;margin: 0;padding: 0;}&lt;/style&gt;\n",
       "    &lt;style&gt;#map {position:absolute;top:0;bottom:0;right:0;left:0;}&lt;/style&gt;\n",
       "    &lt;script src=&quot;https://cdn.jsdelivr.net/npm/leaflet@1.6.0/dist/leaflet.js&quot;&gt;&lt;/script&gt;\n",
       "    &lt;script src=&quot;https://code.jquery.com/jquery-1.12.4.min.js&quot;&gt;&lt;/script&gt;\n",
       "    &lt;script src=&quot;https://maxcdn.bootstrapcdn.com/bootstrap/3.2.0/js/bootstrap.min.js&quot;&gt;&lt;/script&gt;\n",
       "    &lt;script src=&quot;https://cdnjs.cloudflare.com/ajax/libs/Leaflet.awesome-markers/2.0.2/leaflet.awesome-markers.js&quot;&gt;&lt;/script&gt;\n",
       "    &lt;link rel=&quot;stylesheet&quot; href=&quot;https://cdn.jsdelivr.net/npm/leaflet@1.6.0/dist/leaflet.css&quot;/&gt;\n",
       "    &lt;link rel=&quot;stylesheet&quot; href=&quot;https://maxcdn.bootstrapcdn.com/bootstrap/3.2.0/css/bootstrap.min.css&quot;/&gt;\n",
       "    &lt;link rel=&quot;stylesheet&quot; href=&quot;https://maxcdn.bootstrapcdn.com/bootstrap/3.2.0/css/bootstrap-theme.min.css&quot;/&gt;\n",
       "    &lt;link rel=&quot;stylesheet&quot; href=&quot;https://maxcdn.bootstrapcdn.com/font-awesome/4.6.3/css/font-awesome.min.css&quot;/&gt;\n",
       "    &lt;link rel=&quot;stylesheet&quot; href=&quot;https://cdnjs.cloudflare.com/ajax/libs/Leaflet.awesome-markers/2.0.2/leaflet.awesome-markers.css&quot;/&gt;\n",
       "    &lt;link rel=&quot;stylesheet&quot; href=&quot;https://cdn.jsdelivr.net/gh/python-visualization/folium/folium/templates/leaflet.awesome.rotate.min.css&quot;/&gt;\n",
       "    \n",
       "            &lt;meta name=&quot;viewport&quot; content=&quot;width=device-width,\n",
       "                initial-scale=1.0, maximum-scale=1.0, user-scalable=no&quot; /&gt;\n",
       "            &lt;style&gt;\n",
       "                #map_f5740d5041a6a4a255383311df98acbb {\n",
       "                    position: relative;\n",
       "                    width: 100.0%;\n",
       "                    height: 100.0%;\n",
       "                    left: 0.0%;\n",
       "                    top: 0.0%;\n",
       "                }\n",
       "            &lt;/style&gt;\n",
       "        \n",
       "&lt;/head&gt;\n",
       "&lt;body&gt;    \n",
       "    \n",
       "            &lt;div class=&quot;folium-map&quot; id=&quot;map_f5740d5041a6a4a255383311df98acbb&quot; &gt;&lt;/div&gt;\n",
       "        \n",
       "&lt;/body&gt;\n",
       "&lt;script&gt;    \n",
       "    \n",
       "            var map_f5740d5041a6a4a255383311df98acbb = L.map(\n",
       "                &quot;map_f5740d5041a6a4a255383311df98acbb&quot;,\n",
       "                {\n",
       "                    center: [19.680708, 96.265883],\n",
       "                    crs: L.CRS.EPSG3857,\n",
       "                    zoom: 7,\n",
       "                    zoomControl: true,\n",
       "                    preferCanvas: false,\n",
       "                }\n",
       "            );\n",
       "            L.control.scale().addTo(map_f5740d5041a6a4a255383311df98acbb);\n",
       "\n",
       "            \n",
       "\n",
       "        \n",
       "    \n",
       "            var tile_layer_3e2ae204057b98f497758ac396ad3959 = L.tileLayer(\n",
       "                &quot;https://cartodb-basemaps-{s}.global.ssl.fastly.net/light_all/{z}/{x}/{y}.png&quot;,\n",
       "                {&quot;attribution&quot;: &quot;\\u0026copy; \\u003ca href=\\&quot;http://www.openstreetmap.org/copyright\\&quot;\\u003eOpenStreetMap\\u003c/a\\u003e contributors \\u0026copy; \\u003ca href=\\&quot;http://cartodb.com/attributions\\&quot;\\u003eCartoDB\\u003c/a\\u003e, CartoDB \\u003ca href =\\&quot;http://cartodb.com/attributions\\&quot;\\u003eattributions\\u003c/a\\u003e&quot;, &quot;detectRetina&quot;: false, &quot;maxNativeZoom&quot;: 18, &quot;maxZoom&quot;: 18, &quot;minZoom&quot;: 0, &quot;noWrap&quot;: false, &quot;opacity&quot;: 1, &quot;subdomains&quot;: &quot;abc&quot;, &quot;tms&quot;: false}\n",
       "            ).addTo(map_f5740d5041a6a4a255383311df98acbb);\n",
       "        \n",
       "    \n",
       "            var marker_927182d269e66f11b3c090b65653905e = L.marker(\n",
       "                [16.79671316, 96.160992],\n",
       "                {}\n",
       "            ).addTo(map_f5740d5041a6a4a255383311df98acbb);\n",
       "        \n",
       "    \n",
       "            var icon_ffc3a475f4918ddbca2559b4dcda04cd = L.AwesomeMarkers.icon(\n",
       "                {&quot;extraClasses&quot;: &quot;fa-rotate-0&quot;, &quot;icon&quot;: &quot;glyphicon-shopping-cart&quot;, &quot;iconColor&quot;: &quot;white&quot;, &quot;markerColor&quot;: &quot;blue&quot;, &quot;prefix&quot;: &quot;glyphicon&quot;}\n",
       "            );\n",
       "            marker_927182d269e66f11b3c090b65653905e.setIcon(icon_ffc3a475f4918ddbca2559b4dcda04cd);\n",
       "        \n",
       "    \n",
       "        var popup_04cf1979c3a841ec2ca8c6f34deaed14 = L.popup({&quot;maxWidth&quot;: &quot;100%&quot;});\n",
       "\n",
       "        \n",
       "            var html_508cf17a86b799db3732cbdc7cca7309 = $(`&lt;div id=&quot;html_508cf17a86b799db3732cbdc7cca7309&quot; style=&quot;width: 100.0%; height: 100.0%;&quot;&gt;Yangon&lt;/div&gt;`)[0];\n",
       "            popup_04cf1979c3a841ec2ca8c6f34deaed14.setContent(html_508cf17a86b799db3732cbdc7cca7309);\n",
       "        \n",
       "\n",
       "        marker_927182d269e66f11b3c090b65653905e.bindPopup(popup_04cf1979c3a841ec2ca8c6f34deaed14)\n",
       "        ;\n",
       "\n",
       "        \n",
       "    \n",
       "    \n",
       "            marker_927182d269e66f11b3c090b65653905e.bindTooltip(\n",
       "                `&lt;div&gt;\n",
       "                     click\n",
       "                 &lt;/div&gt;`,\n",
       "                {&quot;sticky&quot;: true}\n",
       "            );\n",
       "        \n",
       "    \n",
       "            var marker_02dde16a86773db8ef879c1ca5d1b6e8 = L.marker(\n",
       "                [19.690708, 96.165883],\n",
       "                {}\n",
       "            ).addTo(map_f5740d5041a6a4a255383311df98acbb);\n",
       "        \n",
       "    \n",
       "            var icon_ea5d1554785ced7d73047d9b6b44794a = L.AwesomeMarkers.icon(\n",
       "                {&quot;extraClasses&quot;: &quot;fa-rotate-0&quot;, &quot;icon&quot;: &quot;glyphicon-shopping-cart&quot;, &quot;iconColor&quot;: &quot;white&quot;, &quot;markerColor&quot;: &quot;blue&quot;, &quot;prefix&quot;: &quot;glyphicon&quot;}\n",
       "            );\n",
       "            marker_02dde16a86773db8ef879c1ca5d1b6e8.setIcon(icon_ea5d1554785ced7d73047d9b6b44794a);\n",
       "        \n",
       "    \n",
       "        var popup_804410b0011317c7260623be46de4182 = L.popup({&quot;maxWidth&quot;: &quot;100%&quot;});\n",
       "\n",
       "        \n",
       "            var html_2794f0656c03da0b655ac3725bdb41a4 = $(`&lt;div id=&quot;html_2794f0656c03da0b655ac3725bdb41a4&quot; style=&quot;width: 100.0%; height: 100.0%;&quot;&gt;Naypyitaw&lt;/div&gt;`)[0];\n",
       "            popup_804410b0011317c7260623be46de4182.setContent(html_2794f0656c03da0b655ac3725bdb41a4);\n",
       "        \n",
       "\n",
       "        marker_02dde16a86773db8ef879c1ca5d1b6e8.bindPopup(popup_804410b0011317c7260623be46de4182)\n",
       "        ;\n",
       "\n",
       "        \n",
       "    \n",
       "    \n",
       "            marker_02dde16a86773db8ef879c1ca5d1b6e8.bindTooltip(\n",
       "                `&lt;div&gt;\n",
       "                     click\n",
       "                 &lt;/div&gt;`,\n",
       "                {&quot;sticky&quot;: true}\n",
       "            );\n",
       "        \n",
       "    \n",
       "            var marker_1dbf59004070025f1b3d5d8a5e1d2bba = L.marker(\n",
       "                [21.981275, 96.082375],\n",
       "                {}\n",
       "            ).addTo(map_f5740d5041a6a4a255383311df98acbb);\n",
       "        \n",
       "    \n",
       "            var icon_53c2831cd98482f0208fb087e638dde0 = L.AwesomeMarkers.icon(\n",
       "                {&quot;extraClasses&quot;: &quot;fa-rotate-0&quot;, &quot;icon&quot;: &quot;glyphicon-shopping-cart&quot;, &quot;iconColor&quot;: &quot;white&quot;, &quot;markerColor&quot;: &quot;blue&quot;, &quot;prefix&quot;: &quot;glyphicon&quot;}\n",
       "            );\n",
       "            marker_1dbf59004070025f1b3d5d8a5e1d2bba.setIcon(icon_53c2831cd98482f0208fb087e638dde0);\n",
       "        \n",
       "    \n",
       "        var popup_280b2d325ad378e7cb1d345cb5eb665a = L.popup({&quot;maxWidth&quot;: &quot;100%&quot;});\n",
       "\n",
       "        \n",
       "            var html_2b0991c585cc890c119787f75226412e = $(`&lt;div id=&quot;html_2b0991c585cc890c119787f75226412e&quot; style=&quot;width: 100.0%; height: 100.0%;&quot;&gt;Mandalay&lt;/div&gt;`)[0];\n",
       "            popup_280b2d325ad378e7cb1d345cb5eb665a.setContent(html_2b0991c585cc890c119787f75226412e);\n",
       "        \n",
       "\n",
       "        marker_1dbf59004070025f1b3d5d8a5e1d2bba.bindPopup(popup_280b2d325ad378e7cb1d345cb5eb665a)\n",
       "        ;\n",
       "\n",
       "        \n",
       "    \n",
       "    \n",
       "            marker_1dbf59004070025f1b3d5d8a5e1d2bba.bindTooltip(\n",
       "                `&lt;div&gt;\n",
       "                     click\n",
       "                 &lt;/div&gt;`,\n",
       "                {&quot;sticky&quot;: true}\n",
       "            );\n",
       "        \n",
       "&lt;/script&gt;\" width=\"800\" height=\"600\"style=\"border:none !important;\" \"allowfullscreen\" \"webkitallowfullscreen\" \"mozallowfullscreen\"></iframe>"
      ],
      "text/plain": [
       "<folium.folium.Map at 0x1c1181784c0>"
      ]
     },
     "execution_count": 124,
     "metadata": {},
     "output_type": "execute_result"
    }
   ],
   "source": [
    "city_data = df.City.unique()\n",
    "cities = pd.DataFrame(data = city_data, columns = {'city_name'})\n",
    "cities\n",
    "\n",
    "nom = Nominatim(user_agent='Kaggle')\n",
    "\n",
    "def geo_cities(cities):\n",
    "    lat = []\n",
    "    long = []\n",
    "    flag = 0\n",
    "    for city in cities['city_name']:\n",
    "      location = nom.geocode(city)\n",
    "      try:\n",
    "        lat.append(location.latitude)\n",
    "        long.append(location.longitude)\n",
    "        print(flag)\n",
    "      except:\n",
    "        lat.append('NA')\n",
    "        long.append('NA')\n",
    "      flag += 1\n",
    "    cities['Latitude'] = lat\n",
    "    cities['Longitude'] = long \n",
    "    \n",
    "#geo_cities(cities)\n",
    "# The geocoding doesn't seem to work in  kaggle notebook so i'll manually add  the output here.\n",
    "\n",
    "cities = pd.DataFrame({'city_name': ['Yangon', 'Naypyitaw', 'Mandalay'],\n",
    "                       'Latitude': [16.79671316,19.690708,21.981275],\n",
    "                       'Longitude' : [96.160992, 96.165883, 96.082375]})\n",
    "\n",
    "supermarket_geo = folium.Map(location = [19.680708,\t96.265883], zoom_start = 7, tiles = 'CartoDB Positron', control_scale = True)\n",
    "\n",
    "fig = Figure(width = 800, height = 600)\n",
    "fig.add_child(supermarket_geo)\n",
    "\n",
    "for (index, row) in cities.iterrows():\n",
    "  folium.Marker(location = [row.loc['Latitude'], row.loc['Longitude']], popup = row.loc['city_name'],tooltip = 'click',\n",
    "                icon = folium.Icon(icon = 'glyphicon-shopping-cart', prefix = 'glyphicon')).add_to(supermarket_geo)\n",
    "\n",
    "supermarket_geo"
   ]
  },
  {
   "cell_type": "markdown",
   "id": "79888657-d766-4baf-810e-e35f1038e913",
   "metadata": {},
   "source": [
    "## Variable transformations\n",
    "Change the date variable to date"
   ]
  },
  {
   "cell_type": "code",
   "execution_count": 125,
   "id": "a24245f2-ae6f-43df-9cee-ebc0edcc4155",
   "metadata": {},
   "outputs": [],
   "source": [
    "df['Date'] = pd.to_datetime(df['Date'])\n",
    "df['weekday'] = df['Date'].dt.day_name()"
   ]
  },
  {
   "cell_type": "markdown",
   "id": "782e1c9c-4786-44e9-97f0-ea698487e043",
   "metadata": {},
   "source": [
    "## Set the Date as the index of the dataset"
   ]
  },
  {
   "cell_type": "code",
   "execution_count": 126,
   "id": "23c87895-6eb4-4200-96aa-d0be12ae2298",
   "metadata": {},
   "outputs": [
    {
     "data": {
      "text/html": [
       "<div>\n",
       "<style scoped>\n",
       "    .dataframe tbody tr th:only-of-type {\n",
       "        vertical-align: middle;\n",
       "    }\n",
       "\n",
       "    .dataframe tbody tr th {\n",
       "        vertical-align: top;\n",
       "    }\n",
       "\n",
       "    .dataframe thead th {\n",
       "        text-align: right;\n",
       "    }\n",
       "</style>\n",
       "<table border=\"1\" class=\"dataframe\">\n",
       "  <thead>\n",
       "    <tr style=\"text-align: right;\">\n",
       "      <th></th>\n",
       "      <th>Invoice ID</th>\n",
       "      <th>Branch</th>\n",
       "      <th>City</th>\n",
       "      <th>Customer type</th>\n",
       "      <th>Gender</th>\n",
       "      <th>Product line</th>\n",
       "      <th>Unit price</th>\n",
       "      <th>Quantity</th>\n",
       "      <th>Tax 5%</th>\n",
       "      <th>Total</th>\n",
       "      <th>Time</th>\n",
       "      <th>Payment</th>\n",
       "      <th>cogs</th>\n",
       "      <th>gross margin percentage</th>\n",
       "      <th>gross income</th>\n",
       "      <th>Rating</th>\n",
       "      <th>weekday</th>\n",
       "    </tr>\n",
       "    <tr>\n",
       "      <th>Date</th>\n",
       "      <th></th>\n",
       "      <th></th>\n",
       "      <th></th>\n",
       "      <th></th>\n",
       "      <th></th>\n",
       "      <th></th>\n",
       "      <th></th>\n",
       "      <th></th>\n",
       "      <th></th>\n",
       "      <th></th>\n",
       "      <th></th>\n",
       "      <th></th>\n",
       "      <th></th>\n",
       "      <th></th>\n",
       "      <th></th>\n",
       "      <th></th>\n",
       "      <th></th>\n",
       "    </tr>\n",
       "  </thead>\n",
       "  <tbody>\n",
       "    <tr>\n",
       "      <th>2019-01-05</th>\n",
       "      <td>750-67-8428</td>\n",
       "      <td>A</td>\n",
       "      <td>Yangon</td>\n",
       "      <td>Member</td>\n",
       "      <td>Female</td>\n",
       "      <td>Health and beauty</td>\n",
       "      <td>74.69</td>\n",
       "      <td>7</td>\n",
       "      <td>26.1415</td>\n",
       "      <td>548.9715</td>\n",
       "      <td>13:08</td>\n",
       "      <td>Ewallet</td>\n",
       "      <td>522.83</td>\n",
       "      <td>4.761905</td>\n",
       "      <td>26.1415</td>\n",
       "      <td>9.1</td>\n",
       "      <td>Saturday</td>\n",
       "    </tr>\n",
       "    <tr>\n",
       "      <th>2019-03-08</th>\n",
       "      <td>226-31-3081</td>\n",
       "      <td>C</td>\n",
       "      <td>Naypyitaw</td>\n",
       "      <td>Normal</td>\n",
       "      <td>Female</td>\n",
       "      <td>Electronic accessories</td>\n",
       "      <td>15.28</td>\n",
       "      <td>5</td>\n",
       "      <td>3.8200</td>\n",
       "      <td>80.2200</td>\n",
       "      <td>10:29</td>\n",
       "      <td>Cash</td>\n",
       "      <td>76.40</td>\n",
       "      <td>4.761905</td>\n",
       "      <td>3.8200</td>\n",
       "      <td>9.6</td>\n",
       "      <td>Friday</td>\n",
       "    </tr>\n",
       "    <tr>\n",
       "      <th>2019-03-03</th>\n",
       "      <td>631-41-3108</td>\n",
       "      <td>A</td>\n",
       "      <td>Yangon</td>\n",
       "      <td>Normal</td>\n",
       "      <td>Male</td>\n",
       "      <td>Home and lifestyle</td>\n",
       "      <td>46.33</td>\n",
       "      <td>7</td>\n",
       "      <td>16.2155</td>\n",
       "      <td>340.5255</td>\n",
       "      <td>13:23</td>\n",
       "      <td>Credit card</td>\n",
       "      <td>324.31</td>\n",
       "      <td>4.761905</td>\n",
       "      <td>16.2155</td>\n",
       "      <td>7.4</td>\n",
       "      <td>Sunday</td>\n",
       "    </tr>\n",
       "    <tr>\n",
       "      <th>2019-01-27</th>\n",
       "      <td>123-19-1176</td>\n",
       "      <td>A</td>\n",
       "      <td>Yangon</td>\n",
       "      <td>Member</td>\n",
       "      <td>Male</td>\n",
       "      <td>Health and beauty</td>\n",
       "      <td>58.22</td>\n",
       "      <td>8</td>\n",
       "      <td>23.2880</td>\n",
       "      <td>489.0480</td>\n",
       "      <td>20:33</td>\n",
       "      <td>Ewallet</td>\n",
       "      <td>465.76</td>\n",
       "      <td>4.761905</td>\n",
       "      <td>23.2880</td>\n",
       "      <td>8.4</td>\n",
       "      <td>Sunday</td>\n",
       "    </tr>\n",
       "    <tr>\n",
       "      <th>2019-02-08</th>\n",
       "      <td>373-73-7910</td>\n",
       "      <td>A</td>\n",
       "      <td>Yangon</td>\n",
       "      <td>Normal</td>\n",
       "      <td>Male</td>\n",
       "      <td>Sports and travel</td>\n",
       "      <td>86.31</td>\n",
       "      <td>7</td>\n",
       "      <td>30.2085</td>\n",
       "      <td>634.3785</td>\n",
       "      <td>10:37</td>\n",
       "      <td>Ewallet</td>\n",
       "      <td>604.17</td>\n",
       "      <td>4.761905</td>\n",
       "      <td>30.2085</td>\n",
       "      <td>5.3</td>\n",
       "      <td>Friday</td>\n",
       "    </tr>\n",
       "  </tbody>\n",
       "</table>\n",
       "</div>"
      ],
      "text/plain": [
       "             Invoice ID Branch       City Customer type  Gender  \\\n",
       "Date                                                              \n",
       "2019-01-05  750-67-8428      A     Yangon        Member  Female   \n",
       "2019-03-08  226-31-3081      C  Naypyitaw        Normal  Female   \n",
       "2019-03-03  631-41-3108      A     Yangon        Normal    Male   \n",
       "2019-01-27  123-19-1176      A     Yangon        Member    Male   \n",
       "2019-02-08  373-73-7910      A     Yangon        Normal    Male   \n",
       "\n",
       "                      Product line  Unit price  Quantity   Tax 5%     Total  \\\n",
       "Date                                                                          \n",
       "2019-01-05       Health and beauty       74.69         7  26.1415  548.9715   \n",
       "2019-03-08  Electronic accessories       15.28         5   3.8200   80.2200   \n",
       "2019-03-03      Home and lifestyle       46.33         7  16.2155  340.5255   \n",
       "2019-01-27       Health and beauty       58.22         8  23.2880  489.0480   \n",
       "2019-02-08       Sports and travel       86.31         7  30.2085  634.3785   \n",
       "\n",
       "             Time      Payment    cogs  gross margin percentage  gross income  \\\n",
       "Date                                                                            \n",
       "2019-01-05  13:08      Ewallet  522.83                 4.761905       26.1415   \n",
       "2019-03-08  10:29         Cash   76.40                 4.761905        3.8200   \n",
       "2019-03-03  13:23  Credit card  324.31                 4.761905       16.2155   \n",
       "2019-01-27  20:33      Ewallet  465.76                 4.761905       23.2880   \n",
       "2019-02-08  10:37      Ewallet  604.17                 4.761905       30.2085   \n",
       "\n",
       "            Rating   weekday  \n",
       "Date                          \n",
       "2019-01-05     9.1  Saturday  \n",
       "2019-03-08     9.6    Friday  \n",
       "2019-03-03     7.4    Sunday  \n",
       "2019-01-27     8.4    Sunday  \n",
       "2019-02-08     5.3    Friday  "
      ]
     },
     "execution_count": 126,
     "metadata": {},
     "output_type": "execute_result"
    }
   ],
   "source": [
    "df.set_index('Date', inplace=True)\n",
    "df.head()"
   ]
  },
  {
   "cell_type": "markdown",
   "id": "3dc0ed17-7391-45dc-85ed-b7aab755d1e5",
   "metadata": {},
   "source": [
    "# Univariate analysis\n",
    "\n",
    "## Question 1\n",
    "*What does the customer rating look like and is it skewed?*"
   ]
  },
  {
   "cell_type": "code",
   "execution_count": 127,
   "id": "2074df9f-62f9-4597-b47c-962a1cd2f82c",
   "metadata": {},
   "outputs": [
    {
     "data": {
      "image/png": "[encoded data removed]",
      "text/plain": [
       "<Figure size 432x288 with 1 Axes>"
      ]
     },
     "metadata": {
      "needs_background": "light"
     },
     "output_type": "display_data"
    }
   ],
   "source": [
    "sns.histplot(df['Rating'], kde=True)\n",
    "plt.axvline(x=np.mean(df['Rating']), c='red', ls='--', label='mean')\n",
    "plt.axvline(x=np.percentile(df['Rating'],25),c='green', ls='--', label = '25th percentile:Q1')\n",
    "plt.axvline(x=np.percentile(df['Rating'],75),c='orange', ls='--',label = '75th percentile:Q3' )\n",
    "plt.legend()\n",
    "plt.savefig(\"uni1.png\") "
   ]
  },
  {
   "cell_type": "markdown",
   "id": "4b06a9c5-d7be-4376-be6b-072499a3c118",
   "metadata": {},
   "source": [
    "The rating distribution looks uniform and there seems to be no skewness on the left or right side of the distribution.\n",
    "\n",
    "We can plot the mean and the percentiles to show this as well.\n",
    "\n",
    "The red dotted lime is the mean and the green and orange lines indicate the 25th and 75th quartiles respectively.\n",
    "\n",
    "The mean rating is ~7 across products."
   ]
  },
  {
   "cell_type": "markdown",
   "id": "ce1d592b-ab45-466c-98fb-966f3882599f",
   "metadata": {},
   "source": [
    "## Question 2\n",
    "*Is there any difference in aggregate sales across branches?*"
   ]
  },
  {
   "cell_type": "code",
   "execution_count": 128,
   "id": "d3895f34-2fe2-42c7-9331-7773a5d40276",
   "metadata": {},
   "outputs": [
    {
     "data": {
      "image/png": "[encoded data removed]",
      "text/plain": [
       "<Figure size 432x288 with 1 Axes>"
      ]
     },
     "metadata": {
      "needs_background": "light"
     },
     "output_type": "display_data"
    }
   ],
   "source": [
    "sns.countplot(x=df['Branch'])\n",
    "df['Branch'].value_counts()\n",
    "plt.savefig(\"uni2.png\") "
   ]
  },
  {
   "cell_type": "markdown",
   "id": "fb45595e-6cfa-4291-b22b-9b562933104d",
   "metadata": {},
   "source": [
    "There is not much difference in sales across the 3 branches of A, B and C. \n",
    "The sales in branch A is a bit higher than the rest of the branches."
   ]
  },
  {
   "cell_type": "markdown",
   "id": "2536dfe7-ad1f-47e5-b284-5b71fe69915f",
   "metadata": {},
   "source": [
    "## Question 3\n",
    "*Which is the most pouplar payment method used by customers?*"
   ]
  },
  {
   "cell_type": "code",
   "execution_count": 129,
   "id": "9af57c42-fab5-419a-909a-ba58c5d0c4a4",
   "metadata": {},
   "outputs": [
    {
     "data": {
      "image/png": "[encoded data removed]",
      "text/plain": [
       "<Figure size 432x288 with 1 Axes>"
      ]
     },
     "metadata": {
      "needs_background": "light"
     },
     "output_type": "display_data"
    }
   ],
   "source": [
    "sns.countplot(x=df['Payment'])\n",
    "plt.savefig(\"uni3.png\")"
   ]
  },
  {
   "cell_type": "markdown",
   "id": "4a6bf197-f46e-4793-86c5-f43565dfa7ae",
   "metadata": {},
   "source": [
    "The most popular payment method is E-wallet and not credit cards.\n",
    "Cash payment is also popular"
   ]
  },
  {
   "cell_type": "markdown",
   "id": "3dc81be2-318b-4a66-8d95-b702e415fe84",
   "metadata": {},
   "source": [
    "## Bi-variate analysis\n",
    "Let us consider two (bi) variables together and look at the interaction/relationship between them. \n",
    "\n",
    "This is bi-variate analysis that can help to draw important conclusions about the data.\n",
    "Let us consider gross income and try to answer the following questions:\n",
    "\n",
    "## Question 4\n",
    "*Does gross income affect the ratings that the customers provide?*"
   ]
  },
  {
   "cell_type": "code",
   "execution_count": 130,
   "id": "97b47b5b-1ca9-4713-ab15-cfe71fc87979",
   "metadata": {},
   "outputs": [
    {
     "data": {
      "image/png": "[encoded data removed]",
      "text/plain": [
       "<Figure size 432x288 with 1 Axes>"
      ]
     },
     "metadata": {
      "needs_background": "light"
     },
     "output_type": "display_data"
    }
   ],
   "source": [
    "sns.regplot(x=df['Rating'], y=df['gross income'])\n",
    "plt.savefig(\"uni4.png\")"
   ]
  },
  {
   "cell_type": "markdown",
   "id": "60019f4f-4cbc-4d0b-9cc9-aba971bcec7e",
   "metadata": {},
   "source": [
    "*As you can see from the scatter plot and the trend line which is pretty flat that there is no relationship between gross income of a customer and his rating.*"
   ]
  },
  {
   "cell_type": "markdown",
   "id": "05e36b1e-61b7-4e4d-bf7c-cf6bbb3d6918",
   "metadata": {},
   "source": [
    "## Question 5: \n",
    "*Which branch is the most profitable?*"
   ]
  },
  {
   "cell_type": "code",
   "execution_count": 131,
   "id": "a707f783-00b7-447c-9658-1d9af3ff2a69",
   "metadata": {},
   "outputs": [
    {
     "data": {
      "image/png": "[encoded data removed]",
      "text/plain": [
       "<Figure size 432x288 with 1 Axes>"
      ]
     },
     "metadata": {
      "needs_background": "light"
     },
     "output_type": "display_data"
    }
   ],
   "source": [
    "sns.boxplot(x=df['Branch'], y=df['gross income'])\n",
    "plt.savefig(\"uni5.png\")"
   ]
  },
  {
   "cell_type": "markdown",
   "id": "aced00ba-2a90-42de-9258-b9d845a362aa",
   "metadata": {},
   "source": [
    "*There is not much difference in gross income by branches at an average level. Branch C has a slightly higher income than A or B, As observed earlier, though branch A has slightly higher sales than the rest C is the most profitable branch in terms of gross income.*"
   ]
  },
  {
   "cell_type": "markdown",
   "id": "7b50ef2f-e3b1-4ab5-9f08-1cace20aa4c7",
   "metadata": {},
   "source": [
    "## Question 6 \n",
    "*What is the relationship between Gender and Gross income?*"
   ]
  },
  {
   "cell_type": "code",
   "execution_count": 132,
   "id": "e2487c2b-cd96-4ac0-bcaa-b607b409c469",
   "metadata": {},
   "outputs": [
    {
     "data": {
      "image/png": "[encoded data removed]",
      "text/plain": [
       "<Figure size 432x288 with 1 Axes>"
      ]
     },
     "metadata": {
      "needs_background": "light"
     },
     "output_type": "display_data"
    }
   ],
   "source": [
    "sns.boxplot(x=df['Gender'], y=df['gross income'])\n",
    "plt.savefig(\"uni6.png\")"
   ]
  },
  {
   "cell_type": "markdown",
   "id": "fada8876-444f-4e4c-b03e-d5bd69242e0e",
   "metadata": {},
   "source": [
    "*Gross income is similar for both male and female, though female customers spend a bit higher at the 75th percentile.*"
   ]
  },
  {
   "cell_type": "markdown",
   "id": "9574aca9-1674-48f6-9118-fba69eb31589",
   "metadata": {},
   "source": [
    "## Question 7\n",
    "*Is there any time trend in gross income?*"
   ]
  },
  {
   "cell_type": "code",
   "execution_count": 133,
   "id": "8bc08925-fccb-4b50-8f4a-0363da70e951",
   "metadata": {},
   "outputs": [
    {
     "data": {
      "image/png": "[encoded data removed]",
      "text/plain": [
       "<Figure size 432x288 with 1 Axes>"
      ]
     },
     "metadata": {
      "needs_background": "light"
     },
     "output_type": "display_data"
    }
   ],
   "source": [
    "df.groupby(df.index).mean()\n",
    "sns.lineplot(x= df.groupby(df.index).mean().index, \n",
    "             y = df.groupby(df.index).mean()['gross income'])\n",
    "plt.savefig(\"uni7.png\")"
   ]
  },
  {
   "cell_type": "markdown",
   "id": "df473971-fe0a-4c14-aa6f-3403d4525673",
   "metadata": {},
   "source": [
    "*No particular time trend except for some days the gross income is pretty high and some days it is pretty low. Overall it remains at a certain average level.*"
   ]
  },
  {
   "cell_type": "markdown",
   "id": "c2f59287-19a6-4e9e-9c7a-e51147a3cafe",
   "metadata": {},
   "source": [
    "## Question 8\n",
    "*Which product line generates most income?*"
   ]
  },
  {
   "cell_type": "code",
   "execution_count": 134,
   "id": "151c9372-6edf-4e1f-a239-9d7cc4b61ea4",
   "metadata": {},
   "outputs": [
    {
     "data": {
      "image/png": "[encoded data removed]",
      "text/plain": [
       "<Figure size 1440x576 with 1 Axes>"
      ]
     },
     "metadata": {
      "needs_background": "light"
     },
     "output_type": "display_data"
    }
   ],
   "source": [
    "cat=df[[\"Product line\", \"gross income\"]].groupby(['Product line'], as_index=False).sum().sort_values(by='gross income', ascending=False)\n",
    "plt.figure(figsize=(20,8))\n",
    "sns.barplot(x='Product line', y='gross income', data=cat)\n",
    "plt.savefig(\"uni8.png\")"
   ]
  },
  {
   "cell_type": "markdown",
   "id": "2589b4fa-de25-45c8-bd1c-e490396d0509",
   "metadata": {},
   "source": [
    "*Gross income is highest in sports and travel.*"
   ]
  },
  {
   "cell_type": "markdown",
   "id": "366b053d-c89a-4d05-92e6-221179d6a593",
   "metadata": {},
   "source": [
    "# Correlation analysis\n",
    "## Individual correlations"
   ]
  },
  {
   "cell_type": "code",
   "execution_count": 135,
   "id": "dc190923-fe58-4266-af96-5bf0da867828",
   "metadata": {},
   "outputs": [
    {
     "data": {
      "text/plain": [
       "-0.04"
      ]
     },
     "execution_count": 135,
     "metadata": {},
     "output_type": "execute_result"
    }
   ],
   "source": [
    "round(np.corrcoef(df['gross income'], df['Rating'])[1][0],2)"
   ]
  },
  {
   "cell_type": "markdown",
   "id": "2201a6fe-71ea-4deb-809d-9a3c7c60f6e7",
   "metadata": {},
   "source": [
    "## Pairwise correlations"
   ]
  },
  {
   "cell_type": "code",
   "execution_count": 136,
   "id": "968523cd-c550-4f56-b971-7ae402334360",
   "metadata": {},
   "outputs": [
    {
     "data": {
      "text/html": [
       "<div>\n",
       "<style scoped>\n",
       "    .dataframe tbody tr th:only-of-type {\n",
       "        vertical-align: middle;\n",
       "    }\n",
       "\n",
       "    .dataframe tbody tr th {\n",
       "        vertical-align: top;\n",
       "    }\n",
       "\n",
       "    .dataframe thead th {\n",
       "        text-align: right;\n",
       "    }\n",
       "</style>\n",
       "<table border=\"1\" class=\"dataframe\">\n",
       "  <thead>\n",
       "    <tr style=\"text-align: right;\">\n",
       "      <th></th>\n",
       "      <th>Unit price</th>\n",
       "      <th>Quantity</th>\n",
       "      <th>Tax 5%</th>\n",
       "      <th>Total</th>\n",
       "      <th>cogs</th>\n",
       "      <th>gross margin percentage</th>\n",
       "      <th>gross income</th>\n",
       "      <th>Rating</th>\n",
       "    </tr>\n",
       "  </thead>\n",
       "  <tbody>\n",
       "    <tr>\n",
       "      <th>Unit price</th>\n",
       "      <td>1.00</td>\n",
       "      <td>0.01</td>\n",
       "      <td>0.63</td>\n",
       "      <td>0.63</td>\n",
       "      <td>0.63</td>\n",
       "      <td>NaN</td>\n",
       "      <td>0.63</td>\n",
       "      <td>-0.01</td>\n",
       "    </tr>\n",
       "    <tr>\n",
       "      <th>Quantity</th>\n",
       "      <td>0.01</td>\n",
       "      <td>1.00</td>\n",
       "      <td>0.71</td>\n",
       "      <td>0.71</td>\n",
       "      <td>0.71</td>\n",
       "      <td>NaN</td>\n",
       "      <td>0.71</td>\n",
       "      <td>-0.02</td>\n",
       "    </tr>\n",
       "    <tr>\n",
       "      <th>Tax 5%</th>\n",
       "      <td>0.63</td>\n",
       "      <td>0.71</td>\n",
       "      <td>1.00</td>\n",
       "      <td>1.00</td>\n",
       "      <td>1.00</td>\n",
       "      <td>NaN</td>\n",
       "      <td>1.00</td>\n",
       "      <td>-0.04</td>\n",
       "    </tr>\n",
       "    <tr>\n",
       "      <th>Total</th>\n",
       "      <td>0.63</td>\n",
       "      <td>0.71</td>\n",
       "      <td>1.00</td>\n",
       "      <td>1.00</td>\n",
       "      <td>1.00</td>\n",
       "      <td>NaN</td>\n",
       "      <td>1.00</td>\n",
       "      <td>-0.04</td>\n",
       "    </tr>\n",
       "    <tr>\n",
       "      <th>cogs</th>\n",
       "      <td>0.63</td>\n",
       "      <td>0.71</td>\n",
       "      <td>1.00</td>\n",
       "      <td>1.00</td>\n",
       "      <td>1.00</td>\n",
       "      <td>NaN</td>\n",
       "      <td>1.00</td>\n",
       "      <td>-0.04</td>\n",
       "    </tr>\n",
       "    <tr>\n",
       "      <th>gross margin percentage</th>\n",
       "      <td>NaN</td>\n",
       "      <td>NaN</td>\n",
       "      <td>NaN</td>\n",
       "      <td>NaN</td>\n",
       "      <td>NaN</td>\n",
       "      <td>NaN</td>\n",
       "      <td>NaN</td>\n",
       "      <td>NaN</td>\n",
       "    </tr>\n",
       "    <tr>\n",
       "      <th>gross income</th>\n",
       "      <td>0.63</td>\n",
       "      <td>0.71</td>\n",
       "      <td>1.00</td>\n",
       "      <td>1.00</td>\n",
       "      <td>1.00</td>\n",
       "      <td>NaN</td>\n",
       "      <td>1.00</td>\n",
       "      <td>-0.04</td>\n",
       "    </tr>\n",
       "    <tr>\n",
       "      <th>Rating</th>\n",
       "      <td>-0.01</td>\n",
       "      <td>-0.02</td>\n",
       "      <td>-0.04</td>\n",
       "      <td>-0.04</td>\n",
       "      <td>-0.04</td>\n",
       "      <td>NaN</td>\n",
       "      <td>-0.04</td>\n",
       "      <td>1.00</td>\n",
       "    </tr>\n",
       "  </tbody>\n",
       "</table>\n",
       "</div>"
      ],
      "text/plain": [
       "                         Unit price  Quantity  Tax 5%  Total  cogs  \\\n",
       "Unit price                     1.00      0.01    0.63   0.63  0.63   \n",
       "Quantity                       0.01      1.00    0.71   0.71  0.71   \n",
       "Tax 5%                         0.63      0.71    1.00   1.00  1.00   \n",
       "Total                          0.63      0.71    1.00   1.00  1.00   \n",
       "cogs                           0.63      0.71    1.00   1.00  1.00   \n",
       "gross margin percentage         NaN       NaN     NaN    NaN   NaN   \n",
       "gross income                   0.63      0.71    1.00   1.00  1.00   \n",
       "Rating                        -0.01     -0.02   -0.04  -0.04 -0.04   \n",
       "\n",
       "                         gross margin percentage  gross income  Rating  \n",
       "Unit price                                   NaN          0.63   -0.01  \n",
       "Quantity                                     NaN          0.71   -0.02  \n",
       "Tax 5%                                       NaN          1.00   -0.04  \n",
       "Total                                        NaN          1.00   -0.04  \n",
       "cogs                                         NaN          1.00   -0.04  \n",
       "gross margin percentage                      NaN           NaN     NaN  \n",
       "gross income                                 NaN          1.00   -0.04  \n",
       "Rating                                       NaN         -0.04    1.00  "
      ]
     },
     "execution_count": 136,
     "metadata": {},
     "output_type": "execute_result"
    }
   ],
   "source": [
    "np.round(df.corr(),2)"
   ]
  },
  {
   "cell_type": "markdown",
   "id": "4965baf0-735a-4997-b509-872d8933d31e",
   "metadata": {},
   "source": [
    "# Other analysis\n",
    "## Question 10\n",
    "*What is the spending patterns of females and males and in which category do they spend a lot?*"
   ]
  },
  {
   "cell_type": "code",
   "execution_count": 137,
   "id": "6c315014-7b0b-4b05-b01d-3380d2a9bbd0",
   "metadata": {},
   "outputs": [
    {
     "data": {
      "image/png": "[encoded data removed]",
      "text/plain": [
       "<Figure size 864x432 with 1 Axes>"
      ]
     },
     "metadata": {
      "needs_background": "light"
     },
     "output_type": "display_data"
    }
   ],
   "source": [
    "plt.figure(figsize=(12, 6))\n",
    "plt.title('Total Monthly transaction by Gender')\n",
    "sns.countplot(x=df['Product line'], hue = df.Gender)\n",
    "plt.savefig(\"uni10.png\")"
   ]
  },
  {
   "cell_type": "markdown",
   "id": "b1097114-a868-49da-b999-fc002fb7b6ee",
   "metadata": {},
   "source": [
    "*Females spend on 'fashion accessories' the most and for males surprisingly it is 'Health and beauty'. Females also spend more on 'Sports and travel'.*"
   ]
  },
  {
   "cell_type": "markdown",
   "id": "2f4bb8d1-e9e2-4a61-9905-b2f60ce0fde4",
   "metadata": {},
   "source": [
    "# Dummy method"
   ]
  },
  {
   "cell_type": "code",
   "execution_count": 138,
   "id": "b23c9c00-ca47-4e4a-b411-832bd55b47f8",
   "metadata": {},
   "outputs": [
    {
     "data": {
      "text/html": [
       "<div>\n",
       "<style scoped>\n",
       "    .dataframe tbody tr th:only-of-type {\n",
       "        vertical-align: middle;\n",
       "    }\n",
       "\n",
       "    .dataframe tbody tr th {\n",
       "        vertical-align: top;\n",
       "    }\n",
       "\n",
       "    .dataframe thead th {\n",
       "        text-align: right;\n",
       "    }\n",
       "</style>\n",
       "<table border=\"1\" class=\"dataframe\">\n",
       "  <thead>\n",
       "    <tr style=\"text-align: right;\">\n",
       "      <th></th>\n",
       "      <th>Female</th>\n",
       "      <th>Male</th>\n",
       "    </tr>\n",
       "    <tr>\n",
       "      <th>Date</th>\n",
       "      <th></th>\n",
       "      <th></th>\n",
       "    </tr>\n",
       "  </thead>\n",
       "  <tbody>\n",
       "    <tr>\n",
       "      <th>2019-01-05</th>\n",
       "      <td>1</td>\n",
       "      <td>0</td>\n",
       "    </tr>\n",
       "    <tr>\n",
       "      <th>2019-03-08</th>\n",
       "      <td>1</td>\n",
       "      <td>0</td>\n",
       "    </tr>\n",
       "    <tr>\n",
       "      <th>2019-03-03</th>\n",
       "      <td>0</td>\n",
       "      <td>1</td>\n",
       "    </tr>\n",
       "    <tr>\n",
       "      <th>2019-01-27</th>\n",
       "      <td>0</td>\n",
       "      <td>1</td>\n",
       "    </tr>\n",
       "    <tr>\n",
       "      <th>2019-02-08</th>\n",
       "      <td>0</td>\n",
       "      <td>1</td>\n",
       "    </tr>\n",
       "  </tbody>\n",
       "</table>\n",
       "</div>"
      ],
      "text/plain": [
       "            Female  Male\n",
       "Date                    \n",
       "2019-01-05       1     0\n",
       "2019-03-08       1     0\n",
       "2019-03-03       0     1\n",
       "2019-01-27       0     1\n",
       "2019-02-08       0     1"
      ]
     },
     "execution_count": 138,
     "metadata": {},
     "output_type": "execute_result"
    }
   ],
   "source": [
    "gender_dummies  = pd.get_dummies(df['Gender'])\n",
    "gender_dummies.head()"
   ]
  },
  {
   "cell_type": "markdown",
   "id": "4aeaaac6-fa0b-470d-90bb-11a2dacc76c3",
   "metadata": {},
   "source": [
    "Join the Gender dummies with the original data"
   ]
  },
  {
   "cell_type": "code",
   "execution_count": 139,
   "id": "d42d9866-f5e7-4343-aa7d-28e2347b5ef1",
   "metadata": {},
   "outputs": [
    {
     "data": {
      "text/html": [
       "<div>\n",
       "<style scoped>\n",
       "    .dataframe tbody tr th:only-of-type {\n",
       "        vertical-align: middle;\n",
       "    }\n",
       "\n",
       "    .dataframe tbody tr th {\n",
       "        vertical-align: top;\n",
       "    }\n",
       "\n",
       "    .dataframe thead th {\n",
       "        text-align: right;\n",
       "    }\n",
       "</style>\n",
       "<table border=\"1\" class=\"dataframe\">\n",
       "  <thead>\n",
       "    <tr style=\"text-align: right;\">\n",
       "      <th></th>\n",
       "      <th>Invoice ID</th>\n",
       "      <th>Branch</th>\n",
       "      <th>City</th>\n",
       "      <th>Customer type</th>\n",
       "      <th>Gender</th>\n",
       "      <th>Product line</th>\n",
       "      <th>Unit price</th>\n",
       "      <th>Quantity</th>\n",
       "      <th>Tax 5%</th>\n",
       "      <th>Total</th>\n",
       "      <th>Time</th>\n",
       "      <th>Payment</th>\n",
       "      <th>cogs</th>\n",
       "      <th>gross margin percentage</th>\n",
       "      <th>gross income</th>\n",
       "      <th>Rating</th>\n",
       "      <th>weekday</th>\n",
       "      <th>Female</th>\n",
       "      <th>Male</th>\n",
       "    </tr>\n",
       "    <tr>\n",
       "      <th>Date</th>\n",
       "      <th></th>\n",
       "      <th></th>\n",
       "      <th></th>\n",
       "      <th></th>\n",
       "      <th></th>\n",
       "      <th></th>\n",
       "      <th></th>\n",
       "      <th></th>\n",
       "      <th></th>\n",
       "      <th></th>\n",
       "      <th></th>\n",
       "      <th></th>\n",
       "      <th></th>\n",
       "      <th></th>\n",
       "      <th></th>\n",
       "      <th></th>\n",
       "      <th></th>\n",
       "      <th></th>\n",
       "      <th></th>\n",
       "    </tr>\n",
       "  </thead>\n",
       "  <tbody>\n",
       "    <tr>\n",
       "      <th>2019-01-05</th>\n",
       "      <td>750-67-8428</td>\n",
       "      <td>A</td>\n",
       "      <td>Yangon</td>\n",
       "      <td>Member</td>\n",
       "      <td>Female</td>\n",
       "      <td>Health and beauty</td>\n",
       "      <td>74.69</td>\n",
       "      <td>7</td>\n",
       "      <td>26.1415</td>\n",
       "      <td>548.9715</td>\n",
       "      <td>13:08</td>\n",
       "      <td>Ewallet</td>\n",
       "      <td>522.83</td>\n",
       "      <td>4.761905</td>\n",
       "      <td>26.1415</td>\n",
       "      <td>9.1</td>\n",
       "      <td>Saturday</td>\n",
       "      <td>1</td>\n",
       "      <td>0</td>\n",
       "    </tr>\n",
       "    <tr>\n",
       "      <th>2019-03-08</th>\n",
       "      <td>226-31-3081</td>\n",
       "      <td>C</td>\n",
       "      <td>Naypyitaw</td>\n",
       "      <td>Normal</td>\n",
       "      <td>Female</td>\n",
       "      <td>Electronic accessories</td>\n",
       "      <td>15.28</td>\n",
       "      <td>5</td>\n",
       "      <td>3.8200</td>\n",
       "      <td>80.2200</td>\n",
       "      <td>10:29</td>\n",
       "      <td>Cash</td>\n",
       "      <td>76.40</td>\n",
       "      <td>4.761905</td>\n",
       "      <td>3.8200</td>\n",
       "      <td>9.6</td>\n",
       "      <td>Friday</td>\n",
       "      <td>1</td>\n",
       "      <td>0</td>\n",
       "    </tr>\n",
       "    <tr>\n",
       "      <th>2019-03-03</th>\n",
       "      <td>631-41-3108</td>\n",
       "      <td>A</td>\n",
       "      <td>Yangon</td>\n",
       "      <td>Normal</td>\n",
       "      <td>Male</td>\n",
       "      <td>Home and lifestyle</td>\n",
       "      <td>46.33</td>\n",
       "      <td>7</td>\n",
       "      <td>16.2155</td>\n",
       "      <td>340.5255</td>\n",
       "      <td>13:23</td>\n",
       "      <td>Credit card</td>\n",
       "      <td>324.31</td>\n",
       "      <td>4.761905</td>\n",
       "      <td>16.2155</td>\n",
       "      <td>7.4</td>\n",
       "      <td>Sunday</td>\n",
       "      <td>0</td>\n",
       "      <td>1</td>\n",
       "    </tr>\n",
       "    <tr>\n",
       "      <th>2019-01-27</th>\n",
       "      <td>123-19-1176</td>\n",
       "      <td>A</td>\n",
       "      <td>Yangon</td>\n",
       "      <td>Member</td>\n",
       "      <td>Male</td>\n",
       "      <td>Health and beauty</td>\n",
       "      <td>58.22</td>\n",
       "      <td>8</td>\n",
       "      <td>23.2880</td>\n",
       "      <td>489.0480</td>\n",
       "      <td>20:33</td>\n",
       "      <td>Ewallet</td>\n",
       "      <td>465.76</td>\n",
       "      <td>4.761905</td>\n",
       "      <td>23.2880</td>\n",
       "      <td>8.4</td>\n",
       "      <td>Sunday</td>\n",
       "      <td>0</td>\n",
       "      <td>1</td>\n",
       "    </tr>\n",
       "    <tr>\n",
       "      <th>2019-02-08</th>\n",
       "      <td>373-73-7910</td>\n",
       "      <td>A</td>\n",
       "      <td>Yangon</td>\n",
       "      <td>Normal</td>\n",
       "      <td>Male</td>\n",
       "      <td>Sports and travel</td>\n",
       "      <td>86.31</td>\n",
       "      <td>7</td>\n",
       "      <td>30.2085</td>\n",
       "      <td>634.3785</td>\n",
       "      <td>10:37</td>\n",
       "      <td>Ewallet</td>\n",
       "      <td>604.17</td>\n",
       "      <td>4.761905</td>\n",
       "      <td>30.2085</td>\n",
       "      <td>5.3</td>\n",
       "      <td>Friday</td>\n",
       "      <td>0</td>\n",
       "      <td>1</td>\n",
       "    </tr>\n",
       "  </tbody>\n",
       "</table>\n",
       "</div>"
      ],
      "text/plain": [
       "             Invoice ID Branch       City Customer type  Gender  \\\n",
       "Date                                                              \n",
       "2019-01-05  750-67-8428      A     Yangon        Member  Female   \n",
       "2019-03-08  226-31-3081      C  Naypyitaw        Normal  Female   \n",
       "2019-03-03  631-41-3108      A     Yangon        Normal    Male   \n",
       "2019-01-27  123-19-1176      A     Yangon        Member    Male   \n",
       "2019-02-08  373-73-7910      A     Yangon        Normal    Male   \n",
       "\n",
       "                      Product line  Unit price  Quantity   Tax 5%     Total  \\\n",
       "Date                                                                          \n",
       "2019-01-05       Health and beauty       74.69         7  26.1415  548.9715   \n",
       "2019-03-08  Electronic accessories       15.28         5   3.8200   80.2200   \n",
       "2019-03-03      Home and lifestyle       46.33         7  16.2155  340.5255   \n",
       "2019-01-27       Health and beauty       58.22         8  23.2880  489.0480   \n",
       "2019-02-08       Sports and travel       86.31         7  30.2085  634.3785   \n",
       "\n",
       "             Time      Payment    cogs  gross margin percentage  gross income  \\\n",
       "Date                                                                            \n",
       "2019-01-05  13:08      Ewallet  522.83                 4.761905       26.1415   \n",
       "2019-03-08  10:29         Cash   76.40                 4.761905        3.8200   \n",
       "2019-03-03  13:23  Credit card  324.31                 4.761905       16.2155   \n",
       "2019-01-27  20:33      Ewallet  465.76                 4.761905       23.2880   \n",
       "2019-02-08  10:37      Ewallet  604.17                 4.761905       30.2085   \n",
       "\n",
       "            Rating   weekday  Female  Male  \n",
       "Date                                        \n",
       "2019-01-05     9.1  Saturday       1     0  \n",
       "2019-03-08     9.6    Friday       1     0  \n",
       "2019-03-03     7.4    Sunday       0     1  \n",
       "2019-01-27     8.4    Sunday       0     1  \n",
       "2019-02-08     5.3    Friday       0     1  "
      ]
     },
     "execution_count": 139,
     "metadata": {},
     "output_type": "execute_result"
    }
   ],
   "source": [
    "df1 = pd.concat([df, gender_dummies], axis = 1)\n",
    "df1.head()"
   ]
  },
  {
   "cell_type": "markdown",
   "id": "4f5b5d23-cbd3-48ce-a104-cdf7472371de",
   "metadata": {},
   "source": [
    "## Spending pattern of Female"
   ]
  },
  {
   "cell_type": "code",
   "execution_count": 140,
   "id": "d7913cb8-7abb-47d7-b280-e9d69250a191",
   "metadata": {},
   "outputs": [
    {
     "data": {
      "image/png": "[encoded data removed]",
      "text/plain": [
       "<Figure size 864x432 with 1 Axes>"
      ]
     },
     "metadata": {
      "needs_background": "light"
     },
     "output_type": "display_data"
    }
   ],
   "source": [
    "plt.figure(figsize = (12,6))\n",
    "sns.barplot(x = 'Product line', y = 'Female', data = df1)\n",
    "plt.title('Female')\n",
    "plt.savefig(\"uni13.png\")"
   ]
  },
  {
   "cell_type": "markdown",
   "id": "4dca0be9-2480-40a3-ae1a-f269618860d8",
   "metadata": {},
   "source": [
    "## Spending pattern of Female"
   ]
  },
  {
   "cell_type": "code",
   "execution_count": 141,
   "id": "e52dab91-0818-4461-814e-b632f446bebd",
   "metadata": {},
   "outputs": [
    {
     "data": {
      "image/png": "[encoded data removed]",
      "text/plain": [
       "<Figure size 864x432 with 1 Axes>"
      ]
     },
     "metadata": {
      "needs_background": "light"
     },
     "output_type": "display_data"
    }
   ],
   "source": [
    "plt.figure(figsize = (12,6))\n",
    "sns.barplot(x = 'Product line', y = 'Male', data = df1)\n",
    "plt.title('Male')\n",
    "plt.savefig(\"uni13.png\")"
   ]
  },
  {
   "cell_type": "markdown",
   "id": "31503b74-30c1-4bc7-addb-d71fa6cfc1ea",
   "metadata": {},
   "source": [
    "## Question 10\n",
    "*How many products are bought by customers?*"
   ]
  },
  {
   "cell_type": "code",
   "execution_count": 142,
   "id": "6413ff3e-624c-4eb9-b7be-e6111414daa1",
   "metadata": {},
   "outputs": [
    {
     "data": {
      "image/png": "[encoded data removed]",
      "text/plain": [
       "<Figure size 864x432 with 1 Axes>"
      ]
     },
     "metadata": {
      "needs_background": "light"
     },
     "output_type": "display_data"
    }
   ],
   "source": [
    "xdata = [1,2,3,4,5,6,7,8,9,10]\n",
    "plt.figure(figsize = (12,6))\n",
    "sns.histplot(df['Quantity'], kde=True)\n",
    "plt.xticks(xdata)\n",
    "plt.savefig(\"uni14.png\")"
   ]
  },
  {
   "cell_type": "markdown",
   "id": "c8cccabc-2006-4db9-b639-024720a524c0",
   "metadata": {},
   "source": [
    "## Question 11\n",
    "*Which day of the week has maximum sales?*"
   ]
  },
  {
   "cell_type": "code",
   "execution_count": 143,
   "id": "d91f21b5-8b79-4c7a-a2ab-1af0d8be28c2",
   "metadata": {},
   "outputs": [
    {
     "data": {
      "image/png": "[encoded data removed]",
      "text/plain": [
       "<Figure size 576x432 with 1 Axes>"
      ]
     },
     "metadata": {
      "needs_background": "light"
     },
     "output_type": "display_data"
    }
   ],
   "source": [
    "plt.figure(figsize=(8, 6))\n",
    "plt.title('Daily Sales by Day of the Week')\n",
    "sns.countplot(x=df['weekday'])\n",
    "plt.savefig(\"uni15.png\")"
   ]
  },
  {
   "cell_type": "markdown",
   "id": "4af8fc06-f1a2-480a-816c-5d7c71d75fae",
   "metadata": {},
   "source": [
    "Sales is highest on Saturdays probably because it is the weekend. \n",
    "\n",
    "Tuesdays is a close second. Mondays is the lowest in sales."
   ]
  },
  {
   "cell_type": "markdown",
   "id": "648bfa8a-425c-4aaa-9d1f-42b3405c492a",
   "metadata": {},
   "source": [
    "## Question 12 \n",
    "*Which hour of the day is the busiest?*"
   ]
  },
  {
   "cell_type": "code",
   "execution_count": 144,
   "id": "49768a5d-6ee9-42e6-8f77-2a6a406248d6",
   "metadata": {},
   "outputs": [
    {
     "data": {
      "image/png": "[encoded data removed]",
      "text/plain": [
       "<Figure size 432x288 with 1 Axes>"
      ]
     },
     "metadata": {
      "needs_background": "light"
     },
     "output_type": "display_data"
    }
   ],
   "source": [
    "df['Time'] = pd.to_datetime(df['Time'])\n",
    "df['Hour'] = (df['Time']).dt.hour\n",
    "\n",
    "df.groupby(['Hour']).size().plot(kind = \"bar\")\n",
    "plt.savefig(\"uni16.png\")"
   ]
  },
  {
   "cell_type": "markdown",
   "id": "fe808902-4f2a-451a-914a-5be19b3c21bc",
   "metadata": {},
   "source": [
    "## Question 13\n",
    "*Which product line should the supermarket focus on?*\n",
    "\n",
    "### Rating of products"
   ]
  },
  {
   "cell_type": "code",
   "execution_count": 145,
   "id": "8846772d-2c1e-44d7-b839-08a2b973c1f5",
   "metadata": {},
   "outputs": [
    {
     "data": {
      "image/png": "[encoded data removed]",
      "text/plain": [
       "<Figure size 864x432 with 1 Axes>"
      ]
     },
     "metadata": {
      "needs_background": "light"
     },
     "output_type": "display_data"
    }
   ],
   "source": [
    "xdata = [0,1,2,3,4,5,6,7,8,9,10]\n",
    "plt.figure(figsize = (12,6))\n",
    "sns.barplot(y = df['Product line'], x = df['Rating'])\n",
    "plt.xticks(xdata)\n",
    "plt.savefig(\"uni17.png\")"
   ]
  },
  {
   "cell_type": "markdown",
   "id": "c9abce24-35e1-47f7-8dde-714b58aaee07",
   "metadata": {},
   "source": [
    "### Quantity purchased by product"
   ]
  },
  {
   "cell_type": "code",
   "execution_count": 146,
   "id": "1f3db00b-707f-4070-a601-d1029df286ae",
   "metadata": {},
   "outputs": [
    {
     "data": {
      "image/png": "[encoded data removed]",
      "text/plain": [
       "<Figure size 432x288 with 1 Axes>"
      ]
     },
     "metadata": {
      "needs_background": "light"
     },
     "output_type": "display_data"
    }
   ],
   "source": [
    "sns.boxenplot(y='Product line', x='Quantity', data=df )\n",
    "plt.savefig(\"uni18.png\")"
   ]
  },
  {
   "cell_type": "markdown",
   "id": "3e810a4a-2efe-4ea6-b917-b4e1ef2b2923",
   "metadata": {},
   "source": [
    "Though the rating for 'fashion accessories' and 'food and beverages' is high but quantity purchased is low. Hence, supply for these products need to be increased."
   ]
  },
  {
   "cell_type": "markdown",
   "id": "767d97fd-48be-4f34-b510-1da49e7cd903",
   "metadata": {},
   "source": [
    "# Question 14\n",
    "*Which city should be chosen for expansion and which products should it focus on?*"
   ]
  },
  {
   "cell_type": "code",
   "execution_count": 147,
   "id": "c7b7fa81-e697-4e45-8b32-4a06b2c55f5d",
   "metadata": {},
   "outputs": [
    {
     "data": {
      "image/png": "[encoded data removed]",
      "text/plain": [
       "<Figure size 1440x504 with 1 Axes>"
      ]
     },
     "metadata": {
      "needs_background": "light"
     },
     "output_type": "display_data"
    }
   ],
   "source": [
    "plt.figure(figsize=(20,7))\n",
    "sns.barplot(x=df['City'], y=df['gross income'], palette='Set1')\n",
    "plt.xlabel('City name', fontsize='16')\n",
    "plt.xticks(fontsize='16')\n",
    "plt.ylabel('Gross income', fontsize='16')\n",
    "plt.yticks(fontsize='16')\n",
    "plt.savefig(\"uni19.png\")"
   ]
  },
  {
   "cell_type": "markdown",
   "id": "91cab513-4fc6-4f95-a5b9-6b2ebe0565ec",
   "metadata": {},
   "source": [
    "Naypyitaw is the most profitable city, hence the expansion plan should be based on this city."
   ]
  },
  {
   "cell_type": "code",
   "execution_count": 148,
   "id": "23cc1516-9464-4066-9b5b-9122d918e61f",
   "metadata": {},
   "outputs": [
    {
     "data": {
      "image/png": "[encoded data removed]",
      "text/plain": [
       "<Figure size 750x500 with 1 Axes>"
      ]
     },
     "metadata": {
      "needs_background": "light"
     },
     "output_type": "display_data"
    },
    {
     "data": {
      "text/plain": [
       "<Figure size 432x288 with 0 Axes>"
      ]
     },
     "metadata": {},
     "output_type": "display_data"
    }
   ],
   "source": [
    "plt.figure(dpi=125)\n",
    "sns.countplot(y='Product line', hue = \"City\", data = df) \n",
    "plt.xlabel('Count')\n",
    "plt.show()\n",
    "plt.savefig(\"uni20.png\")"
   ]
  },
  {
   "cell_type": "markdown",
   "id": "31e57c33-b3f6-4ef9-a8c1-d0a7044dd189",
   "metadata": {},
   "source": [
    "Fashion accessories and food and beverages are the most sold product in Naypyitaw and these products should be focused on for expansion along with electronic accessories."
   ]
  }
 ],
 "metadata": {
  "kernelspec": {
   "display_name": "Python 3 (ipykernel)",
   "language": "python",
   "name": "python3"
  },
  "language_info": {
   "codemirror_mode": {
    "name": "ipython",
    "version": 3
   },
   "file_extension": ".py",
   "mimetype": "text/x-python",
   "name": "python",
   "nbconvert_exporter": "python",
   "pygments_lexer": "ipython3",
   "version": "3.10.2"
  }
 },
 "nbformat": 4,
 "nbformat_minor": 5
}
