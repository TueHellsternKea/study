{
 "cells": [
  {
   "cell_type": "markdown",
   "id": "4a80e84a-995c-4d67-8c43-d9f3b530dd86",
   "metadata": {},
   "source": [
    "# Iris Dataset"
   ]
  },
  {
   "cell_type": "code",
   "execution_count": 14,
   "id": "63f89679-3a66-4c2a-8e15-7540b17c0331",
   "metadata": {},
   "outputs": [],
   "source": [
    "# Modules\n",
    "import numpy as np\n",
    "import pandas as pd \n",
    "from pandas import Series, DataFrame\n",
    "import seaborn as sns\n",
    "import matplotlib.pyplot as plt\n",
    "%matplotlib inline"
   ]
  },
  {
   "cell_type": "code",
   "execution_count": null,
   "id": "321e7f2c-78ac-4971-9c6d-875ed7fd6e74",
   "metadata": {},
   "outputs": [],
   "source": [
    "# Loading dataset\n",
    "df = datasets.load_iris()\n",
    "df"
   ]
  },
  {
   "cell_type": "code",
   "execution_count": 15,
   "id": "694bd604-e11f-442c-837e-b7f849e105ae",
   "metadata": {},
   "outputs": [
    {
     "ename": "NameError",
     "evalue": "name 'load_iris' is not defined",
     "output_type": "error",
     "traceback": [
      "\u001b[1;31m---------------------------------------------------------------------------\u001b[0m",
      "\u001b[1;31mNameError\u001b[0m                                 Traceback (most recent call last)",
      "Input \u001b[1;32mIn [15]\u001b[0m, in \u001b[0;36m<module>\u001b[1;34m\u001b[0m\n\u001b[0;32m      1\u001b[0m url \u001b[38;5;241m=\u001b[39m \u001b[38;5;124m'\u001b[39m\u001b[38;5;124mhttps://raw.githubusercontent.com/Sketchjar/MachineLearningHD/main/iris.csv\u001b[39m\u001b[38;5;124m'\u001b[39m\n\u001b[1;32m----> 2\u001b[0m df \u001b[38;5;241m=\u001b[39m \u001b[43mload_iris\u001b[49m(url)\n\u001b[0;32m      3\u001b[0m iris\u001b[38;5;241m.\u001b[39mhead()\n",
      "\u001b[1;31mNameError\u001b[0m: name 'load_iris' is not defined"
     ]
    }
   ],
   "source": [
    "url = 'https://raw.githubusercontent.com/Sketchjar/MachineLearningHD/main/iris.csv'\n",
    "df = load_iris(url)\n",
    "iris.head()"
   ]
  },
  {
   "cell_type": "code",
   "execution_count": null,
   "id": "96668c78-aa3c-4e80-9fdc-dd0ae63d6dd1",
   "metadata": {},
   "outputs": [],
   "source": [
    "# Target Names\n",
    "print(iris_df.target_names)\n",
    "\n",
    "# Dataset Slicing\n",
    "x_axis = iris_df.data[:, 0]  # Sepal Length\n",
    "y_axis = iris_df.data[:, 2]  # Sepal Width\n",
    "\n",
    "# Plotting\n",
    "plt.scatter(x_axis, y_axis, c=iris_df.target)\n",
    "plt.show()"
   ]
  },
  {
   "cell_type": "markdown",
   "id": "282629f7-41a4-4566-9bfa-809b88c7e435",
   "metadata": {},
   "source": [
    "# Clustering\n",
    "In clustering, the data is divided into several groups with similar traits.\n",
    "\n",
    "K-means clustering is an iterative clustering algorithm that aims to find local maxima in each iteration. Initially, desired number of clusters are chosen. \n",
    "\n",
    "In our example, we know there are three classes involved, so we program the algorithm to group the data into three classes by passing the parameter “n_clusters” into our k-means model. Randomly, three points (inputs) are assigned into three clusters. Based on the centroid distance between each point, the next given inputs are segregated into respected clusters and the centroids are re-computed for all the clusters.\n",
    "\n",
    "Each centroid of a cluster is a collection of feature values which define the resulting groups. Examining the centroid feature weights can be used to qualitatively interpret what kind of group each cluster represent.\n",
    "\n",
    "We import the k-means model from scikit-learn library, fit out features and predict."
   ]
  },
  {
   "cell_type": "code",
   "execution_count": null,
   "id": "a81ceb81-9fa8-4ccb-bdb4-b35ab7f61b3b",
   "metadata": {},
   "outputs": [],
   "source": []
  },
  {
   "cell_type": "code",
   "execution_count": null,
   "id": "8bc70a45-2f93-4bd2-83d0-6b1ca1b20bd7",
   "metadata": {},
   "outputs": [],
   "source": []
  }
 ],
 "metadata": {
  "kernelspec": {
   "display_name": "Python 3 (ipykernel)",
   "language": "python",
   "name": "python3"
  },
  "language_info": {
   "codemirror_mode": {
    "name": "ipython",
    "version": 3
   },
   "file_extension": ".py",
   "mimetype": "text/x-python",
   "name": "python",
   "nbconvert_exporter": "python",
   "pygments_lexer": "ipython3",
   "version": "3.10.2"
  }
 },
 "nbformat": 4,
 "nbformat_minor": 5
}
