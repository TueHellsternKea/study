{
 "cells": [
  {
   "cell_type": "code",
   "execution_count": 4,
   "metadata": {},
   "outputs": [
    {
     "name": "stdin",
     "output_type": "stream",
     "text": [
      "Password: ole\n"
     ]
    },
    {
     "name": "stdout",
     "output_type": "stream",
     "text": [
      "Cracked the password ole in 218286 tries and 0.04509282112121582 seconds!\n"
     ]
    }
   ],
   "source": [
    "# Imports\n",
    "import itertools\n",
    "import time\n",
    "\n",
    "\n",
    "# Brute force function\n",
    "def tryPassword(passwordSet, stringTypeSet):\n",
    "    start = time.time()\n",
    "    chars = stringTypeSet\n",
    "    attempts = 0\n",
    "    for i in range(1, 9):\n",
    "        for letter in itertools.product(chars, repeat=i):\n",
    "            attempts += 1\n",
    "            letter = ''.join(letter)\n",
    "            if letter == passwordSet:\n",
    "                end = time.time()\n",
    "                distance = end - start\n",
    "                return (attempts, distance)\n",
    "\n",
    "password = input(\"Password:\")\n",
    "\n",
    "# Allowed characters\n",
    "stringType = \"1234567890abcdefghijklmnopqrstuvwxyzABCDEFGHIJKLMNOPQRSTUVWXYZ`~!@#$%^&*()_-+=[{]}|:;'\\\",<.>/?\"\n",
    "tries, timeAmount = tryPassword(password, stringType)\n",
    "print(\"Cracked the password %s in %s tries and %s seconds!\" % (password, tries, timeAmount))"
   ]
  },
  {
   "cell_type": "code",
   "execution_count": null,
   "metadata": {},
   "outputs": [],
   "source": []
  }
 ],
 "metadata": {
  "kernelspec": {
   "display_name": "Python 3",
   "language": "python",
   "name": "python3"
  },
  "language_info": {
   "codemirror_mode": {
    "name": "ipython",
    "version": 3
   },
   "file_extension": ".py",
   "mimetype": "text/x-python",
   "name": "python",
   "nbconvert_exporter": "python",
   "pygments_lexer": "ipython3",
   "version": "3.8.6"
  }
 },
 "nbformat": 4,
 "nbformat_minor": 5
}
