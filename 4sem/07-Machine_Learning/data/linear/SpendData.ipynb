{
 "cells": [
  {
   "cell_type": "markdown",
   "id": "c49b5055-cb25-4563-966d-430aebe0f434",
   "metadata": {},
   "source": [
    "# Spend data - Assignment\n",
    "Data from a webshop, with "
   ]
  },
  {
   "cell_type": "code",
   "execution_count": 72,
   "id": "efeae42d-4556-483c-99ae-06e7f81216a2",
   "metadata": {},
   "outputs": [],
   "source": [
    "# Module\n",
    "import numpy as np\n",
    "import pandas as pd\n",
    "import matplotlib.pyplot as plt\n",
    "\n",
    "# sklearn\n",
    "from sklearn.model_selection import train_test_split\n",
    "from sklearn.linear_model import LinearRegression"
   ]
  },
  {
   "cell_type": "code",
   "execution_count": 73,
   "id": "7a0abee4-5bb6-4188-9613-94b9755bd8c7",
   "metadata": {},
   "outputs": [
    {
     "data": {
      "text/html": [
       "<div>\n",
       "<style scoped>\n",
       "    .dataframe tbody tr th:only-of-type {\n",
       "        vertical-align: middle;\n",
       "    }\n",
       "\n",
       "    .dataframe tbody tr th {\n",
       "        vertical-align: top;\n",
       "    }\n",
       "\n",
       "    .dataframe thead th {\n",
       "        text-align: right;\n",
       "    }\n",
       "</style>\n",
       "<table border=\"1\" class=\"dataframe\">\n",
       "  <thead>\n",
       "    <tr style=\"text-align: right;\">\n",
       "      <th></th>\n",
       "      <th>Age</th>\n",
       "      <th>Spend</th>\n",
       "    </tr>\n",
       "  </thead>\n",
       "  <tbody>\n",
       "    <tr>\n",
       "      <th>0</th>\n",
       "      <td>17</td>\n",
       "      <td>10070</td>\n",
       "    </tr>\n",
       "    <tr>\n",
       "      <th>1</th>\n",
       "      <td>17</td>\n",
       "      <td>13278</td>\n",
       "    </tr>\n",
       "    <tr>\n",
       "      <th>2</th>\n",
       "      <td>17</td>\n",
       "      <td>11468</td>\n",
       "    </tr>\n",
       "    <tr>\n",
       "      <th>3</th>\n",
       "      <td>17</td>\n",
       "      <td>15234</td>\n",
       "    </tr>\n",
       "    <tr>\n",
       "      <th>4</th>\n",
       "      <td>18</td>\n",
       "      <td>19482</td>\n",
       "    </tr>\n",
       "  </tbody>\n",
       "</table>\n",
       "</div>"
      ],
      "text/plain": [
       "   Age  Spend\n",
       "0   17  10070\n",
       "1   17  13278\n",
       "2   17  11468\n",
       "3   17  15234\n",
       "4   18  19482"
      ]
     },
     "execution_count": 73,
     "metadata": {},
     "output_type": "execute_result"
    }
   ],
   "source": [
    "# Import data\n",
    "df = pd.read_excel('spend_age.xlsx', skiprows=2)\n",
    "df.head()"
   ]
  },
  {
   "cell_type": "markdown",
   "id": "672cbad3-ee2e-40ce-a6f5-a24e0d673cdb",
   "metadata": {},
   "source": [
    "# Spend pr. age group - MEAN"
   ]
  },
  {
   "cell_type": "code",
   "execution_count": 74,
   "id": "070be659-f98c-4c96-baff-135b146069c4",
   "metadata": {},
   "outputs": [
    {
     "data": {
      "text/html": [
       "<div>\n",
       "<style scoped>\n",
       "    .dataframe tbody tr th:only-of-type {\n",
       "        vertical-align: middle;\n",
       "    }\n",
       "\n",
       "    .dataframe tbody tr th {\n",
       "        vertical-align: top;\n",
       "    }\n",
       "\n",
       "    .dataframe thead th {\n",
       "        text-align: right;\n",
       "    }\n",
       "</style>\n",
       "<table border=\"1\" class=\"dataframe\">\n",
       "  <thead>\n",
       "    <tr style=\"text-align: right;\">\n",
       "      <th></th>\n",
       "      <th>Age</th>\n",
       "      <th>Spend</th>\n",
       "    </tr>\n",
       "  </thead>\n",
       "  <tbody>\n",
       "    <tr>\n",
       "      <th>0</th>\n",
       "      <td>17</td>\n",
       "      <td>12512.500000</td>\n",
       "    </tr>\n",
       "    <tr>\n",
       "      <th>1</th>\n",
       "      <td>18</td>\n",
       "      <td>17790.888889</td>\n",
       "    </tr>\n",
       "    <tr>\n",
       "      <th>2</th>\n",
       "      <td>19</td>\n",
       "      <td>20788.916667</td>\n",
       "    </tr>\n",
       "    <tr>\n",
       "      <th>3</th>\n",
       "      <td>20</td>\n",
       "      <td>23932.700000</td>\n",
       "    </tr>\n",
       "    <tr>\n",
       "      <th>4</th>\n",
       "      <td>21</td>\n",
       "      <td>27676.416667</td>\n",
       "    </tr>\n",
       "    <tr>\n",
       "      <th>5</th>\n",
       "      <td>22</td>\n",
       "      <td>32052.142857</td>\n",
       "    </tr>\n",
       "    <tr>\n",
       "      <th>6</th>\n",
       "      <td>23</td>\n",
       "      <td>34245.428571</td>\n",
       "    </tr>\n",
       "    <tr>\n",
       "      <th>7</th>\n",
       "      <td>24</td>\n",
       "      <td>39489.428571</td>\n",
       "    </tr>\n",
       "    <tr>\n",
       "      <th>8</th>\n",
       "      <td>25</td>\n",
       "      <td>37243.727273</td>\n",
       "    </tr>\n",
       "    <tr>\n",
       "      <th>9</th>\n",
       "      <td>26</td>\n",
       "      <td>39468.538462</td>\n",
       "    </tr>\n",
       "    <tr>\n",
       "      <th>10</th>\n",
       "      <td>27</td>\n",
       "      <td>41980.500000</td>\n",
       "    </tr>\n",
       "    <tr>\n",
       "      <th>11</th>\n",
       "      <td>28</td>\n",
       "      <td>39081.727273</td>\n",
       "    </tr>\n",
       "    <tr>\n",
       "      <th>12</th>\n",
       "      <td>29</td>\n",
       "      <td>41279.666667</td>\n",
       "    </tr>\n",
       "    <tr>\n",
       "      <th>13</th>\n",
       "      <td>30</td>\n",
       "      <td>41053.100000</td>\n",
       "    </tr>\n",
       "  </tbody>\n",
       "</table>\n",
       "</div>"
      ],
      "text/plain": [
       "    Age         Spend\n",
       "0    17  12512.500000\n",
       "1    18  17790.888889\n",
       "2    19  20788.916667\n",
       "3    20  23932.700000\n",
       "4    21  27676.416667\n",
       "5    22  32052.142857\n",
       "6    23  34245.428571\n",
       "7    24  39489.428571\n",
       "8    25  37243.727273\n",
       "9    26  39468.538462\n",
       "10   27  41980.500000\n",
       "11   28  39081.727273\n",
       "12   29  41279.666667\n",
       "13   30  41053.100000"
      ]
     },
     "execution_count": 74,
     "metadata": {},
     "output_type": "execute_result"
    }
   ],
   "source": [
    "group_age_spend = df[['Age', 'Spend']].groupby(['Age'], as_index=False).mean().sort_values(by='Age')\n",
    "group_age_spend"
   ]
  },
  {
   "cell_type": "code",
   "execution_count": 85,
   "id": "5ae59ceb-adea-49a6-a0c3-8d912a0805e2",
   "metadata": {},
   "outputs": [
    {
     "data": {
      "image/png": "[encoded data removed]",
      "text/plain": [
       "<Figure size 432x288 with 1 Axes>"
      ]
     },
     "metadata": {
      "needs_background": "light"
     },
     "output_type": "display_data"
    }
   ],
   "source": [
    "plt.title('Mean spend pr. age group')\n",
    "plt.bar(x='Age', height='Spend', data=group_age_spend)\n",
    "plt.savefig(\"./image/spend_3.jpg\")"
   ]
  },
  {
   "cell_type": "markdown",
   "id": "25e81c8a-4aea-4927-8ec5-969b7bf801a3",
   "metadata": {},
   "source": [
    "# Data Preprocessing\n",
    "Now that we have imported the dataset, we will perform data preprocessing."
   ]
  },
  {
   "cell_type": "code",
   "execution_count": 76,
   "id": "9e8485cf-7733-4a0f-829f-d28dd4194f28",
   "metadata": {},
   "outputs": [],
   "source": [
    "X = df.iloc[:,:-1].values  # Independent variable array\n",
    "y = df.iloc[:,1].values    # Dependent variable vector"
   ]
  },
  {
   "cell_type": "markdown",
   "id": "8c87bbe5-42de-4181-b5d1-6dd66d855f41",
   "metadata": {},
   "source": [
    "# Splitting the dataset"
   ]
  },
  {
   "cell_type": "code",
   "execution_count": 77,
   "id": "f5ecaa22-ae4d-424e-a294-dc34578ea3ee",
   "metadata": {},
   "outputs": [],
   "source": [
    "X_train, X_test, y_train, y_test = train_test_split(X,y,test_size=1/3,random_state=0)"
   ]
  },
  {
   "cell_type": "markdown",
   "id": "bdc15e9d-7ce9-4e11-a83d-10172cf16c32",
   "metadata": {},
   "source": [
    "# Fitting linear regression model into the training set"
   ]
  },
  {
   "cell_type": "code",
   "execution_count": 78,
   "id": "748273c6-8ef6-4f68-9c64-c3dd154acce5",
   "metadata": {},
   "outputs": [
    {
     "data": {
      "text/plain": [
       "LinearRegression()"
      ]
     },
     "execution_count": 78,
     "metadata": {},
     "output_type": "execute_result"
    }
   ],
   "source": [
    "regressor = LinearRegression()\n",
    "regressor.fit(X_train, y_train) # Produces the linear eqn for the data"
   ]
  },
  {
   "cell_type": "markdown",
   "id": "c62e817f-4400-408b-83bc-3f987f823f5d",
   "metadata": {},
   "source": [
    "# Predicting the test set results"
   ]
  },
  {
   "cell_type": "code",
   "execution_count": 79,
   "id": "337819b1-a216-46db-8ff1-d600e5e9abe6",
   "metadata": {},
   "outputs": [
    {
     "data": {
      "text/plain": [
       "array([25461.22770811, 44053.17263994, 31658.54268538, 37855.85766266,\n",
       "       23395.45604901, 21329.68438992, 27526.9993672 , 37855.85766266,\n",
       "       37855.85766266, 29592.77102629, 33724.31434447, 35790.08600357,\n",
       "       33724.31434447, 44053.17263994, 37855.85766266, 27526.9993672 ,\n",
       "       25461.22770811, 37855.85766266, 31658.54268538, 39921.62932175,\n",
       "       29592.77102629, 21329.68438992, 44053.17263994, 33724.31434447,\n",
       "       27526.9993672 , 35790.08600357, 44053.17263994, 29592.77102629,\n",
       "       35790.08600357, 29592.77102629, 23395.45604901, 41987.40098084,\n",
       "       37855.85766266, 35790.08600357, 23395.45604901, 31658.54268538,\n",
       "       35790.08600357, 44053.17263994, 25461.22770811, 46118.94429903,\n",
       "       46118.94429903, 27526.9993672 , 23395.45604901, 29592.77102629,\n",
       "       25461.22770811, 46118.94429903, 31658.54268538, 19263.91273083,\n",
       "       44053.17263994, 27526.9993672 , 21329.68438992])"
      ]
     },
     "execution_count": 79,
     "metadata": {},
     "output_type": "execute_result"
    }
   ],
   "source": [
    "y_pred = regressor.predict(X_test) \n",
    "y_pred"
   ]
  },
  {
   "cell_type": "code",
   "execution_count": 80,
   "id": "9d2862a3-dc06-4863-9fcc-2608d465038a",
   "metadata": {},
   "outputs": [
    {
     "data": {
      "text/plain": [
       "array([26406, 49005, 32489, 36158, 20050, 18393, 30071, 38745, 42642,\n",
       "       28975, 39254, 39897, 38734, 49919, 36548, 24514, 22712, 41263,\n",
       "       34656, 47833, 33351, 14198, 33910, 39666, 29684, 39849, 38680,\n",
       "       30793, 37845, 33147, 18255, 39082, 42891, 33357, 21503, 35738,\n",
       "       33427, 45351, 26334, 44254, 33655, 29463, 22794, 34693, 22134,\n",
       "       47623, 31656, 11468, 32666, 25676, 19044], dtype=int64)"
      ]
     },
     "execution_count": 80,
     "metadata": {},
     "output_type": "execute_result"
    }
   ],
   "source": [
    "y_test"
   ]
  },
  {
   "cell_type": "markdown",
   "id": "a1b68452-54ed-49d9-8683-cdca10fa0835",
   "metadata": {},
   "source": [
    "- y_test is the real salary of the test set.\n",
    "- y_pred are the predicted salaries."
   ]
  },
  {
   "cell_type": "markdown",
   "id": "0823a81e-d6ff-40a0-ac10-7244c908d165",
   "metadata": {},
   "source": [
    "# Visualizing the results\n",
    "Let’s see what the results of our code will look like when we visualize it.\n",
    "\n",
    "- Plotting the points (observations)\n",
    "- Plotting the regression line"
   ]
  },
  {
   "cell_type": "code",
   "execution_count": 86,
   "id": "0a0e3eb3-402c-42f0-a4f0-0d2e3a226b76",
   "metadata": {},
   "outputs": [
    {
     "data": {
      "image/png": "[encoded data removed]",
      "text/plain": [
       "<Figure size 432x288 with 1 Axes>"
      ]
     },
     "metadata": {
      "needs_background": "light"
     },
     "output_type": "display_data"
    }
   ],
   "source": [
    "# Plot for the Training set\n",
    "plt.scatter(X_train, y_train, color='red') # Plotting the observation \n",
    "plt.plot(X_train, regressor.predict(X_train), color='blue') # Plotting the regression line\n",
    "plt.title('Age vs. spend (Training set)')\n",
    "plt.xlabel('Age')\n",
    "plt.ylabel('Spend')\n",
    "plt.savefig(\"./image/spend_4.jpg\")\n",
    "plt.show()"
   ]
  },
  {
   "cell_type": "code",
   "execution_count": 87,
   "id": "c03f74cd-293b-4b3b-89a4-533f80c719ac",
   "metadata": {},
   "outputs": [
    {
     "data": {
      "image/png": "[encoded data removed]",
      "text/plain": [
       "<Figure size 432x288 with 1 Axes>"
      ]
     },
     "metadata": {
      "needs_background": "light"
     },
     "output_type": "display_data"
    }
   ],
   "source": [
    "# Plot for the Testing set\n",
    "plt.scatter(X_test, y_test, color='red') # Plotting the observation \n",
    "plt.plot(X_train, regressor.predict(X_train), color='blue') # Plotting the regression line\n",
    "plt.title('Age vs. spend (Testing sett)')\n",
    "plt.xlabel('Age') \n",
    "plt.ylabel('Spend') \n",
    "plt.savefig(\"./image/spend_5.jpg\")\n",
    "plt.show() "
   ]
  },
  {
   "cell_type": "code",
   "execution_count": null,
   "id": "95902b9d-ebfe-4726-9a1e-87ab258aa80a",
   "metadata": {},
   "outputs": [],
   "source": []
  }
 ],
 "metadata": {
  "kernelspec": {
   "display_name": "Python 3 (ipykernel)",
   "language": "python",
   "name": "python3"
  },
  "language_info": {
   "codemirror_mode": {
    "name": "ipython",
    "version": 3
   },
   "file_extension": ".py",
   "mimetype": "text/x-python",
   "name": "python",
   "nbconvert_exporter": "python",
   "pygments_lexer": "ipython3",
   "version": "3.9.7"
  }
 },
 "nbformat": 4,
 "nbformat_minor": 5
}
