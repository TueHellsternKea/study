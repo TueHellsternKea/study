{
 "cells": [
  {
   "cell_type": "code",
   "execution_count": 2,
   "id": "6410d2c8",
   "metadata": {},
   "outputs": [
    {
     "name": "stdin",
     "output_type": "stream",
     "text": [
      "Password: DetteErEnTest1234567890\n"
     ]
    },
    {
     "ename": "KeyboardInterrupt",
     "evalue": "",
     "output_type": "error",
     "traceback": [
      "\u001b[1;31m---------------------------------------------------------------------------\u001b[0m",
      "\u001b[1;31mKeyboardInterrupt\u001b[0m                         Traceback (most recent call last)",
      "Input \u001b[1;32mIn [2]\u001b[0m, in \u001b[0;36m<module>\u001b[1;34m\u001b[0m\n\u001b[0;32m     22\u001b[0m \u001b[38;5;66;03m# Allowed characters\u001b[39;00m\n\u001b[0;32m     23\u001b[0m stringType \u001b[38;5;241m=\u001b[39m \u001b[38;5;124m\"\u001b[39m\u001b[38;5;124m1234567890abcdefghijklmnopqrstuvwxyzABCDEFGHIJKLMNOPQRSTUVWXYZ`~!@#$\u001b[39m\u001b[38;5;124m%\u001b[39m\u001b[38;5;124m^&*()_-+=[\u001b[39m\u001b[38;5;124m{\u001b[39m\u001b[38;5;124m]}|:;\u001b[39m\u001b[38;5;124m'\u001b[39m\u001b[38;5;130;01m\\\"\u001b[39;00m\u001b[38;5;124m,<.>/?\u001b[39m\u001b[38;5;124m\"\u001b[39m\n\u001b[1;32m---> 24\u001b[0m tries, timeAmount \u001b[38;5;241m=\u001b[39m \u001b[43mtryPassword\u001b[49m\u001b[43m(\u001b[49m\u001b[43mpassword\u001b[49m\u001b[43m,\u001b[49m\u001b[43m \u001b[49m\u001b[43mstringType\u001b[49m\u001b[43m)\u001b[49m\n\u001b[0;32m     25\u001b[0m \u001b[38;5;28mprint\u001b[39m(\u001b[38;5;124m\"\u001b[39m\u001b[38;5;124mCracked the password \u001b[39m\u001b[38;5;132;01m%s\u001b[39;00m\u001b[38;5;124m in \u001b[39m\u001b[38;5;132;01m%s\u001b[39;00m\u001b[38;5;124m tries and \u001b[39m\u001b[38;5;132;01m%s\u001b[39;00m\u001b[38;5;124m seconds!\u001b[39m\u001b[38;5;124m\"\u001b[39m \u001b[38;5;241m%\u001b[39m (password, tries, timeAmount))\n",
      "Input \u001b[1;32mIn [2]\u001b[0m, in \u001b[0;36mtryPassword\u001b[1;34m(passwordSet, stringTypeSet)\u001b[0m\n\u001b[0;32m     13\u001b[0m attempts \u001b[38;5;241m+\u001b[39m\u001b[38;5;241m=\u001b[39m \u001b[38;5;241m1\u001b[39m\n\u001b[0;32m     14\u001b[0m letter \u001b[38;5;241m=\u001b[39m \u001b[38;5;124m'\u001b[39m\u001b[38;5;124m'\u001b[39m\u001b[38;5;241m.\u001b[39mjoin(letter)\n\u001b[1;32m---> 15\u001b[0m \u001b[38;5;28;01mif\u001b[39;00m \u001b[43mletter\u001b[49m\u001b[43m \u001b[49m\u001b[38;5;241;43m==\u001b[39;49m\u001b[43m \u001b[49m\u001b[43mpasswordSet\u001b[49m:\n\u001b[0;32m     16\u001b[0m     end \u001b[38;5;241m=\u001b[39m time\u001b[38;5;241m.\u001b[39mtime()\n\u001b[0;32m     17\u001b[0m     distance \u001b[38;5;241m=\u001b[39m end \u001b[38;5;241m-\u001b[39m start\n",
      "\u001b[1;31mKeyboardInterrupt\u001b[0m: "
     ]
    }
   ],
   "source": [
    "# Imports\n",
    "import itertools\n",
    "import time\n",
    "\n",
    "\n",
    "# Brute force function\n",
    "def tryPassword(passwordSet, stringTypeSet):\n",
    "    start = time.time()\n",
    "    chars = stringTypeSet\n",
    "    attempts = 0\n",
    "    for i in range(1, 9):\n",
    "        for letter in itertools.product(chars, repeat=i):\n",
    "            attempts += 1\n",
    "            letter = ''.join(letter)\n",
    "            if letter == passwordSet:\n",
    "                end = time.time()\n",
    "                distance = end - start\n",
    "                return (attempts, distance)\n",
    "\n",
    "password = input(\"Password:\")\n",
    "\n",
    "# Allowed characters\n",
    "stringType = \"1234567890abcdefghijklmnopqrstuvwxyzABCDEFGHIJKLMNOPQRSTUVWXYZ`~!@#$%^&*()_-+=[{]}|:;'\\\",<.>/?\"\n",
    "tries, timeAmount = tryPassword(password, stringType)\n",
    "print(\"Cracked the password %s in %s tries and %s seconds!\" % (password, tries, timeAmount))"
   ]
  },
  {
   "cell_type": "code",
   "execution_count": null,
   "id": "2f58ad0b",
   "metadata": {},
   "outputs": [],
   "source": []
  }
 ],
 "metadata": {
  "kernelspec": {
   "display_name": "Python 3 (ipykernel)",
   "language": "python",
   "name": "python3"
  },
  "language_info": {
   "codemirror_mode": {
    "name": "ipython",
    "version": 3
   },
   "file_extension": ".py",
   "mimetype": "text/x-python",
   "name": "python",
   "nbconvert_exporter": "python",
   "pygments_lexer": "ipython3",
   "version": "3.10.2"
  }
 },
 "nbformat": 4,
 "nbformat_minor": 5
}
