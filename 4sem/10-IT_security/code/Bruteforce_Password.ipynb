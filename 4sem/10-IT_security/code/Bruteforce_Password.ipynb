{
 "cells": [
  {
   "cell_type": "code",
   "execution_count": 1,
   "id": "6410d2c8",
   "metadata": {},
   "outputs": [
    {
     "name": "stdin",
     "output_type": "stream",
     "text": [
      "Password: Tue\n"
     ]
    },
    {
     "name": "stdout",
     "output_type": "stream",
     "text": [
      "Cracked the password Tue in 487242 tries and 0.09534335136413574 seconds!\n"
     ]
    }
   ],
   "source": [
    "# Imports\n",
    "import itertools\n",
    "import time\n",
    "\n",
    "\n",
    "# Brute force function\n",
    "def tryPassword(passwordSet, stringTypeSet):\n",
    "    start = time.time()\n",
    "    chars = stringTypeSet\n",
    "    attempts = 0\n",
    "    for i in range(1, 9):\n",
    "        for letter in itertools.product(chars, repeat=i):\n",
    "            attempts += 1\n",
    "            letter = ''.join(letter)\n",
    "            if letter == passwordSet:\n",
    "                end = time.time()\n",
    "                distance = end - start\n",
    "                return (attempts, distance)\n",
    "\n",
    "password = input(\"Password:\")\n",
    "\n",
    "# Allowed characters\n",
    "stringType = \"1234567890abcdefghijklmnopqrstuvwxyzABCDEFGHIJKLMNOPQRSTUVWXYZ`~!@#$%^&*()_-+=[{]}|:;'\\\",<.>/?\"\n",
    "tries, timeAmount = tryPassword(password, stringType)\n",
    "print(\"Cracked the password %s in %s tries and %s seconds!\" % (password, tries, timeAmount))"
   ]
  },
  {
   "cell_type": "code",
   "execution_count": null,
   "id": "2f58ad0b",
   "metadata": {},
   "outputs": [],
   "source": []
  }
 ],
 "metadata": {
  "kernelspec": {
   "display_name": "Python 3 (ipykernel)",
   "language": "python",
   "name": "python3"
  },
  "language_info": {
   "codemirror_mode": {
    "name": "ipython",
    "version": 3
   },
   "file_extension": ".py",
   "mimetype": "text/x-python",
   "name": "python",
   "nbconvert_exporter": "python",
   "pygments_lexer": "ipython3",
   "version": "3.10.4"
  }
 },
 "nbformat": 4,
 "nbformat_minor": 5
}
